{
 "cells": [
  {
   "cell_type": "markdown",
   "metadata": {},
   "source": [
    "# 主要内容\n",
    "- 坚持写blog\n",
    "- jupyter notebook的用法\n",
    "- 变量\n",
    "- 跟vi/vim的编辑模式很像"
   ]
  },
  {
   "cell_type": "code",
   "execution_count": 1,
   "metadata": {},
   "outputs": [
    {
     "name": "stdout",
     "output_type": "stream",
     "text": [
      "hello world\n"
     ]
    }
   ],
   "source": [
    "print(\"hello world\")"
   ]
  },
  {
   "cell_type": "code",
   "execution_count": 13,
   "metadata": {},
   "outputs": [],
   "source": [
    "# 声明的三种格式\n",
    "# 格式1\n",
    "s1 =\"我爱王晓静\"\n",
    "\n",
    "# 格式2\n",
    "s2=s1=\"i love u\"\n",
    "\n",
    "# type.3\n",
    "\n",
    "s1, s2, s3 =\"i love u\", \"i dont love u\", \"i love\"\n",
    "\n",
    "\n",
    "\n"
   ]
  },
  {
   "cell_type": "markdown",
   "metadata": {},
   "source": [
    "# varis type\n",
    "- 19, nineteen, 严格意义上讲python职友一个类型\n",
    "- 标准数据类型\n",
    "  - 数字number\n",
    "  - 字符串类型 str\n",
    "  - 列表 list\n",
    "  - 元组 tuple\n",
    "  - 字典 dict\n",
    "  - 集合 set"
   ]
  },
  {
   "cell_type": "markdown",
   "metadata": {},
   "source": [
    "# 数字类型 number\n",
    "- python中的数字没有大小限制\n",
    "# 常见数字分类\n",
    "- 整数\n",
    "  - 没有小鼠部分\n",
    "  - 包含正数、负数，0\n",
    "  - 二进制\n",
    "    - 只有01\n",
    "    - 以0b开头的01串\n",
    "    - 例如：\n",
    "      - 0b110\n",
    "      - ob11110\n",
    "  - 八进制\n",
    "    - 以0o开头的0到7之间的数字串\n",
    "    - 例如：\n",
    "      - 0o71\n",
    "  - 十六进制\n",
    "    - 以0x组成的0-9，a-f构成的串\n",
    "    \n",
    "    \n",
    "- 浮点数\n",
    "- 科学计数法\n",
    "- 复数"
   ]
  },
  {
   "cell_type": "code",
   "execution_count": 20,
   "metadata": {},
   "outputs": [
    {
     "name": "stdout",
     "output_type": "stream",
     "text": [
      "6\n",
      "30\n"
     ]
    }
   ],
   "source": [
    "# 二进制定义\n",
    "a1 =(0b110)\n",
    "print(a1)\n",
    "\n",
    "a2 =(0b11110)\n",
    "print(a2)"
   ]
  },
  {
   "cell_type": "code",
   "execution_count": 21,
   "metadata": {},
   "outputs": [
    {
     "name": "stdout",
     "output_type": "stream",
     "text": [
      "57\n"
     ]
    }
   ],
   "source": [
    "# 八进制案例\n",
    "a3 =(0o71)\n",
    "print(a3)"
   ]
  },
  {
   "cell_type": "code",
   "execution_count": 25,
   "metadata": {},
   "outputs": [
    {
     "name": "stdout",
     "output_type": "stream",
     "text": [
      "65535\n",
      "21490\n"
     ]
    }
   ],
   "source": [
    "# 十六进制案例\n",
    "a4 =(0xffff)\n",
    "print(a4)\n",
    "a5 =(0x53f2)\n",
    "print(a5)"
   ]
  },
  {
   "cell_type": "markdown",
   "metadata": {},
   "source": [
    "## 浮点数\n",
    "- 就是通俗意义上的小数量\n",
    "- 常见的案例格式\n",
    "  - 3.14159\n",
    "  - 3.\n",
    "  - 0.5\n",
    "  - .4\n",
    "- 科学计数法\n",
    "  - 定义和数学定义一致\n",
    "  - 写法就是e后面跟整数用来表示10的指数\n",
    "  - "
   ]
  },
  {
   "cell_type": "code",
   "execution_count": 5,
   "metadata": {},
   "outputs": [
    {
     "name": "stdout",
     "output_type": "stream",
     "text": [
      "184\n",
      "184.0\n",
      "0.2\n"
     ]
    }
   ],
   "source": [
    "# 科学计数法\n",
    "\n",
    "height = 184\n",
    "print(184)\n",
    "\n",
    "height = 1.84e2\n",
    "print(height)\n",
    "\n",
    "a= .2\n",
    "print(a)"
   ]
  },
  {
   "cell_type": "markdown",
   "metadata": {},
   "source": [
    "# 复数 complex\n",
    "- 与数学上定义一致\n",
    "- 复数的虚部用j/J表示\n",
    "- 例如：\n",
    "  - 5+4j\n",
    "  - 4j\n",
    "  - (4j)\n",
    "  "
   ]
  },
  {
   "cell_type": "code",
   "execution_count": 6,
   "metadata": {},
   "outputs": [
    {
     "name": "stdout",
     "output_type": "stream",
     "text": [
      "4j\n"
     ]
    }
   ],
   "source": [
    "a = 4j\n",
    "print(a)"
   ]
  },
  {
   "cell_type": "markdown",
   "metadata": {},
   "source": [
    "# 布尔值\n",
    "- 布尔值就是用来表示真假的值\n",
    "- 只有两个值：True/False\n",
    "- 在python中，布尔值可以当数字使用\n",
    "  - 布尔值如果当数字使用，True=1，False=0\n",
    "  - 如果数字用来当作布尔值使用，0=False，其余当作True\n",
    " "
   ]
  },
  {
   "cell_type": "code",
   "execution_count": 9,
   "metadata": {},
   "outputs": [
    {
     "name": "stdout",
     "output_type": "stream",
     "text": [
      "19\n",
      "18\n",
      "复数是True\n"
     ]
    }
   ],
   "source": [
    "# 布尔值当作数字使用\n",
    "\n",
    "age = 18 + True\n",
    "print(age)\n",
    "\n",
    "age = 18 + False\n",
    "print(age)\n",
    "\n",
    "# 判断语句\n",
    "a = -1\n",
    "if a:\n",
    "    print(\"复数是True\")\n",
    "else:\n",
    "    print(\"复数是False\")\n",
    "        "
   ]
  },
  {
   "cell_type": "markdown",
   "metadata": {},
   "source": [
    "# 字符串\n",
    "- 表达文字信息的内容，比如“我爱你”\n",
    "- 形式上是引号引起来的一段内容\n",
    "- 引号包括\n",
    "  - 单引号，只能表示一行\n",
    "  - 双引号，只能表示一行\n",
    "  - 三引号，可以用来表示多行信息\n",
    "- 单引号、双引号含义一致\n"
   ]
  },
  {
   "cell_type": "code",
   "execution_count": 20,
   "metadata": {},
   "outputs": [
    {
     "name": "stdout",
     "output_type": "stream",
     "text": [
      "wangxiaojing\n",
      "i love u\n",
      "\n",
      "我\n",
      "爱你\n",
      "就像北国的雪\n",
      "\n",
      "\n",
      "我\n",
      "爱你\n",
      "就像北国的雪\n",
      "\n"
     ]
    }
   ],
   "source": [
    "# 字符串案例\n",
    "\n",
    "love = \"wangxiaojing\"\n",
    "print(love)\n",
    "\n",
    "love2='i love u'\n",
    "print(love2)\n",
    "\n",
    "# 三引号可以表示多行\n",
    "love3=\"\"\"\n",
    "我\n",
    "爱你\n",
    "就像北国的雪\n",
    "\"\"\"\n",
    "print(love3)\n",
    "\n",
    "love4='''\n",
    "我\n",
    "爱你\n",
    "就像北国的雪\n",
    "'''\n",
    "print(love4)"
   ]
  },
  {
   "cell_type": "markdown",
   "metadata": {},
   "source": [
    "# None类型\n",
    "- 表示没有，通常用来占位\n",
    "- 比如返回，用来表示返回一个空"
   ]
  },
  {
   "cell_type": "markdown",
   "metadata": {},
   "source": [
    "# 表达式\n",
    "- 由一个或者几个数字或者变量或者晕眩符合成第一行代码\n",
    "- 通常返回一个结果\n",
    "\n",
    "# 运算符\n",
    "- 由一个以上的值经过一系列的运算得到新值的过程就叫运算\n",
    "- 用来操作运算的符号叫运算符\n",
    "- 运算符分类\n",
    "  - 算数运算符\n",
    "  - 比较或者关系运算符\n",
    "  - 赋值运算符\n",
    "  - 逻辑运算符\n",
    "  - 位运算\n",
    "  - 成员运算符\n",
    "  - 身份运算符"
   ]
  },
  {
   "cell_type": "code",
   "execution_count": 1,
   "metadata": {},
   "outputs": [
    {
     "name": "stdout",
     "output_type": "stream",
     "text": [
      "3\n"
     ]
    }
   ],
   "source": [
    "# 表达式案例\n",
    "a = 1 + 2\n",
    "print(a)"
   ]
  },
  {
   "cell_type": "markdown",
   "metadata": {},
   "source": [
    "## 算数运算符\n",
    "\n",
    "- 用来进行算术运算的符号\n",
    "- 通常用来表示加减乘除\n",
    "- python没有自增自减运算符"
   ]
  },
  {
   "cell_type": "code",
   "execution_count": 14,
   "metadata": {
    "scrolled": true
   },
   "outputs": [
    {
     "name": "stdout",
     "output_type": "stream",
     "text": [
      "7\n",
      "11\n",
      "16\n",
      "4.5\n",
      "4\n",
      "1\n",
      "-3\n",
      "49\n"
     ]
    }
   ],
   "source": [
    "# 算数运算符的案例\n",
    "\n",
    "# 加减乘跟数学意义基本一致\n",
    "\n",
    "a = 9 - 2\n",
    "print(a)\n",
    "\n",
    "b = 9 + 2\n",
    "print(b)\n",
    "\n",
    "c = 8 * 2\n",
    "print(c)\n",
    "\n",
    "# python除法分为普通除法、地板除、取余\n",
    "\n",
    "# 正常除法\n",
    "# 此操作符合在python2.x和3.x有些不同\n",
    "a = 9 / 2\n",
    "print(a)\n",
    "\n",
    "# 地板除，取整\n",
    "a = 9 // 2\n",
    "print(a)\n",
    "\n",
    "# 取余\n",
    "a = 9 % 2\n",
    "print(a)\n",
    "\n",
    "# 除以负数的结果\n",
    "# 理解这个结果参考取余的定义\n",
    "a = 9 % -4\n",
    "print(a)\n",
    "\n",
    "# 指数\n",
    "a = 7 ** 2\n",
    "print(a)"
   ]
  },
  {
   "cell_type": "markdown",
   "metadata": {},
   "source": [
    "# 比较运算符\n",
    "- 对两个内容进行比较的运算符\n",
    "- 结果一定是布尔值，即True/False\n",
    "\n"
   ]
  },
  {
   "cell_type": "code",
   "execution_count": 18,
   "metadata": {},
   "outputs": [
    {
     "name": "stdout",
     "output_type": "stream",
     "text": [
      "False\n",
      "True\n",
      "False\n",
      "True\n"
     ]
    }
   ],
   "source": [
    "# 等于 ==\n",
    "a = 3 == 4\n",
    "print(a)\n",
    "\n",
    "# 不等于 ！=\n",
    "\n",
    "a = 3 != 4\n",
    "print(a)\n",
    "\n",
    "# 其他的符号是\n",
    "# >, >=, <, <=\n",
    "\n",
    "print( 3 >= 8)\n",
    "\n",
    "print(\"wangxiaojing\" > \"liudana\")"
   ]
  },
  {
   "cell_type": "markdown",
   "metadata": {},
   "source": [
    "# 赋值运算符\n",
    "\n",
    "- 把一个值放到变量里边去\n"
   ]
  },
  {
   "cell_type": "code",
   "execution_count": 24,
   "metadata": {},
   "outputs": [
    {
     "name": "stdout",
     "output_type": "stream",
     "text": [
      "103\n",
      "106\n"
     ]
    }
   ],
   "source": [
    "# 赋值符号 =\n",
    "a = 9\n",
    "\n",
    "# 复杂赋值\n",
    "a = b = 9\n",
    "a,b = 1,2\n",
    "\n",
    "# 赋值的缩写\n",
    "cc = 100\n",
    "cc = cc + 3\n",
    "print(cc)\n",
    "\n",
    "# 注意下面符号仅仅是一个缩写\n",
    "cc += 3 # cc = cc + 3\n",
    "print(cc)\n",
    "\n",
    "## 所有数学运算符都可以缩写\n",
    "# -=，*=，/=，//=，%=，**=，都是缩写形式\n",
    "#python里面没有++，--"
   ]
  },
  {
   "cell_type": "markdown",
   "metadata": {},
   "source": [
    "# 逻辑运算符\n",
    "- 对布尔类型变量或者只进行运算得符号\n",
    "- and：逻辑与\n",
    "- or：逻辑或\n",
    "- not：逻辑非\n",
    "- python里面的逻辑运算没有异或\n",
    "- 运算规则:\n",
    "  - and看成乘法，or看成加法\n",
    "  - True看成1，False看成0\n",
    "  - 则逻辑运算就能转换成整数数学运算\n",
    "  - 最后结果如果是0则为False，否则为True\n",
    "- 逻辑运算的短路问题\n",
    "  - 逻辑运算式，按照运算顺序计算，一旦能够确定整个式子未来的值，则不再进行计算，直接返回"
   ]
  },
  {
   "cell_type": "code",
   "execution_count": 27,
   "metadata": {},
   "outputs": [
    {
     "name": "stdout",
     "output_type": "stream",
     "text": [
      "True\n",
      "False\n",
      "False\n"
     ]
    }
   ],
   "source": [
    "# 逻辑表达举例\n",
    "a = True\n",
    "b = True\n",
    "c = False\n",
    "\n",
    "aa = a and b # 左边表达式可以转换成 1 * 1\n",
    "print(aa)\n",
    "\n",
    "bb = a and c\n",
    "print(bb)\n",
    "\n",
    "cc = 100 and c\n",
    "print(cc)\n",
    "\n",
    "# 布尔值跟数字的转化\n",
    "# 数字转换成布尔值的时候，0 = False，其余是True\n",
    "# 布尔值转换成数字的时候，True = 1，False = 0"
   ]
  },
  {
   "cell_type": "code",
   "execution_count": 29,
   "metadata": {},
   "outputs": [
    {
     "name": "stdout",
     "output_type": "stream",
     "text": [
      "True\n"
     ]
    }
   ],
   "source": [
    "# 短路问题案例 1\n",
    "a = True\n",
    "b = True\n",
    "c = False\n",
    "\n",
    "aa = a or b and (a and b) # 转换成算数 1 + ......\n",
    "print(aa)"
   ]
  },
  {
   "cell_type": "code",
   "execution_count": 2,
   "metadata": {},
   "outputs": [
    {
     "name": "stdout",
     "output_type": "stream",
     "text": [
      "a\n",
      "b\n",
      "True\n",
      "********************\n",
      "a\n",
      "True\n",
      "####################\n"
     ]
    }
   ],
   "source": [
    "# 短路问题案例 2 \n",
    "def a():\n",
    "    print('a')\n",
    "    return True\n",
    "\n",
    "def b():\n",
    "    print('b')\n",
    "    return True\n",
    "\n",
    "aaa = a() and b()\n",
    "print(aaa)\n",
    "\n",
    "# 字符串乘以数字，表示对是这个字符串重复多少遍\n",
    "print(\"*\" * 20)\n",
    "\n",
    "bbb = a() or b() # 短路发生\n",
    "print(bbb)\n",
    "\n",
    "print(\"#\" * 20)"
   ]
  },
  {
   "cell_type": "markdown",
   "metadata": {},
   "source": [
    "# 成员运算符\n",
    "- 用来检测一个值或者变量是否在某个集合里面\n",
    "- in：成员运算符\n",
    "- not in：不在里面的意思\n"
   ]
  },
  {
   "cell_type": "code",
   "execution_count": 3,
   "metadata": {},
   "outputs": [
    {
     "name": "stdout",
     "output_type": "stream",
     "text": [
      "False\n",
      "True\n",
      "True\n"
     ]
    }
   ],
   "source": [
    "# in 案例\n",
    "L = [1,2,3,4,5]\n",
    "a = 6\n",
    "aa = a in L\n",
    "print(aa)\n",
    "\n",
    "# a 没有在L里面\n",
    "aa = a not in L\n",
    "print(aa)\n",
    "\n",
    "c = 1\n",
    "ab = c in L\n",
    "print(ab)"
   ]
  },
  {
   "cell_type": "markdown",
   "metadata": {},
   "source": [
    "# 身份运算符\n",
    "- 用来确定两个变量是否是同一个变量\n",
    "- is：变量运算符\n",
    "- is not：不是\n",
    "- 学python的想必都知道，对整数N \\in [-5, 256]，解释器对他们做了单独的处理，放进了固定的内存中，不因你每次运行而变化。"
   ]
  },
  {
   "cell_type": "code",
   "execution_count": 37,
   "metadata": {},
   "outputs": [
    {
     "name": "stdout",
     "output_type": "stream",
     "text": [
      "False\n",
      "False\n",
      "True\n"
     ]
    }
   ],
   "source": [
    "# 身运算符定义\n",
    "a = 1\n",
    "b = 108890\n",
    "\n",
    "aa = a is b\n",
    "print(aa)\n",
    "\n",
    "\n",
    "# a，b仅仅式值一样，并不代表a，b是一个变量\n",
    "a = 108890\n",
    "b = 108890\n",
    "\n",
    "aa = a is b\n",
    "print(aa)\n",
    "\n",
    "\n",
    "# 正确理解下面案例跟上面案例的不同\n",
    "# a，b仅仅式值一样，并不代表a，b是一个变量\n",
    "a = 5\n",
    "b = 5\n",
    "\n",
    "aa = a is b\n",
    "print(aa)"
   ]
  },
  {
   "cell_type": "markdown",
   "metadata": {},
   "source": [
    "# 运算符优先级问题\n",
    "- 小括号具有最高优先级"
   ]
  },
  {
   "cell_type": "markdown",
   "metadata": {},
   "source": [
    "# 程序结构\n",
    "- 程序三种结构\n",
    "  - 顺序\n",
    "  - 循环\n",
    "  - 分支\n",
    "  "
   ]
  },
  {
   "cell_type": "markdown",
   "metadata": {},
   "source": [
    "# 分支结构\n",
    "- 分支结构基本语法\n",
    "\n",
    "      if 条件表达式：\n",
    "        语句1\n",
    "        语句2\n",
    "        语句3\n",
    "        ......\n",
    "- 条件表达式就是计算结果必须为布尔值的表达式\n",
    "- 表达式后面的冒号不能少\n",
    "- 注意if后面的出现的语句，如果属于if语句块，则必须同一个缩进等级\n",
    "- 条件表达式结果为True执行if后面的缩进的语句块"
   ]
  },
  {
   "cell_type": "code",
   "execution_count": 2,
   "metadata": {},
   "outputs": [
    {
     "name": "stdout",
     "output_type": "stream",
     "text": [
      "就结婚\n",
      "生小孩\n",
      "日子还得过\n"
     ]
    }
   ],
   "source": [
    "# if 语句联系\n",
    "# 如果我爱你，就结婚\n",
    "a = \"我爱你\"\n",
    "\n",
    "# 字符串的真假：\n",
    "# 只有空字符串为False，其余全为Ture\n",
    "\n",
    "if a:\n",
    "    print(\"就结婚\")\n",
    "    print(\"生小孩\")\n",
    "    \n",
    "print(\"日子还得过\")\n"
   ]
  },
  {
   "cell_type": "code",
   "execution_count": 3,
   "metadata": {},
   "outputs": [
    {
     "name": "stdout",
     "output_type": "stream",
     "text": [
      "喝酒去\n",
      "下次你请我\n"
     ]
    }
   ],
   "source": [
    "# if联系2\n",
    "\n",
    "age = 19\n",
    "\n",
    "if age > 16:\n",
    "    print(\"喝酒去\")\n",
    "    \n",
    "print(\"下次你请我\")"
   ]
  },
  {
   "cell_type": "markdown",
   "metadata": {},
   "source": [
    "# 双向分支\n",
    "- if...else...表达\n",
    "- 语法结构：\n",
    "     \n",
    "     \n",
    "      if 条件表达式：\n",
    "        语句1\n",
    "        语句2\n",
    "        ...\n",
    "      else:\n",
    "        语句1\n",
    "        语句2\n",
    "        ... "
   ]
  },
  {
   "cell_type": "code",
   "execution_count": 5,
   "metadata": {},
   "outputs": [
    {
     "name": "stdout",
     "output_type": "stream",
     "text": [
      "继续找\n",
      "找更好的\n",
      "日子还得过\n"
     ]
    }
   ],
   "source": [
    "# 如果我爱你，就结婚\n",
    "a = \"\"\n",
    "\n",
    "# 字符串的真假：\n",
    "# 只有空字符串为False，其余全为Ture\n",
    "\n",
    "if a:\n",
    "    print(\"就结婚\")\n",
    "    print(\"生小孩\")\n",
    "else:\n",
    "    print(\"继续找\")\n",
    "    print(\"找更好的\")\n",
    "print(\"日子还得过\")"
   ]
  },
  {
   "cell_type": "code",
   "execution_count": 7,
   "metadata": {},
   "outputs": [
    {
     "name": "stdout",
     "output_type": "stream",
     "text": [
      "请输入您的性别man\n",
      "man\n",
      "beer\n",
      "play\n"
     ]
    }
   ],
   "source": [
    "# input的作用是\n",
    "# 1. 在屏幕上输出括号内的字符串\n",
    "# 2. 接受用户输入的内容并返回到程序\n",
    "# 3. input返回的内容一定是字符串类型\n",
    "\n",
    "# input负责接受用户输入并把内容返回给变量\n",
    "gender = input(\"请输入您的性别\")\n",
    "# 打印输出的内容\n",
    "print(gender)\n",
    "\n",
    "if gender == \"man\":\n",
    "    print(\"beer\")\n",
    "    print(\"play\")\n",
    "else:\n",
    "    print(\"work\")\n",
    "    print(\"money\")\n",
    "    "
   ]
  },
  {
   "cell_type": "code",
   "execution_count": 12,
   "metadata": {},
   "outputs": [
    {
     "name": "stdout",
     "output_type": "stream",
     "text": [
      "请输入您的成绩55\n",
      "没你这学生\n"
     ]
    }
   ],
   "source": [
    "# 考试成绩判断\n",
    "# 成绩由用户输入\n",
    "# 90以上：输出优秀\n",
    "# 80-90：良\n",
    "# 70-80：中\n",
    "# 60-70：平\n",
    "# 60一下：输出：我没你这学生\n",
    "\n",
    "# 输入成绩，需要用到input函数\n",
    "# input输入的值全部是字符串类型\n",
    "score = input(\"请输入您的成绩\")\n",
    "\n",
    "score = int(score)\n",
    "if score >= 90:\n",
    "    print(\"优秀\")\n",
    "if score >= 80 and score < 90:\n",
    "    print(\"良\")\n",
    "if score >= 70 and score < 80:\n",
    "    print(\"中\")\n",
    "if score >= 60 and score < 70:\n",
    "    print(\"平\")\n",
    "if score < 60:\n",
    "    print(\"没你这学生\")"
   ]
  },
  {
   "cell_type": "markdown",
   "metadata": {},
   "source": [
    "# 多路分支\n",
    "- 很多分支的情况，叫多路分支\n",
    "    \n",
    "      if 条件表达式：\n",
    "        语句1\n",
    "        ...\n",
    "      elif 条件表达式：\n",
    "        语句1\n",
    "        ...\n",
    "      elif 条件表达式：\n",
    "        语句1\n",
    "        ...\n",
    "      else\n",
    "        语句1\n",
    "        ...\n",
    "- elif可以有很多个，根据实际情况\n",
    "- else可选\n",
    "- 多路分支最多只会执行一种情况\n",
    "\n",
    "# if语句补充\n",
    "- if 语句可以嵌套使用，不推荐\n",
    "- python没有switch语句"
   ]
  },
  {
   "cell_type": "code",
   "execution_count": 14,
   "metadata": {},
   "outputs": [
    {
     "name": "stdout",
     "output_type": "stream",
     "text": [
      "请输入您的成绩33\n",
      "没你这学生\n"
     ]
    }
   ],
   "source": [
    "# 考试成绩判断\n",
    "# 成绩由用户输入\n",
    "# 90以上：输出优秀\n",
    "# 80-90：良\n",
    "# 70-80：中\n",
    "# 60-70：平\n",
    "# 60一下：输出：我没你这学生\n",
    "\n",
    "# 输入成绩，需要用到input函数\n",
    "# input输入的值全部是字符串类型\n",
    "score = input(\"请输入您的成绩\")\n",
    "\n",
    "score = int(score)\n",
    "if score >= 90:\n",
    "    print(\"优秀\")\n",
    "elif score >= 80:\n",
    "    print(\"良\")\n",
    "elif score >= 70:\n",
    "    print(\"中\")\n",
    "elif score >= 60:\n",
    "    print(\"平\")\n",
    "else:\n",
    "    print(\"没你这学生\")"
   ]
  },
  {
   "cell_type": "markdown",
   "metadata": {},
   "source": [
    "# 循环语句\n",
    "- 重复执行某一个固定的动作或者任务\n",
    "- 分类\n",
    "  - for\n",
    "  - while\n",
    "  \n",
    "# for循环\n",
    "- 语法\n",
    "\n",
    "      for 变量 in 序列:\n",
    "       语句1\n",
    "       语句2\n",
    "       ..."
   ]
  },
  {
   "cell_type": "code",
   "execution_count": 17,
   "metadata": {},
   "outputs": [
    {
     "name": "stdout",
     "output_type": "stream",
     "text": [
      "1\n",
      "101\n",
      "2001\n",
      "2\n",
      "102\n",
      "2002\n",
      "3\n",
      "103\n",
      "2003\n",
      "4\n",
      "104\n",
      "2004\n",
      "5\n",
      "105\n",
      "2005\n",
      "6\n",
      "106\n",
      "2006\n",
      "7\n",
      "107\n",
      "2007\n"
     ]
    }
   ],
   "source": [
    "# 列表知识以后讲\n",
    "# 比如 [1,2,3,4,5,6,7]\n",
    "\n",
    "list_one = [1,2,3,4,5,6,7]\n",
    "\n",
    "for shuzi in list_one:\n",
    "    print(shuzi)\n",
    "    print(shuzi + 100)\n",
    "    print(shuzi + 2000)"
   ]
  },
  {
   "cell_type": "code",
   "execution_count": 24,
   "metadata": {},
   "outputs": [
    {
     "name": "stdout",
     "output_type": "stream",
     "text": [
      "hello\n",
      "hello\n",
      "haha\n"
     ]
    }
   ],
   "source": [
    "# 打印学生列表姓名\n",
    "# 如果是xiaoming，那肯定是我的最爱\n",
    "# 如果是别的同学，那要冷酷拒绝\n",
    "\n",
    "\n",
    "stu_list = ['wang', 'li', 'hu']\n",
    "\n",
    "for stu in stu_list:\n",
    "    if stu == \"hu\":\n",
    "        print(\"haha\")\n",
    "    else:\n",
    "        print(\"hello\")"
   ]
  },
  {
   "cell_type": "markdown",
   "metadata": {},
   "source": [
    "# for-else语句\n",
    "- for循环结束的时候，有时候需要执行一些收尾工作，此时需要使用else语句\n",
    "- else语句是可选 "
   ]
  },
  {
   "cell_type": "code",
   "execution_count": 26,
   "metadata": {},
   "outputs": [
    {
     "name": "stdout",
     "output_type": "stream",
     "text": [
      "gun\n",
      "gun\n",
      "haha\n",
      "不会再爱了\n"
     ]
    }
   ],
   "source": [
    "# for-else语句\n",
    "# 打印列表中的同学\n",
    "# 如果没有在列表中，或者列表结束了，我们需要打印提示语句，表示不在了\n",
    "\n",
    "stu_list = ['wang', 'li', 'hu']\n",
    "\n",
    "for stu in stu_list:\n",
    "    if stu == \"hu\":\n",
    "        print(\"haha\")\n",
    "    else:\n",
    "        print(\"gun\")\n",
    "else:\n",
    "    print(\"不会再爱了\")"
   ]
  },
  {
   "cell_type": "markdown",
   "metadata": {},
   "source": [
    "# break, continue, pass\n",
    "- break：无条件结束整个循环，简称循环猝死\n",
    "- continue：继续\n",
    "- pass：只是占位符代表这计划什么也不干，没有跳过功能"
   ]
  },
  {
   "cell_type": "code",
   "execution_count": 29,
   "metadata": {},
   "outputs": [
    {
     "name": "stdout",
     "output_type": "stream",
     "text": [
      "3\n",
      "4\n",
      "6\n",
      "54\n",
      "haha, got it\n"
     ]
    }
   ],
   "source": [
    "# 在一个数字队列中，寻找数字7，如果找到，打印出来即可，并且结束\n",
    "# 确定是否包含，只要找到一个即可，不需要再继续找下去了，所以用break\n",
    "\n",
    "dig_list = [3,4,6,54,7,3,23,2,4,7]\n",
    "\n",
    "for dig in dig_list:\n",
    "    if dig == 7:\n",
    "        print(\"haha, got it\")\n",
    "        break\n",
    "    else:\n",
    "        print(dig)\n"
   ]
  },
  {
   "cell_type": "code",
   "execution_count": 39,
   "metadata": {},
   "outputs": [
    {
     "name": "stdout",
     "output_type": "stream",
     "text": [
      "2\n",
      "偶数\n",
      "4\n",
      "偶数\n",
      "6\n",
      "偶数\n",
      "8\n",
      "偶数\n",
      "10\n",
      "偶数\n"
     ]
    }
   ],
   "source": [
    "# continue语句练习\n",
    "# 在数字1-10中，寻找所有偶数，找到后打印\n",
    "\n",
    "dig_list = [1,2,3,4,5,6,7,8,9,10]\n",
    "\n",
    "'''\n",
    "# continue案例1\n",
    "\n",
    "for dig in dig_list:\n",
    "    if dig % 2 == 0:\n",
    "        print(dig)\n",
    "        print(\"偶数\")\n",
    "    else:\n",
    "        continue\n",
    "'''    \n",
    "\n",
    "# 此段代码跟上面代码等价\n",
    "for dig in dig_list:\n",
    "    if dig % 2 == 1:\n",
    "        continue #立即结束本轮循环，进入下轮循环\n",
    "\n",
    "    print(dig)\n",
    "    print(\"偶数\")\n"
   ]
  },
  {
   "cell_type": "code",
   "execution_count": 42,
   "metadata": {},
   "outputs": [
    {
     "name": "stdout",
     "output_type": "stream",
     "text": [
      "你还小\n"
     ]
    }
   ],
   "source": [
    "# pass案例1\n",
    "\n",
    "age = 19\n",
    "if age > 19:\n",
    "    pass\n",
    "else:\n",
    "    print(\"你还小\")"
   ]
  },
  {
   "cell_type": "code",
   "execution_count": 44,
   "metadata": {},
   "outputs": [
    {
     "name": "stdout",
     "output_type": "stream",
     "text": [
      "2\n",
      "34\n",
      "43\n",
      "54\n",
      "65\n",
      "2\n"
     ]
    }
   ],
   "source": [
    "# pass案例2\n",
    "\n",
    "ages = [2,34,43,54,65,2]\n",
    "for age in ages:\n",
    "    pass\n",
    "    print(age)"
   ]
  },
  {
   "cell_type": "markdown",
   "metadata": {},
   "source": [
    "# range函数\n",
    "- 生成有序数列\n",
    "- 生成数字序列可以定制\n"
   ]
  },
  {
   "cell_type": "code",
   "execution_count": 2,
   "metadata": {},
   "outputs": [
    {
     "name": "stdout",
     "output_type": "stream",
     "text": [
      "1\n",
      "2\n",
      "3\n",
      "4\n",
      "5\n",
      "6\n",
      "7\n",
      "8\n",
      "9\n",
      "10\n"
     ]
    }
   ],
   "source": [
    "# range案例1\n",
    "# 生成一个从1到100的数字序列\n",
    "# range的生成序列的两个而数字是左包括右不包括\n",
    "dig_list = range(1,11)\n",
    "for dig in dig_list:\n",
    "    print(dig)\n",
    "    \n",
    "# 一般在python中，连个表示范围的数字都是左包括右不包括，randint函数是个特例\n",
    "# range函数在python2.x和python3.修中由严重区别"
   ]
  },
  {
   "cell_type": "code",
   "execution_count": 6,
   "metadata": {},
   "outputs": [
    {
     "name": "stdout",
     "output_type": "stream",
     "text": [
      "1\n",
      "2\n",
      "3\n",
      "4\n",
      "5\n",
      "6\n",
      "7\n",
      "8\n",
      "9\n"
     ]
    }
   ],
   "source": [
    "# range案例2\n",
    "for i in range(1,10):\n",
    "    print(i)\n"
   ]
  },
  {
   "cell_type": "markdown",
   "metadata": {},
   "source": [
    "# while循环\n",
    "- 一个循环语句\n",
    "- 表示当条件成立的时候，就循环，适用于不知道具体循环次数，但能确定在某个条件成立就循环\n",
    "- while语法：\n",
    "\n",
    "      while条件表达式：\n",
    "       语句块\n",
    "      \n",
    "      #另外一种表达方法\n",
    "      while条件表达式：\n",
    "       语句块1\n",
    "      else:\n",
    "       语句块2"
   ]
  },
  {
   "cell_type": "code",
   "execution_count": 15,
   "metadata": {},
   "outputs": [
    {
     "name": "stdout",
     "output_type": "stream",
     "text": [
      "11\n",
      "11\n"
     ]
    }
   ],
   "source": [
    "# 如果说年利率是6.7%，本利是每年翻滚，则多少年后本钱会翻倍\n",
    "\n",
    "initial = 10000\n",
    "year = 0 # 存放需要翻滚的年数\n",
    "\n",
    "while initial < 20000:\n",
    "    initial = initial * (1 + 0.067)\n",
    "    year += 1 # year = year + 1\n",
    "    \n",
    "print(year)\n",
    "\n",
    "# 年利率案例2\n",
    "# 本案例中循环没有被执行，如何改正\n",
    "\n",
    "initial = 10000\n",
    "year = 0 # 存放需要翻滚的年数\n",
    "\n",
    "while initial < 20000:\n",
    "    initial = initial * (1 + 0.067)\n",
    "    year += 1 # year = year + 1\n",
    "else:\n",
    "    print(year)"
   ]
  },
  {
   "cell_type": "markdown",
   "metadata": {},
   "source": [
    "# 函数\n",
    "- 函数是代码的一种组织形式\n",
    "- 函数应该能完成一项特定的工作，而且一般一个函数值完成一项工作\n",
    "- 有些语言，分函数和过程两个概念，通俗解释是，有返回结果的叫函数，无返回结果的叫过程，python不加以区分\n",
    "- 函数的使用\n",
    "  - 函数使用需要先定义\n",
    "  - 使用函数，俗称调用\n",
    "  "
   ]
  },
  {
   "cell_type": "code",
   "execution_count": 17,
   "metadata": {},
   "outputs": [
    {
     "name": "stdout",
     "output_type": "stream",
     "text": [
      "函数结束了\n"
     ]
    }
   ],
   "source": [
    "# 定义一个函数\n",
    "# 只是定义的不会执行\n",
    "# 1. def关键字，后跟一个空格\n",
    "# 2. 函数名，自己定义，起名需要遵循便令命名规则，约定俗成，大驼峰命名只给类用\n",
    "# 3. 后面括号和冒号不能省，括号内可以有参数\n",
    "# 4. 函数内所有代码缩进\n",
    "\n",
    "def func():\n",
    "    print(\"我是一个函数\")\n",
    "    print(\"爱生活，爱拉芳\")\n",
    "    \n",
    "print(\"函数结束了\")"
   ]
  },
  {
   "cell_type": "code",
   "execution_count": 19,
   "metadata": {},
   "outputs": [
    {
     "name": "stdout",
     "output_type": "stream",
     "text": [
      "我是一个函数\n",
      "爱生活，爱拉芳\n"
     ]
    }
   ],
   "source": [
    "# 函数的调用\n",
    "# 直接写出函数名，后面小括号不能省略，括号内内容根据情况\n",
    "\n",
    "func()"
   ]
  },
  {
   "cell_type": "markdown",
   "metadata": {},
   "source": [
    "# 本课程内容\n",
    "- 函数讲完参数\n",
    "- str\n",
    "- list, tupe, set, map"
   ]
  },
  {
   "cell_type": "code",
   "execution_count": 21,
   "metadata": {},
   "outputs": [],
   "source": [
    "# 函数定义\n",
    "def func():\n",
    "    print(\"haha\")\n",
    "    print(\"lala\")\n",
    "    print(\"gaga\")"
   ]
  },
  {
   "cell_type": "code",
   "execution_count": 22,
   "metadata": {},
   "outputs": [
    {
     "name": "stdout",
     "output_type": "stream",
     "text": [
      "haha\n",
      "lala\n",
      "gaga\n"
     ]
    }
   ],
   "source": [
    "func()"
   ]
  },
  {
   "cell_type": "markdown",
   "metadata": {},
   "source": [
    "# 函数的参数和返回值\n",
    "- 参数：负责给函数传递一些必要的数据或者信息\n",
    "  - 形参（形式参数）：在函数定义的时候用到的参数，没有具体值，只是一个占位符\n",
    "  - 实参（实际参数）：在调用函数的时候输入的值\n",
    "- 返回值：调用函数的时候的一个执行结果\n",
    "  - 如果没有值需要返回，我们推荐使用return None表示函数结束\n",
    "  - 函数一旦执行return，则函数立即结束\n",
    "  - 如果函数没有return关键字，则函数默认返回None\n",
    "  "
   ]
  },
  {
   "cell_type": "code",
   "execution_count": 24,
   "metadata": {},
   "outputs": [
    {
     "name": "stdout",
     "output_type": "stream",
     "text": [
      "小明, hi\n",
      "小明, haha\n"
     ]
    }
   ],
   "source": [
    "# 形参和实参的案例\n",
    "# 参数person只是一个符号\n",
    "# 调用的时候用另一个\n",
    "\n",
    "def hello(person):\n",
    "    print(\"{0}, hi\".format(person))\n",
    "    print(\"{}, haha\".format(person))\n",
    "    return None\n",
    "p = \"小明\"\n",
    "\n",
    "# 调用函数，需要把p作为实参传入\n",
    "hello(p)"
   ]
  },
  {
   "cell_type": "code",
   "execution_count": 26,
   "metadata": {},
   "outputs": [
    {
     "name": "stdout",
     "output_type": "stream",
     "text": [
      "小五, hi\n",
      "小五, haha\n"
     ]
    }
   ],
   "source": [
    "p = \"小五\"\n",
    "hello(p)"
   ]
  },
  {
   "cell_type": "code",
   "execution_count": 28,
   "metadata": {},
   "outputs": [
    {
     "name": "stdout",
     "output_type": "stream",
     "text": [
      "hufukang, hi\n",
      "hufukang, haha\n",
      "None\n"
     ]
    }
   ],
   "source": [
    "pp = hello(\"hufukang\")\n",
    "print(pp)"
   ]
  },
  {
   "cell_type": "code",
   "execution_count": 30,
   "metadata": {},
   "outputs": [
    {
     "name": "stdout",
     "output_type": "stream",
     "text": [
      "Help on built-in function print in module builtins:\n",
      "\n",
      "print(...)\n",
      "    print(value, ..., sep=' ', end='\\n', file=sys.stdout, flush=False)\n",
      "    \n",
      "    Prints the values to a stream, or to sys.stdout by default.\n",
      "    Optional keyword arguments:\n",
      "    file:  a file-like object (stream); defaults to the current sys.stdout.\n",
      "    sep:   string inserted between values, default a space.\n",
      "    end:   string appended after the last value, default a newline.\n",
      "    flush: whether to forcibly flush the stream.\n",
      "\n"
     ]
    }
   ],
   "source": [
    "# help负责随时为你提供帮助\n",
    "help(print) # help(print()) 等价于 help(None)"
   ]
  },
  {
   "cell_type": "code",
   "execution_count": 40,
   "metadata": {},
   "outputs": [
    {
     "name": "stdout",
     "output_type": "stream",
     "text": [
      "1  \n",
      "2  4  \n",
      "3  6  9  \n",
      "4  8  12  16  \n",
      "5  10  15  20  25  \n",
      "6  12  18  24  30  36  \n",
      "7  14  21  28  35  42  49  \n",
      "8  16  24  32  40  48  56  64  \n",
      "9  18  27  36  45  54  63  72  81  \n"
     ]
    }
   ],
   "source": [
    "# 九九乘法表\n",
    "# version 1.0\n",
    "\n",
    "for o in range(1,10): # 控制外循环，从1到9\n",
    "    for i in range(1,o + 1):  #内循环，每次从第一个数开始，打印到行数相同的数量\n",
    "        print(o * i, end = \"  \")\n",
    "    print()"
   ]
  },
  {
   "cell_type": "code",
   "execution_count": 34,
   "metadata": {},
   "outputs": [
    {
     "name": "stdout",
     "output_type": "stream",
     "text": [
      "Help on built-in function print in module builtins:\n",
      "\n",
      "print(...)\n",
      "    print(value, ..., sep=' ', end='\\n', file=sys.stdout, flush=False)\n",
      "    \n",
      "    Prints the values to a stream, or to sys.stdout by default.\n",
      "    Optional keyword arguments:\n",
      "    file:  a file-like object (stream); defaults to the current sys.stdout.\n",
      "    sep:   string inserted between values, default a space.\n",
      "    end:   string appended after the last value, default a newline.\n",
      "    flush: whether to forcibly flush the stream.\n",
      "\n"
     ]
    }
   ],
   "source": [
    "help(print)"
   ]
  },
  {
   "cell_type": "code",
   "execution_count": 5,
   "metadata": {},
   "outputs": [
    {
     "name": "stdout",
     "output_type": "stream",
     "text": [
      "1  \n",
      "2  4  \n",
      "3  6  9  \n",
      "4  8  12  16  \n",
      "5  10  15  20  25  \n",
      "6  12  18  24  30  36  \n",
      "7  14  21  28  35  42  49  \n",
      "8  16  24  32  40  48  56  64  \n",
      "9  18  27  36  45  54  63  72  81  \n",
      "1  \n",
      "2  4  \n",
      "3  6  9  \n",
      "4  8  12  16  \n",
      "5  10  15  20  25  \n",
      "6  12  18  24  30  36  \n",
      "7  14  21  28  35  42  49  \n",
      "8  16  24  32  40  48  56  64  \n",
      "9  18  27  36  45  54  63  72  81  \n"
     ]
    }
   ],
   "source": [
    "# 尝试用函数来打印九九乘法表\n",
    "\n",
    "def jiujiu():\n",
    "    for o in range(1,10): # 控制外循环，从1到9\n",
    "        for i in range(1,o + 1):  #内循环，每次从第一个数开始，打印到行数相同的数量\n",
    "            print(o * i, end = \"  \")\n",
    "        print()\n",
    "    return None\n",
    "\n",
    "jiujiu()\n",
    "jiujiu()\n",
    "    \n",
    "    \n"
   ]
  },
  {
   "cell_type": "code",
   "execution_count": 18,
   "metadata": {},
   "outputs": [
    {
     "name": "stdout",
     "output_type": "stream",
     "text": [
      "1 \n",
      "2 4 \n",
      "3 6 9 \n",
      "4 8 12 16 \n",
      "5 10 15 20 25 \n",
      "6 12 18 24 30 36 \n",
      "7 14 21 28 35 42 49 \n",
      "8 16 24 32 40 48 56 64 \n",
      "9 18 27 36 45 54 63 72 81 \n"
     ]
    }
   ],
   "source": [
    "# 改造上面函数\n",
    "\n",
    "def printLine(line_num):\n",
    "    '''\n",
    "    line_num:代表行号\n",
    "    \n",
    "    打印一行九九乘法表\n",
    "    '''\n",
    "    for i in range(1, line_num + 1):\n",
    "        print(line_num * i, end=\" \")\n",
    "        \n",
    "    print()\n",
    "    \n",
    "def jiujiu():\n",
    "    for o in range(1,10): # 控制外循环，从1到9\n",
    "        printLine(o)\n",
    "    return None\n",
    "\n",
    "jiujiu()"
   ]
  },
  {
   "cell_type": "markdown",
   "metadata": {},
   "source": [
    "# 参数详解\n",
    "- 参数分类\n",
    "  - 普通参数/位置参数\n",
    "  - 默认参数\n",
    "  - 关键参数\n",
    "  - 收集参数\n",
    "  "
   ]
  },
  {
   "cell_type": "code",
   "execution_count": 23,
   "metadata": {},
   "outputs": [
    {
     "name": "stdout",
     "output_type": "stream",
     "text": [
      "3\n"
     ]
    }
   ],
   "source": [
    "# 普通参数案例\n",
    "\n",
    "def normal_para(one, two, three):\n",
    "    print(one + two)\n",
    "    return None\n",
    "\n",
    "normal_para(1,2,3)"
   ]
  },
  {
   "cell_type": "code",
   "execution_count": 31,
   "metadata": {},
   "outputs": [
    {
     "name": "stdout",
     "output_type": "stream",
     "text": [
      "4\n",
      "100\n"
     ]
    }
   ],
   "source": [
    "# 默认参数案例\n",
    "\n",
    "def default_para(one, two, three=100):\n",
    "    print(one + two)\n",
    "    print(three)\n",
    "    return None\n",
    "    \n",
    "default_para(1,3)\n"
   ]
  },
  {
   "cell_type": "code",
   "execution_count": 34,
   "metadata": {},
   "outputs": [
    {
     "name": "stdout",
     "output_type": "stream",
     "text": [
      "3\n",
      "30\n",
      "3\n",
      "30\n"
     ]
    }
   ],
   "source": [
    "# 关键字参数\n",
    "\n",
    "def keys_para(one, two, three):\n",
    "    print(one + two)\n",
    "    print(three)\n",
    "    return None\n",
    "\n",
    "keys_para(one=1, two=2, three=30)\n",
    "keys_para(three=30, one=1, two=2)"
   ]
  },
  {
   "cell_type": "markdown",
   "metadata": {},
   "source": [
    "# str字符串\n",
    "- str\n",
    "- 转义字符\n",
    "- 格式化\n",
    "- 内建函数\n",
    "\n"
   ]
  },
  {
   "cell_type": "markdown",
   "metadata": {},
   "source": [
    "# 字符串\n",
    "- 表示文字消息\n",
    "- 用单引号，双引号，三引号括起来\n",
    "\n"
   ]
  },
  {
   "cell_type": "code",
   "execution_count": 35,
   "metadata": {},
   "outputs": [
    {
     "name": "stdout",
     "output_type": "stream",
     "text": [
      "i love u\n"
     ]
    }
   ],
   "source": [
    "s = 'i love u'\n",
    "print(s)"
   ]
  },
  {
   "cell_type": "code",
   "execution_count": 36,
   "metadata": {},
   "outputs": [
    {
     "name": "stdout",
     "output_type": "stream",
     "text": [
      "i hate u\n"
     ]
    }
   ],
   "source": [
    "s = \"i hate u\"\n",
    "print(s)"
   ]
  },
  {
   "cell_type": "code",
   "execution_count": 37,
   "metadata": {},
   "outputs": [
    {
     "name": "stdout",
     "output_type": "stream",
     "text": [
      "\n",
      "i \n",
      "hate\n",
      "you\n",
      "\n"
     ]
    }
   ],
   "source": [
    "s = \"\"\"\n",
    "i \n",
    "hate\n",
    "you\n",
    "\"\"\"\n",
    "print(s)"
   ]
  },
  {
   "cell_type": "markdown",
   "metadata": {},
   "source": [
    "# 转移字符\n",
    "- 用一个特色的方法表示一些列不方便写出的内容，比如回车键，换行符，退格键\n",
    "- 借助反斜杠字符，一旦字符串出现反斜杠，则反斜杠后面一个或几个字符表示已经不是原来的意思，进行了转义\n",
    "- 在字符串中，一旦出现反斜杠要加倍小心，可能由转义字符出现\n",
    "- 不同系统对换行操作有不同的表示\n",
    "  - windows: \\n\n",
    "  - Linux: \\r\\n\n",
    "  "
   ]
  },
  {
   "cell_type": "code",
   "execution_count": 47,
   "metadata": {},
   "outputs": [
    {
     "name": "stdout",
     "output_type": "stream",
     "text": [
      "Let's Go\n",
      "Let's Go\n",
      "C:\\User\\Augsnano\n",
      "i \n",
      "love \n",
      "u\n"
     ]
    }
   ],
   "source": [
    "# 转义字符的案例\n",
    "\n",
    "# 想表达Let's Go\n",
    "# 使用转义字符\n",
    "\n",
    "s = 'Let\\'s Go'\n",
    "print(s)\n",
    "\n",
    "\n",
    "# 使用单双引号嵌套\n",
    "s = \"Let's Go\"\n",
    "print(s)\n",
    "\n",
    "\n",
    "# 表示斜杠\n",
    "# 比如表示C:\\User\\Augsnano\n",
    "s = \"C:\\\\User\\\\Augsnano\"\n",
    "print(s)\n",
    "\n",
    "\n",
    "# 回车换行\n",
    "# 想表达的效果是：\n",
    "# i\n",
    "# love\n",
    "# u\n",
    "# windows下也可以用\\r\\n，效果相同\n",
    "s = \"i \\nlove \\nu\"\n",
    "print(s)\n"
   ]
  },
  {
   "cell_type": "markdown",
   "metadata": {},
   "source": [
    "# 常用的转义字符\n",
    "\n",
    "\n",
    "     转义字符    描述\n",
    "     \\        （在行尾时）续行符\n",
    "     \\\\        反斜杠符号\n",
    "     \\'        单引号\n",
    "     \\\"        双引号\n",
    "     \\a        响铃\n",
    "     \\b        退格（Backspace）\n",
    "     \\e        转义\n",
    "     \\000       空\n",
    "     \\n        换行\n",
    "     \\v        纵向制表符\n",
    "     \\t        横向制表符\n",
    "     \\r        回车\n",
    "     \\f        换页\n",
    "     \\oyy      八进制数，yy代表的字符，例如：\\o12代表换行\n",
    "     \\xyy      十六进制数，yy代表的字符，例如：\\x0a代表换行\n",
    "     \\other     其他的字符以普通格式输出\n",
    "     \n",
    "     \n",
    "     \n"
   ]
  },
  {
   "cell_type": "code",
   "execution_count": 52,
   "metadata": {},
   "outputs": [
    {
     "name": "stdout",
     "output_type": "stream",
     "text": [
      "hahahaha\n"
     ]
    }
   ],
   "source": [
    "# 单个斜杠的用法\n",
    "# 在python里，单个斜杠表示此行未结束，出于美观，需要下一行继续\n",
    "# 理论上应该写成 def myDemo(x, y, z)\n",
    "def myDemo(x, \\\n",
    "          y, \\\n",
    "          z):\n",
    "    print(\"hahahaha\")\n",
    "    \n",
    "myDemo(1,2,3)"
   ]
  },
  {
   "cell_type": "markdown",
   "metadata": {},
   "source": [
    "# 格式化\n",
    "- 把字符串按照一定格式进行打印或者填充\n",
    "- 格式化的分类\n",
    "  - 传统格式化\n",
    "  - format"
   ]
  },
  {
   "cell_type": "code",
   "execution_count": 5,
   "metadata": {},
   "outputs": [
    {
     "name": "stdout",
     "output_type": "stream",
     "text": [
      "i love u\n",
      "i love he\n",
      "i love shi\n"
     ]
    }
   ],
   "source": [
    "# 填充\n",
    "s = \"i love u\"\n",
    "print(s)\n",
    "\n",
    "s = \"i love he\"\n",
    "print(s)\n",
    "\n",
    "s = \"i love shi\"\n",
    "print(s)"
   ]
  },
  {
   "cell_type": "markdown",
   "metadata": {},
   "source": [
    "# 字符串的传统格式法\n",
    "- 使用%进行格式化\n",
    "- %（百分号）也叫占位符\n",
    "     \n",
    "      %s：字符串\n",
    "      %r：字符串，但是是使用repr而不是str\n",
    "      %c：整数转换为单个字符\n",
    "      %d：十进制整数\n",
    "      %u：无符号整数\n",
    "      %o：表示八进制\n",
    "      %x：十六进制，字母为小写（x为小写）\n",
    "      %X：十六进制，字母为大写（X为大写）\n",
    "      %e：浮点数（e为小写），例如2.87e+12\n",
    "      %E：浮点数（E为大写），例如2.87E+12\n",
    "      %f，%F：浮点数十进制形式\n",
    "      %g，%G：十进制形式浮点或者指数浮点自动转换\n",
    "      格式字符前出现整数表示次占位符所占位置的宽度\n",
    "      格式字符前出现‘-’，表示左对齐\n",
    "      格式字符前出现‘+’，表示右对齐\n",
    "      0位数不足用‘0’补齐\n",
    "      width表示宽度\n",
    "      pricision精度"
   ]
  },
  {
   "cell_type": "code",
   "execution_count": 9,
   "metadata": {},
   "outputs": [
    {
     "name": "stdout",
     "output_type": "stream",
     "text": [
      "i love %s\n",
      "i love 胡福康\n",
      "i love 丈夫康\n"
     ]
    }
   ],
   "source": [
    "# %s 表示简单的字符串\n",
    "# 占位符可以单独使用\n",
    "s = \"i love %s\"\n",
    "print(s)\n",
    "\n",
    "print(s%\"胡福康\")\n",
    "\n",
    "print(s%\"丈夫康\")"
   ]
  },
  {
   "cell_type": "code",
   "execution_count": 11,
   "metadata": {},
   "outputs": [
    {
     "name": "stdout",
     "output_type": "stream",
     "text": [
      "i love 胡福康\n",
      "i love 100\n"
     ]
    }
   ],
   "source": [
    "print(\"i love %s\"%\"胡福康\")\n",
    "\n",
    "# 占位符一般只能被同类替换，或者替换类型能被转换成占位符的类型\n",
    "# 以下案例只属于特例\n",
    "print(\"i love %s\"%100)"
   ]
  },
  {
   "cell_type": "code",
   "execution_count": 40,
   "metadata": {},
   "outputs": [
    {
     "name": "stdout",
     "output_type": "stream",
     "text": [
      "胡福康今年 19 岁了，他长得好老\n"
     ]
    }
   ],
   "source": [
    "s = \"胡福康今年 %d 岁了，他长得好老\"\n",
    "print(s%19)\n",
    "# 以下打印会报错\n",
    "# print(s&\"19\")"
   ]
  },
  {
   "cell_type": "code",
   "execution_count": 19,
   "metadata": {},
   "outputs": [
    {
     "name": "stdout",
     "output_type": "stream",
     "text": [
      "i am %fkg weight, %fm height\n",
      "i am 80.000000kg weight, 1.800000m height\n",
      "i am 80.00kg weight, 1.80m height\n"
     ]
    }
   ],
   "source": [
    "s = \"i am %fkg weight, %fm height\"\n",
    "print(s)\n",
    "\n",
    "# 如果需要格式化的信息多余一个，则括号括起来就可以\n",
    "# 以下打印使用了默认格式，多余打出了好多个零\n",
    "\n",
    "print(s%(80, 1.8))\n",
    "# 实际需要进行格式化的信息的数量必须与百分号后面给出的数据数量匹配，否则报错\n",
    "# 如下例子，实际需要格式化的为四处，但是给出数据为三个，则报错\n",
    "\n",
    "s = \"i am %.2fkg weight, %.2fm height\"\n",
    "print(s%(80, 1.8))\n"
   ]
  },
  {
   "cell_type": "markdown",
   "metadata": {},
   "source": [
    "# format格式化\n",
    "- 使用函数进行格式化，代替以前的百分号"
   ]
  },
  {
   "cell_type": "code",
   "execution_count": 31,
   "metadata": {},
   "outputs": [
    {
     "name": "stdout",
     "output_type": "stream",
     "text": [
      "hello world!\n",
      "hello world!\n",
      "hello world!\n",
      "world world!\n",
      "world hello!\n",
      "i love world and hello loves me!\n",
      "我们是北京图灵学院，我们的网址是www.tulingxueyuan.com，胡福康最帅\n"
     ]
    }
   ],
   "source": [
    "# 不用指定位置，按顺序读取\n",
    "# 方式1\n",
    "s = \"{} {}!\"\n",
    "print(s.format(\"hello\", \"world\"))\n",
    "\n",
    "# 方式2\n",
    "s = \"{} {}!\".format(\"hello\", \"world\")\n",
    "print(s) # 相当于打印“hello world”\n",
    "\n",
    "# 以下内容，建议听完后面函数再来看，效果更好\n",
    "\n",
    "\n",
    "# 设置指定位置\n",
    "s = \"{0} {1}!\".format(\"hello\", \"world\")\n",
    "print(s)\n",
    "\n",
    "s = \"{1} {1}!\".format(\"hello\", \"world\")\n",
    "print(s)\n",
    "\n",
    "s = \"{1} {0}!\".format(\"hello\", \"world\")\n",
    "print(s)\n",
    "\n",
    "s = \"i love {1} and {0} loves me!\".format(\"hello\", \"world\")\n",
    "print(s)\n",
    "\n",
    "# 使用命名参数\n",
    "s = \"我们是{school_name}，我们的网址是{url}，{teacher}最帅\"\n",
    "s = s.format(school_name=\"北京图灵学院\", url=\"www.tulingxueyuan.com\", teacher=\"胡福康\")\n",
    "print(s)\n"
   ]
  },
  {
   "cell_type": "code",
   "execution_count": 35,
   "metadata": {},
   "outputs": [
    {
     "name": "stdout",
     "output_type": "stream",
     "text": [
      "我们是北京图灵学院，我们的网址是www.tulingxueyuan.com，胡福康最帅\n"
     ]
    }
   ],
   "source": [
    "# 通过字典设置参数，需要解包\n",
    "# 使用命名参数\n",
    "\n",
    "s = \"我们是{school_name}，我们的网址是{url}，{teacher}最帅\"\n",
    "\n",
    "s_dict = {\"school_name\":\"北京图灵学院\",\\\n",
    "          \"url\":\"www.tulingxueyuan.com\",\\\n",
    "          \"teacher\":\"胡福康\"}\n",
    "# **是解包操作，后面会讲到 \n",
    "s = s.format(**s_dict)\n",
    "print(s)"
   ]
  },
  {
   "cell_type": "code",
   "execution_count": 38,
   "metadata": {},
   "outputs": [
    {
     "name": "stdout",
     "output_type": "stream",
     "text": [
      "hu fukang is 1.8m height, 80.0kg weight\n",
      "format函数是使用{{}}来进行占位的\n"
     ]
    }
   ],
   "source": [
    "# 对数字的格式化需要用到\n",
    "s = \"hu fukang is {:.1f}m height, {:.1f}kg weight\"\n",
    "print(s.format(1.8, 80))\n",
    "\n",
    "\n",
    "# ^, <, >分别是居中、左对齐、右对齐，后面带宽度\n",
    "# ：号后面带填充的字符，只能是一个字符，不指定则默认是用空格填充\n",
    "# + 表示在正数前显示+，负数前显示-，（空格）表示在正数前加空格\n",
    "# b，d，o，x 分别是二进制、十进制、八进制、十六进制\n",
    "# 此外我们可以使用大括号{}来转义大括号\n",
    "\n",
    "# 大括号案例学习群给出\n",
    "s = \"format函数是使用{{}}来进行占位的\"\n",
    "print(s)"
   ]
  },
  {
   "cell_type": "markdown",
   "metadata": {},
   "source": [
    "# str内置函数\n",
    "\n",
    "### 查找类函数\n",
    "- 很多语言字符使用string表示，但是python中用str表示字符串\n",
    "- 字符串查找类，find, index, islower\n",
    "- find:查找字符串中是否包含一个字串\n",
    "- index:跟find的唯一区别是index如果找不到会引发异常\n",
    "- rfind，lfind:从左开始查找或者从右开始中查找\n",
    "\n",
    "### 判断类函数\n",
    "- 此类函数的特点是一般都用is开头，比如islower\n",
    "- isalpha：判断是否是字母\n",
    "  - 需要注意的是两点：\n",
    "    - 1.此函数默认的前提是字符串至少包含一个字符，如果没有，同样返回False\n",
    "    - 2.汉字被认为是alpha，所以，此函数不能作为区分英文字母还是汉字的标识，区分中英文请使用Unicode码\n",
    "    - 注意使用区别，防止被坑\n",
    "- isdigit, isnumeric, isdecimal三个判断数字的函数\n",
    "  - 此类函数不推荐使用，在后期爬虫中，判断是否是数字建议采用正则表达式的方式   \n",
    "    \n",
    "        对这第三个函数的一个总结就是：\n",
    "        digit()\n",
    "        Ture：Unicode数字（单字节），全角数字（双字节），罗马数字\n",
    "        False：汉字数字\n",
    "        Error：无\n",
    "        \n",
    "        isdecimal()\n",
    "        Ture：Unicode数字，全角数字（）\n",
    "        False：罗马数字，汉字数字\n",
    "        Error：byte数字（单字节）\n",
    "        \n",
    "        isnumeric()\n",
    "        Ture：Unicode，全角数字（双字节），罗马数字，汉字数字\n",
    "        False：无\n",
    "\n",
    "- 判断是否是大写或者小写\n",
    "\n",
    "### 内容判断类\n",
    "- startswith/endswith：是否以xxx开头或者结尾\n",
    "  - 检测某个字符串是否以某个字串开头，常用三个参数\n",
    "  - suffix：被检测的字符串，必须有\n",
    "  - start：检查范围的开始范围\n",
    "  - end：检查范围的结束范围\n",
    "- islower/isupper：判断字符是否是大写或者小写\n",
    "\n",
    "\n",
    "### 操作类函数\n",
    "- format：格式化用的\n",
    "- strip：这个函数主要是删除字符串两边的空格，其实这个函数与虚拟去定义删除字符串两边的哪个字符，只不过如果不指定的话默认是空格，同样还有lstrip和restrip，此处l和r分别表示左边右边，即删除字符串左边或者右边制定字符，默认空格。需要注意的是，此处的删除不是删除一个，是指从头开始符合条件的连续字符。\n",
    "- strip相似的函数还包含lstrip，rstrip\n",
    "- join：这个函数主要对字符串进行拼接。它需要一个可以迭代的内容作为参数（迭代的概念在后面介绍，此处暂时理解成一个列表），功能是把可迭代的字符拼接在一起，中间使用调用字符串作为分隔符。"
   ]
  },
  {
   "cell_type": "code",
   "execution_count": 42,
   "metadata": {},
   "outputs": [
    {
     "name": "stdout",
     "output_type": "stream",
     "text": [
      "Help on method_descriptor:\n",
      "\n",
      "find(...)\n",
      "    S.find(sub[, start[, end]]) -> int\n",
      "    \n",
      "    Return the lowest index in S where substring sub is found,\n",
      "    such that sub is contained within S[start:end].  Optional\n",
      "    arguments start and end are interpreted as in slice notation.\n",
      "    \n",
      "    Return -1 on failure.\n",
      "\n"
     ]
    }
   ],
   "source": [
    "help(str.find)"
   ]
  },
  {
   "cell_type": "code",
   "execution_count": 53,
   "metadata": {},
   "outputs": [
    {
     "data": {
      "text/plain": [
       "-1"
      ]
     },
     "execution_count": 53,
     "metadata": {},
     "output_type": "execute_result"
    }
   ],
   "source": [
    "s = \"i love u and u \"\n",
    "s1 = \"u\"\n",
    "# 返回第一次发现这个字符串的位置\n",
    "s.find(s1)\n",
    "\n",
    "# 返回-1表示没有找到\n",
    "s2 = \"wanwan\"\n",
    "s.find(s2)"
   ]
  },
  {
   "cell_type": "code",
   "execution_count": 47,
   "metadata": {},
   "outputs": [],
   "source": [
    "# index会报错或者引发异常\n",
    "# s.index(s2)"
   ]
  },
  {
   "cell_type": "code",
   "execution_count": 49,
   "metadata": {},
   "outputs": [
    {
     "data": {
      "text/plain": [
       "13"
      ]
     },
     "execution_count": 49,
     "metadata": {},
     "output_type": "execute_result"
    }
   ],
   "source": [
    "# 使用的时候还可以使用区间\n",
    "s = \"i love u and u \"\n",
    "s1 = \"u\"\n",
    "\n",
    "# 从下标20开始查找，看是否找到\n",
    "s.find(s1, 8)"
   ]
  },
  {
   "cell_type": "code",
   "execution_count": 51,
   "metadata": {},
   "outputs": [
    {
     "name": "stdout",
     "output_type": "stream",
     "text": [
      "False\n",
      "False\n",
      "False\n"
     ]
    }
   ],
   "source": [
    "# 以下三个都不是的，因为有除了字母以外的空格等\n",
    "s1 = \"我对着灯发誓，我是爱你的\"\n",
    "s2 = \"i love u\"\n",
    "s3 = \"i am No.1\"\n",
    "\n",
    "print(s1.isalpha())\n",
    "print(s2.isalpha())\n",
    "print(s3.isalpha())"
   ]
  },
  {
   "cell_type": "code",
   "execution_count": 52,
   "metadata": {},
   "outputs": [
    {
     "name": "stdout",
     "output_type": "stream",
     "text": [
      "False\n",
      "True\n",
      "False\n"
     ]
    }
   ],
   "source": [
    "# 需要注意的是，因为输入法的问题，输入罗马数字可能得不到我们想要的结果\n",
    "\n",
    "chin_num = \"一二三四\"\n",
    "print(chin_num.isdigit())\n",
    "print(chin_num.isnumeric())\n",
    "print(chin_num.isdecimal())"
   ]
  },
  {
   "cell_type": "code",
   "execution_count": 57,
   "metadata": {},
   "outputs": [
    {
     "name": "stdout",
     "output_type": "stream",
     "text": [
      "True\n",
      "True\n"
     ]
    }
   ],
   "source": [
    "fukang = \"Hu Fukang\"\n",
    "allan = \"Allan\"\n",
    "\n",
    "s = \"Hu Fukang really love Allan\"\n",
    "\n",
    "print(s.startswith(fukang))\n",
    "\n",
    "print(s.endswith(allan))"
   ]
  },
  {
   "cell_type": "code",
   "execution_count": 59,
   "metadata": {},
   "outputs": [
    {
     "name": "stdout",
     "output_type": "stream",
     "text": [
      "False\n",
      "False\n",
      "True\n",
      "True\n",
      "False\n",
      "False\n"
     ]
    }
   ],
   "source": [
    "s1 = \"Fukang love allan\"\n",
    "s2 = \"Fukangloveallan\"\n",
    "s3 = \"fukangloveallan\"\n",
    "\n",
    "# s4 包含空格，但空格不影响结果，忽略\n",
    "s4 = \"fukang love allan\"\n",
    "s5 = \"胡福康是爱国艾伦的\"\n",
    "\n",
    "print(s1.islower())\n",
    "print(s2.islower())\n",
    "print(s3.islower())\n",
    "print(s4.islower())\n",
    "# 汉字字符无大小写概念\n",
    "print(s5.islower())\n",
    "print(s5.isupper())"
   ]
  },
  {
   "cell_type": "code",
   "execution_count": 8,
   "metadata": {},
   "outputs": [
    {
     "name": "stdout",
     "output_type": "stream",
     "text": [
      "FFFFukang love allan\n",
      "\n",
      "FFFFukang love allan-----------\n",
      "ukang love allan \n",
      "\n",
      "ukang love allan \n"
     ]
    }
   ],
   "source": [
    "# 操作类函数\n",
    "\n",
    "c = \"FFFFukang love allan \"\n",
    "# 是否成功删除两边空格不能观察出来\n",
    "print(c.strip())\n",
    "print()\n",
    "print(c.strip(), end=\"-----\")\n",
    "\n",
    "print(\"------\")\n",
    "print(c.strip(\"F\"))\n",
    "print()\n",
    "print(c.strip(\"F\"))"
   ]
  },
  {
   "cell_type": "code",
   "execution_count": 9,
   "metadata": {},
   "outputs": [
    {
     "name": "stdout",
     "output_type": "stream",
     "text": [
      "fukang$love$allan$haha\n",
      "fukang-love-allan-haha\n",
      "fukang love allan haha\n"
     ]
    }
   ],
   "source": [
    "# join的例子，我们需要使用s1，s2，s3作为分隔符，把ss内的内容拼接在一起\n",
    "s1 = \"$\"\n",
    "s2 = \"-\"\n",
    "s3 = \" \"\n",
    "ss = [\"fukang\", \"love\", \"allan\", \"haha\"]\n",
    "\n",
    "print(s1.join(ss))\n",
    "print(s2.join(ss))\n",
    "print(s3.join(ss))"
   ]
  },
  {
   "cell_type": "markdown",
   "metadata": {},
   "source": [
    "# list列表\n",
    "- 一组有序数据做成的序列\n",
    "  - 数据具有先后顺序\n",
    "  - 数据可以不是一类数据\n",
    "- list的创建\n",
    "  - 直接创建，用中括号创建，内容直接用英文逗号隔开\n",
    "  - 使用list创建\n",
    "  - 列表包含单个字符串的时候是一个特例\n",
    "  - \n",
    "\n",
    "\n",
    "- python中的内置类型：\n",
    "  - str\n",
    "  - list\n",
    "  - tuple\n",
    "  - set\n",
    "  - dict\n",
    "  "
   ]
  },
  {
   "cell_type": "code",
   "execution_count": 11,
   "metadata": {},
   "outputs": [
    {
     "name": "stdout",
     "output_type": "stream",
     "text": [
      "[1, 2, 3, 4, 5]\n",
      "[1, 2, 3, 'fukang', '福康']\n"
     ]
    }
   ],
   "source": [
    "# 直接赋值创建列表\n",
    "L1 = [1,2,3,4,5]\n",
    "# list内数据可以不是一个类型\n",
    "L2 = [1,2,3,\"fukang\", \"福康\"]\n",
    "print(L1)\n",
    "print(L2)"
   ]
  },
  {
   "cell_type": "code",
   "execution_count": 13,
   "metadata": {},
   "outputs": [
    {
     "name": "stdout",
     "output_type": "stream",
     "text": [
      "[]\n",
      "<class 'list'>\n"
     ]
    }
   ],
   "source": [
    "# 创建列表的第二种方式\n",
    "L3 = list()\n",
    "print(L3)\n",
    "print(type(L3))"
   ]
  },
  {
   "cell_type": "code",
   "execution_count": 14,
   "metadata": {},
   "outputs": [],
   "source": [
    "# 内置函数的概念\n",
    "#- help: 帮助函数\n",
    "#- type：显示变量的id\n",
    "#- print："
   ]
  },
  {
   "cell_type": "code",
   "execution_count": 19,
   "metadata": {},
   "outputs": [
    {
     "name": "stdout",
     "output_type": "stream",
     "text": [
      "<class 'list'>\n",
      "['f', 'u', 'k', 'a', 'n', 'g']\n"
     ]
    }
   ],
   "source": [
    "# list创建的特例演示\n",
    "\n",
    "s = \"fukang\"\n",
    "\n",
    "# 想创建一个只包含L1一个字符串的列表\n",
    "\n",
    "L1 = list(s)\n",
    "# 此种情况用L1 = [s]\n",
    "print(type(L1))\n",
    "print(L1)"
   ]
  },
  {
   "cell_type": "markdown",
   "metadata": {},
   "source": [
    "# 例表的常见操作\n",
    "- 访问\n",
    "  - 使用下标操作，也叫索引\n",
    "  - 列表的元素索引是从0开始\n",
    "  \n",
    "- 切片操作\n",
    "  - 对列表进行任意一段的截取\n",
    "  - 截取之后，创建一个新的列表"
   ]
  },
  {
   "cell_type": "code",
   "execution_count": 21,
   "metadata": {},
   "outputs": [
    {
     "name": "stdout",
     "output_type": "stream",
     "text": [
      "354\n"
     ]
    }
   ],
   "source": [
    "L1 = [32,43,22,354,323,4]\n",
    "# 使用下标访问\n",
    "# 记住IndexError引发的原因\n",
    "print(L1[3])"
   ]
  },
  {
   "cell_type": "code",
   "execution_count": 30,
   "metadata": {},
   "outputs": [
    {
     "name": "stdout",
     "output_type": "stream",
     "text": [
      "[20, 30, 40, 50, 60]\n",
      "1817145974024\n",
      "1817147158984\n",
      "[10, 20, 30, 40]\n",
      "[30, 40, 50, 60, 70, 80, 90, 100]\n",
      "[10, 20, 30, 40, 50, 60, 70, 80, 90, 100]\n"
     ]
    }
   ],
   "source": [
    "# 切片操作需要注意取值范围，左包括右不包括\n",
    "L1 = [10,20,30,40,50,60,70,80,90,100]\n",
    "\n",
    "print(L1[1:6])\n",
    "\n",
    "# 下面结果说明切片生成的是一个全新的列表\n",
    "# 通过内置函数id可以判断出切片是否生成了全新的列表\n",
    "# id的作用是用来判断两个变量是否是一个变量\n",
    "\n",
    "L2 = L1[0:10]\n",
    "print(id(L1))\n",
    "print(id(L2))\n",
    "\n",
    "\n",
    "# 切片下标可以为空\n",
    "print(L1[:4])\n",
    "print(L1[2:])\n",
    "print(L1[:])"
   ]
  },
  {
   "cell_type": "code",
   "execution_count": 33,
   "metadata": {},
   "outputs": [
    {
     "name": "stdout",
     "output_type": "stream",
     "text": [
      "[10, 20, 30, 40, 50, 60, 70, 80, 90, 100]\n",
      "[10, 30, 50, 70, 90]\n"
     ]
    }
   ],
   "source": [
    "# 分片可以控制增长幅度，默认增长幅度为1\n",
    "print(L1[::1]) # 等于print(L1[:])\n",
    "print(L2[::2])"
   ]
  },
  {
   "cell_type": "code",
   "execution_count": 34,
   "metadata": {},
   "outputs": [
    {
     "name": "stdout",
     "output_type": "stream",
     "text": [
      "[10, 20, 30, 40, 50, 60, 70, 80, 90, 100]\n"
     ]
    }
   ],
   "source": [
    "# 下标可以超出范围，超出范围后不在考虑多余下表内容\n",
    "\n",
    "print(L1[:100])"
   ]
  },
  {
   "cell_type": "code",
   "execution_count": 40,
   "metadata": {},
   "outputs": [
    {
     "name": "stdout",
     "output_type": "stream",
     "text": [
      "[90, 80, 70]\n",
      "[70, 80, 90]\n"
     ]
    }
   ],
   "source": [
    "# 下标值，增长幅度可以为负数\n",
    "# 下标值为负数，表明顺序是从右往左\n",
    "# 规定：数组最后一个数字的下标是-1\n",
    "\n",
    "# 下面例子为空，因为默认是从左向右移动\n",
    "# print(L1[-2:-5])\n",
    "\n",
    "# 如果真的想用负数下标打印90，80，70\n",
    "print(L1[-2:-5:-1])\n",
    "\n",
    "# 如果想用负数下标打印70，80，90\n",
    "print(L1[-4:-1:1])"
   ]
  },
  {
   "cell_type": "markdown",
   "metadata": {},
   "source": [
    "# tuple元组\n",
    "- 可以理解成一个不允许更改的列表\n",
    "\n",
    "### tuple其余特征跟list基本一致\n",
    "- 有序\n",
    "- 可以访问不可以被修改\n",
    "- 元素可以是任意类型"
   ]
  },
  {
   "cell_type": "code",
   "execution_count": 15,
   "metadata": {},
   "outputs": [
    {
     "name": "stdout",
     "output_type": "stream",
     "text": [
      "<class 'tuple'>\n",
      "<class 'int'>\n",
      "<class 'tuple'>\n",
      "(100, 200, 300)\n",
      "<class 'tuple'>\n",
      "<class 'tuple'>\n",
      "()\n",
      "[1, 2, 3, 'fukang']\n",
      "(1, 2, 3, 'fukang')\n"
     ]
    }
   ],
   "source": [
    "# tuple的创建\n",
    "\n",
    "# 1 直接用小括号\n",
    "ta = ()\n",
    "print(type(ta))\n",
    "#当用小括号创建一个元素的tuple的时候\n",
    "tb = (100)\n",
    "print(type(tb))\n",
    "tc = (200, )\n",
    "print(type(tc))\n",
    "td = (100,200,300)\n",
    "print(td)\n",
    "\n",
    "# 2 直接用逗号\n",
    "ta = 100,\n",
    "print(type(ta))\n",
    "tb = 100,200,300,\n",
    "print(type(tb))\n",
    "\n",
    "# 3 使用tuple定义\n",
    "ta = tuple()\n",
    "print(ta)\n",
    "li = [1,2,3,\"fukang\"]\n",
    "tb = tuple(li) # 要求tuple参数必须是可迭代\n",
    "print(li)\n",
    "print(tb)"
   ]
  },
  {
   "cell_type": "code",
   "execution_count": 16,
   "metadata": {},
   "outputs": [
    {
     "name": "stdout",
     "output_type": "stream",
     "text": [
      "['i', 'love', 'u']\n",
      "u\n"
     ]
    }
   ],
   "source": [
    "# tuple索引操作\n",
    "la = [\"i\", \"love\", \"u\"]\n",
    "print(la)\n",
    "ta = tuple(la)\n",
    "print(ta[2])"
   ]
  },
  {
   "cell_type": "code",
   "execution_count": 17,
   "metadata": {},
   "outputs": [
    {
     "name": "stdout",
     "output_type": "stream",
     "text": [
      "('i', 'love', 'u')\n",
      "('i', 'love')\n",
      "('u', 'love', 'i')\n"
     ]
    }
   ],
   "source": [
    "# tuple分片操作\n",
    "print(ta[:])\n",
    "print(ta[:2]) # 到此为止，不包括下标2的值\n",
    "print(ta[-1::-1])"
   ]
  },
  {
   "cell_type": "code",
   "execution_count": 18,
   "metadata": {},
   "outputs": [
    {
     "name": "stdout",
     "output_type": "stream",
     "text": [
      "(100, 200, 300, 'i', 'love', 'u')\n"
     ]
    }
   ],
   "source": [
    "# 元组的相加\n",
    "ta = 100,200,300\n",
    "tb = (\"i\", \"love\", \"u\")\n",
    "tc = ta + tb\n",
    "print(tc)"
   ]
  },
  {
   "cell_type": "code",
   "execution_count": 19,
   "metadata": {},
   "outputs": [
    {
     "name": "stdout",
     "output_type": "stream",
     "text": [
      "('i', 'love', 'u', 'i', 'love', 'u')\n"
     ]
    }
   ],
   "source": [
    "# tuple乘法\n",
    "tc = tb * 2\n",
    "print(tc)"
   ]
  },
  {
   "cell_type": "code",
   "execution_count": 20,
   "metadata": {},
   "outputs": [
    {
     "name": "stdout",
     "output_type": "stream",
     "text": [
      "('i', 'love', 'u')\n",
      "yes\n"
     ]
    }
   ],
   "source": [
    "# tuple 成员检测\n",
    "print(tb)\n",
    "\n",
    "if \"u\" in tb:\n",
    "    print(\"yes\")\n",
    "    \n",
    "if \"love\" not in tb:\n",
    "    print(\"no\")"
   ]
  },
  {
   "cell_type": "code",
   "execution_count": 21,
   "metadata": {},
   "outputs": [
    {
     "name": "stdout",
     "output_type": "stream",
     "text": [
      "i\n",
      "love\n",
      "u\n"
     ]
    }
   ],
   "source": [
    "# 元组遍历\n",
    "\n",
    "for i in tb:\n",
    "    print(i)"
   ]
  },
  {
   "cell_type": "code",
   "execution_count": 26,
   "metadata": {},
   "outputs": [
    {
     "name": "stdout",
     "output_type": "stream",
     "text": [
      "(10, 20, 30)\n",
      "10\n",
      "20\n",
      "30\n",
      "('i', 'love', 'u')\n",
      "i\n",
      "love\n",
      "u\n",
      "(100, 200, 300)\n",
      "100\n",
      "200\n",
      "300\n",
      "10 20 30\n",
      "i love u\n",
      "100 200 300\n"
     ]
    }
   ],
   "source": [
    "ta = ((10,20,30), (\"i\", \"love\", \"u\"), (100,200,300))\n",
    "# 嵌套元组的访问\n",
    "# 1 双层循环访问\n",
    "\n",
    "for i in ta:\n",
    "    print(i)\n",
    "    for j in i:\n",
    "        print(j)\n",
    "        \n",
    "# 2 使用单层循环\n",
    "for i,j,k in ta:\n",
    "    print(i,j,k)\n",
    "    \n",
    "# 上面有一个规定，即i，j，k 要跟元组个数对应\n",
    "#for i,j,k,q in ta:\n",
    "    #print(i,j,k,q)"
   ]
  },
  {
   "cell_type": "code",
   "execution_count": 28,
   "metadata": {},
   "outputs": [
    {
     "name": "stdout",
     "output_type": "stream",
     "text": [
      "3\n"
     ]
    },
    {
     "ename": "TypeError",
     "evalue": "'>' not supported between instances of 'str' and 'int'",
     "output_type": "error",
     "traceback": [
      "\u001b[1;31m---------------------------------------------------------------------------\u001b[0m",
      "\u001b[1;31mTypeError\u001b[0m                                 Traceback (most recent call last)",
      "\u001b[1;32m<ipython-input-28-455b90112e75>\u001b[0m in \u001b[0;36m<module>\u001b[1;34m\u001b[0m\n\u001b[0;32m      4\u001b[0m \u001b[1;33m\u001b[0m\u001b[0m\n\u001b[0;32m      5\u001b[0m \u001b[1;31m# max:最大值\u001b[0m\u001b[1;33m\u001b[0m\u001b[1;33m\u001b[0m\u001b[1;33m\u001b[0m\u001b[0m\n\u001b[1;32m----> 6\u001b[1;33m \u001b[0mprint\u001b[0m\u001b[1;33m(\u001b[0m\u001b[0mmax\u001b[0m\u001b[1;33m(\u001b[0m\u001b[0mta\u001b[0m\u001b[1;33m)\u001b[0m\u001b[1;33m)\u001b[0m\u001b[1;33m\u001b[0m\u001b[1;33m\u001b[0m\u001b[0m\n\u001b[0m",
      "\u001b[1;31mTypeError\u001b[0m: '>' not supported between instances of 'str' and 'int'"
     ]
    }
   ],
   "source": [
    "# 常用元组函数\n",
    "# len:长度\n",
    "print(len(ta))\n",
    "\n",
    "# max:最大值，不同格式字符不能进行比较\n",
    "# print(max(ta))"
   ]
  },
  {
   "cell_type": "code",
   "execution_count": 3,
   "metadata": {},
   "outputs": [
    {
     "name": "stdout",
     "output_type": "stream",
     "text": [
      "7\n",
      "34\n"
     ]
    }
   ],
   "source": [
    "# 常用元组函数\n",
    "\n",
    "ta = (1,34,5,23,2,2,3)\n",
    "# len:长度\n",
    "print(len(ta))\n",
    "\n",
    "# max/min:最大值，不同格式字符不能进行比较\n",
    "print(max(ta))\n",
    "\n",
    "# tb = (1,2,3,\"love\")\n",
    "# print(max(tb))"
   ]
  },
  {
   "cell_type": "code",
   "execution_count": 8,
   "metadata": {},
   "outputs": [
    {
     "name": "stdout",
     "output_type": "stream",
     "text": [
      "6\n",
      "2\n"
     ]
    }
   ],
   "source": [
    "# count: 对某个元素计数\n",
    "ta = (1,2,3,4,23,1,1,1,1,1)\n",
    "print(ta.count(1))\n",
    "\n",
    "# index：某个元素所在的位置\n",
    "print(ta.index(3))"
   ]
  },
  {
   "cell_type": "code",
   "execution_count": 11,
   "metadata": {},
   "outputs": [
    {
     "name": "stdout",
     "output_type": "stream",
     "text": [
      "100 i love u\n",
      "i love u 100\n"
     ]
    }
   ],
   "source": [
    "# tuple的特殊用法\n",
    "\n",
    "a = 100\n",
    "b = \"i love u\"\n",
    "# 要求对a，b值进行互换\n",
    "# 此种用法是pathon的独门秘籍\n",
    "print(a,b)\n",
    "a, b = b, a\n",
    "print(a,b)"
   ]
  },
  {
   "cell_type": "markdown",
   "metadata": {},
   "source": [
    "# 集合\n",
    "- 跟数学中集合的概念一致\n",
    "- 内容无序 + 内容不重复"
   ]
  },
  {
   "cell_type": "code",
   "execution_count": 23,
   "metadata": {},
   "outputs": [
    {
     "name": "stdout",
     "output_type": "stream",
     "text": [
      "set()\n",
      "{1, 2, 3, 4, 5, 34, 12}\n",
      "{1, 2, 3, 4, 5, 456, 12, 2234}\n"
     ]
    }
   ],
   "source": [
    "# 集合的定义\n",
    "\n",
    "# 1 通过set关键字\n",
    "sa = set()\n",
    "print(sa)\n",
    "\n",
    "li = [1,2,3,4,5,4,3,12,3,34,4,1,2]\n",
    "sb = set(li)\n",
    "print(sb)\n",
    "\n",
    "# 2 使用大括号\n",
    "sc = {1,2,3,4,5,4,3,12,3,2234,456}\n",
    "print(sc)"
   ]
  },
  {
   "cell_type": "code",
   "execution_count": 24,
   "metadata": {},
   "outputs": [
    {
     "name": "stdout",
     "output_type": "stream",
     "text": [
      "222222\n",
      "1\n",
      "2\n",
      "3\n",
      "4\n",
      "5\n",
      "456\n",
      "12\n",
      "2234\n"
     ]
    }
   ],
   "source": [
    "# in 操作\n",
    "\n",
    "if 2 in sc:\n",
    "    print(222222)\n",
    "    \n",
    "if 23 in sc:\n",
    "    print(4444444)\n",
    "\n",
    "for i in sc:\n",
    "    print(i)"
   ]
  },
  {
   "cell_type": "code",
   "execution_count": 25,
   "metadata": {},
   "outputs": [
    {
     "name": "stdout",
     "output_type": "stream",
     "text": [
      "i love u\n",
      "4 5 6\n",
      "1 2 3\n"
     ]
    }
   ],
   "source": [
    "# 集合的另一种遍历\n",
    "\n",
    "sa = {(1,2,3), (4,5,6), (\"i\", \"love\", \"u\")}\n",
    "\n",
    "for i,j,k in sa:\n",
    "    print(i,j,k)"
   ]
  },
  {
   "cell_type": "code",
   "execution_count": 35,
   "metadata": {},
   "outputs": [
    {
     "name": "stdout",
     "output_type": "stream",
     "text": [
      "{1, 2, 3, 4, 5, 6, 8, 9, 10, 2222}\n",
      "{2, 4, 6, 8, 10, 2222}\n",
      "{64, 1, 4, 36, 100, 4937284, 9, 16, 81, 25}\n",
      "{1, 2, 3, 4, 5, 6, 8, 9, 10, 6666, 12, 15, 16, 18, 20, 13332, 24, 25, 27, 30, 19998, 32, 36, 40, 45, 2222, 48, 50, 54, 8888, 60, 64, 4937284, 72, 22220, 80, 81, 90, 4444, 100, 11110, 17776}\n"
     ]
    }
   ],
   "source": [
    "# 集合的生成式\n",
    "sa = {1,2,3,4,5,6,2222,8,9,10}\n",
    "\n",
    "# 利用撒生成一个sb\n",
    "sb = {i for i in sa}\n",
    "print(sb)\n",
    "\n",
    "sc = {i for i in sa if i % 2 == 0}\n",
    "print(sc)\n",
    "\n",
    "# 双重for循环\n",
    "# 把sa中的每一个元素的平方生成一个新的集合\n",
    "# 1 用一个for\n",
    "sd = {i**2 for i in sa}\n",
    "print(sd)\n",
    "\n",
    "# 2 使用两个for\n",
    "# 仔细思考，se的长度应该是多少个\n",
    "se = {m*n for m in sa for n in sa}\n",
    "print(se)"
   ]
  },
  {
   "cell_type": "code",
   "execution_count": 41,
   "metadata": {},
   "outputs": [
    {
     "name": "stdout",
     "output_type": "stream",
     "text": [
      "42\n",
      "{1, 2, 3, 4, 5, 6}\n",
      "None\n",
      "{1, 2, 3, 4, 5, 6, 7}\n"
     ]
    }
   ],
   "source": [
    "# 集合的内置函数\n",
    "# len：长度\n",
    "\n",
    "print(len(se))\n",
    "\n",
    "# max/min: 最值\n",
    "# add：向集合中添加元素\n",
    "\n",
    "sa = {1,2,3,4,5,6,5,4,3,2,1}\n",
    "print(sa)\n",
    "# 打印结果不是sa,why?\n",
    "print(sa.add(7))\n",
    "print(sa)\n",
    "# clear：清空\n"
   ]
  },
  {
   "cell_type": "code",
   "execution_count": 44,
   "metadata": {},
   "outputs": [
    {
     "name": "stdout",
     "output_type": "stream",
     "text": [
      "{1, 2, 3, 4, 5, 6}\n",
      "{1, 2, 3, 4, 6}\n"
     ]
    },
    {
     "ename": "NameError",
     "evalue": "name 'remove' is not defined",
     "output_type": "error",
     "traceback": [
      "\u001b[1;31m---------------------------------------------------------------------------\u001b[0m",
      "\u001b[1;31mNameError\u001b[0m                                 Traceback (most recent call last)",
      "\u001b[1;32m<ipython-input-44-e5d26a5f5f98>\u001b[0m in \u001b[0;36m<module>\u001b[1;34m\u001b[0m\n\u001b[0;32m      6\u001b[0m \u001b[0mprint\u001b[0m\u001b[1;33m(\u001b[0m\u001b[0msa\u001b[0m\u001b[1;33m)\u001b[0m\u001b[1;33m\u001b[0m\u001b[1;33m\u001b[0m\u001b[0m\n\u001b[0;32m      7\u001b[0m \u001b[1;31m# remove删除的值如果不在集合中，报错\u001b[0m\u001b[1;33m\u001b[0m\u001b[1;33m\u001b[0m\u001b[1;33m\u001b[0m\u001b[0m\n\u001b[1;32m----> 8\u001b[1;33m \u001b[0msa\u001b[0m\u001b[1;33m,\u001b[0m\u001b[0mremove\u001b[0m\u001b[1;33m(\u001b[0m\u001b[1;36m5\u001b[0m\u001b[1;33m)\u001b[0m\u001b[1;33m\u001b[0m\u001b[1;33m\u001b[0m\u001b[0m\n\u001b[0m",
      "\u001b[1;31mNameError\u001b[0m: name 'remove' is not defined"
     ]
    }
   ],
   "source": [
    "# 删除操作\n",
    "# remove和discard的区别\n",
    "sa = {1,2,3,4,5,6,5,4,3,2,1}\n",
    "print(sa)\n",
    "sa.remove(5)\n",
    "print(sa)\n",
    "# remove删除的值如果不在集合中，报错\n",
    "# sa,remove(5)"
   ]
  },
  {
   "cell_type": "code",
   "execution_count": 46,
   "metadata": {},
   "outputs": [
    {
     "name": "stdout",
     "output_type": "stream",
     "text": [
      "{1, 2, 3, 4, 5, 6}\n",
      "{1, 2, 3, 4, 6}\n",
      "{1, 2, 3, 4, 6}\n"
     ]
    }
   ],
   "source": [
    "# 删除操作\n",
    "# remove和discard的区别\n",
    "sa = {1,2,3,4,5,6,5,4,3,2,1}\n",
    "print(sa)\n",
    "sa.discard(5)\n",
    "print(sa)\n",
    "# remove删除的值如果不在集合中，报错\n",
    "sa.discard(5)\n",
    "print(sa)"
   ]
  },
  {
   "cell_type": "code",
   "execution_count": 67,
   "metadata": {},
   "outputs": [
    {
     "name": "stdout",
     "output_type": "stream",
     "text": [
      "{1, 2, 3, 4, 5, 6}\n",
      "{2, 3, 4, 5, 6}\n"
     ]
    }
   ],
   "source": [
    "# pop弹出集合的一个内容\n",
    "# 删除的内容是随机的\n",
    "# 是删除的内容没什么规律，随机\n",
    "sa = {1,2,3,4,5,6,5,4,3,2,1}\n",
    "print(sa)\n",
    "sa.pop()\n",
    "print(sa)"
   ]
  },
  {
   "cell_type": "code",
   "execution_count": 1,
   "metadata": {},
   "outputs": [
    {
     "name": "stdout",
     "output_type": "stream",
     "text": [
      "{4, 5, 6}\n",
      "{1, 2, 3}\n",
      "{1, 2, 3}\n",
      "{1, 2, 3, 4, 5, 6, 7, 8, 9}\n"
     ]
    }
   ],
   "source": [
    "# 集合的数学操作\n",
    "# intersection：交集\n",
    "sa = {1,2,3,4,5,6}\n",
    "sb = {4,5,6,7,8,9}\n",
    "# sa和sb的交集\n",
    "print(sa.intersection(sb))\n",
    "\n",
    "# diference: 差集\n",
    "print(sa.difference(sb))\n",
    "# 差集的另一种表示\n",
    "print(sa - sb)\n",
    "# union：并集\n",
    "print(sa.union(sb))\n",
    "# 并集不能用 + 计算\n"
   ]
  },
  {
   "cell_type": "markdown",
   "metadata": {},
   "source": [
    "# frozenset冰冻集合\n",
    "- 不允许修改的集合\n"
   ]
  },
  {
   "cell_type": "code",
   "execution_count": 3,
   "metadata": {},
   "outputs": [
    {
     "name": "stdout",
     "output_type": "stream",
     "text": [
      "{1, 2, 3, 4, 5, 6}\n"
     ]
    },
    {
     "data": {
      "text/plain": [
       "frozenset({1, 2, 3, 4, 5, 6})"
      ]
     },
     "execution_count": 3,
     "metadata": {},
     "output_type": "execute_result"
    }
   ],
   "source": [
    "# 案例\n",
    "print(sa)\n",
    "sb = frozenset(sa)\n",
    "frozenset(sb)"
   ]
  },
  {
   "cell_type": "markdown",
   "metadata": {},
   "source": [
    "# 递进函数\n",
    "- 递归：函数直接或者间接调用自己\n",
    "- 递归分两个过程\n",
    "  - 往下调用，分解的过程\n",
    "  - 往上回溯，综合的过程\n",
    "  \n",
    "- 递归需要注意\n",
    "  - 一定要有介绍条件\n",
    "- 是以资源换取编写速度"
   ]
  },
  {
   "cell_type": "code",
   "execution_count": 5,
   "metadata": {},
   "outputs": [
    {
     "name": "stdout",
     "output_type": "stream",
     "text": [
      "i love u\n",
      "i love he\n"
     ]
    }
   ],
   "source": [
    "def funa(n):\n",
    "    print(\"i love u\")\n",
    "    \n",
    "def funb(n):\n",
    "    funa(100)\n",
    "    print(\"i love he\")\n",
    "    \n",
    "funb(100)"
   ]
  },
  {
   "cell_type": "code",
   "execution_count": 7,
   "metadata": {},
   "outputs": [
    {
     "name": "stdout",
     "output_type": "stream",
     "text": [
      "5\n",
      "4\n",
      "3\n",
      "2\n",
      "1\n",
      "f(5) =  120\n"
     ]
    }
   ],
   "source": [
    "# fun_a表示计算阶乘\n",
    "# 利用数学公式\n",
    "def fun_a(n):\n",
    "    print(n)\n",
    "    # 递归一定要有结束条件\n",
    "    if n == 1:\n",
    "        return 1\n",
    "    return n * fun_a(n-1)\n",
    "\n",
    "rst = fun_a(5)\n",
    "print(\"f(5) = \", rst)"
   ]
  },
  {
   "cell_type": "code",
   "execution_count": 8,
   "metadata": {},
   "outputs": [
    {
     "name": "stdout",
     "output_type": "stream",
     "text": [
      "rst =  55\n"
     ]
    }
   ],
   "source": [
    "# 递归必须有技术条件，否则会死掉\n",
    "# 斐波那契额数列\n",
    "# 数学定义自行查找\n",
    "# f(n) = f(n-1) + f(n-2), n >= 3\n",
    "# f(n) =1, n = {1,2...}\n",
    "\n",
    "def fib(n):\n",
    "    if n == 1 or n == 2:\n",
    "        return 1\n",
    "    return fib(n-1) + fib(n-2)\n",
    "\n",
    "rst = fib(10)\n",
    "print(\"rst = \", rst)"
   ]
  },
  {
   "cell_type": "code",
   "execution_count": 7,
   "metadata": {},
   "outputs": [],
   "source": [
    "# 汉诺塔\n",
    "# 目的：A ☞ C\n",
    "# 每次一个\n",
    "# 所有ABC\n",
    "\n",
    "a = \"A\"\n",
    "b = \"B\"\n",
    "c = \"C\"\n",
    "def hano(a,b,c,n):\n",
    "    if n == 1:\n",
    "        print(\"{}-->{}\".format(a,c))\n",
    "        return None\n",
    "    if n == 2:\n",
    "        print(\"{}-->{}\".format(a,c))\n",
    "        print(\"{}-->{}\".format(a,b))\n",
    "        print(\"{}-->{}\".format(b,c))\n",
    "        return None\n",
    "    hano(a,c,b,n-1)\n",
    "    print(\"{}-->{}\".format(a,c))\n",
    "    hano(b,a,c,n-1)"
   ]
  },
  {
   "cell_type": "code",
   "execution_count": 8,
   "metadata": {},
   "outputs": [
    {
     "name": "stdout",
     "output_type": "stream",
     "text": [
      "A-->C\n"
     ]
    }
   ],
   "source": [
    "# 只有一个盘子\n",
    "hano(a,b,c,1)"
   ]
  },
  {
   "cell_type": "code",
   "execution_count": 9,
   "metadata": {},
   "outputs": [
    {
     "name": "stdout",
     "output_type": "stream",
     "text": [
      "A-->C\n",
      "A-->B\n",
      "B-->C\n"
     ]
    }
   ],
   "source": [
    "# 两个盘子\n",
    "hano(a,b,c,2)"
   ]
  },
  {
   "cell_type": "code",
   "execution_count": 11,
   "metadata": {},
   "outputs": [],
   "source": [
    "# 五个盘子\n",
    "# hano(a,b,c,5)"
   ]
  },
  {
   "cell_type": "code",
   "execution_count": 13,
   "metadata": {},
   "outputs": [],
   "source": [
    "s = \"hello world\""
   ]
  },
  {
   "cell_type": "code",
   "execution_count": 16,
   "metadata": {},
   "outputs": [
    {
     "data": {
      "text/plain": [
       "-1"
      ]
     },
     "execution_count": 16,
     "metadata": {},
     "output_type": "execute_result"
    }
   ],
   "source": [
    "s.find(\"o\", 5,7) # 左包括右不包括"
   ]
  },
  {
   "cell_type": "markdown",
   "metadata": {},
   "source": [
    "# OPP\n",
    "- 思想\n",
    "  - 以模块化思想解决工程问题\n",
    "  - 面向过程 vs 面向对象\n",
    "  - 由面向过程转向面向对象\n",
    "  - 例子，我要开一个学校，叫轻语学院，主要讲少儿编程\n",
    "    - 讲师\n",
    "    - 学生\n",
    "    - 班主任\n",
    "    - 教室\n",
    "    - 学校\n",
    "- 常用名词\n",
    "  - 00：面向对象\n",
    "  - ooa：分析\n",
    "  - ood：设计\n",
    "  - oop：编程\n",
    "  - ool：实现\n",
    "  - ooa -> ood -> ooi\n",
    "  \n",
    "- 类 vs 对象\n",
    "  - 类：抽象，描述的是一个集合，侧重与共性\n",
    "  - 对象：具体，描述的是个体\n",
    "- 类的内容：\n",
    "  - 动作，函数\n",
    "  - 属性，变量\n",
    "- is-a\n",
    "\n",
    "- 定义类：class关键字\n",
    "- 类命名：\n",
    "  - 遵循大驼峰\n",
    "  - 第一个字母大写\n",
    "  \n",
    "\n",
    "  "
   ]
  },
  {
   "cell_type": "code",
   "execution_count": 2,
   "metadata": {},
   "outputs": [],
   "source": [
    "##定义学生类，和几个学生\n",
    "\n",
    "class Student():\n",
    "    # 此处定义一个空类\n",
    "    # pass是关键子，表示占位用，无意义\n",
    "    pass"
   ]
  },
  {
   "cell_type": "code",
   "execution_count": 3,
   "metadata": {},
   "outputs": [],
   "source": [
    "# 定义一个对象\n",
    "fukang = Student()"
   ]
  },
  {
   "cell_type": "code",
   "execution_count": 21,
   "metadata": {},
   "outputs": [
    {
     "name": "stdout",
     "output_type": "stream",
     "text": [
      "NoOne\n",
      "18\n",
      "Python\n"
     ]
    }
   ],
   "source": [
    "# 定义\n",
    "class PythonStudent():\n",
    "    name = \"NoOne\"\n",
    "    age = 18\n",
    "    course = \"Python\"\n",
    "    '''\n",
    "    定义类中的函数\n",
    "    一般需要有self关键字\n",
    "    其余跟普通函数基本相同\n",
    "    '''\n",
    "    \n",
    "    def giveMeMoney():\n",
    "        print(\"Show me the money\")\n",
    "        return None\n",
    "    \n",
    "xiaobai = PythonStudent()\n",
    "print(xiaobai.name)\n",
    "print(xiaobai.age)\n",
    "print(xiaobai.course)"
   ]
  },
  {
   "cell_type": "code",
   "execution_count": 30,
   "metadata": {},
   "outputs": [],
   "source": [
    "# 类的例子\n",
    "# 注意类的定义\n",
    "class Student():\n",
    "    # name，age属于类的变量\n",
    "    # 注意类的变量的定义位置和方法\n",
    "    # 不需要前缀 \n",
    "    name = \"北京图灵学院\"\n",
    "    age = 19\n",
    "    \n",
    "    def sayHi(self):\n",
    "        print(\"爱图灵，爱生活\")\n",
    "        return None\n",
    "# self可以更换名字\n",
    "    def sayHai(meme):\n",
    "        print(\"爱咪咪，爱图灵\")"
   ]
  },
  {
   "cell_type": "code",
   "execution_count": 29,
   "metadata": {},
   "outputs": [
    {
     "name": "stdout",
     "output_type": "stream",
     "text": [
      "<__main__.Student object at 0x000001EA596F5948>\n"
     ]
    }
   ],
   "source": [
    "# 实例化\n",
    "# 作业：中文能否当作变量名称\n",
    "\n",
    "福康 = Student()\n",
    "\n",
    "print(福康)"
   ]
  },
  {
   "cell_type": "markdown",
   "metadata": {},
   "source": [
    "# self\n",
    "- self可以用别的名称代替\n",
    "- self不是关键字\n",
    "- 作用是指代本身\n"
   ]
  },
  {
   "cell_type": "code",
   "execution_count": 31,
   "metadata": {},
   "outputs": [
    {
     "name": "stdout",
     "output_type": "stream",
     "text": [
      "爱图灵，爱生活\n"
     ]
    }
   ],
   "source": [
    "# self举例\n",
    "\n",
    "# 实例调用函数\n",
    "\n",
    "fukang = Student()\n",
    "\n",
    "# 让福康跟我打招呼\n",
    "# 福康调用sayHi没有输入参数\n",
    "# 因为默认实例作为第一个参数传入\n",
    "fukang.sayHi()\n",
    "\n",
    "# 错误的案例\n",
    "#a = \"哈哈\"\n",
    "#fukang.sayHi(a)\n",
    "\n",
    "\n"
   ]
  },
  {
   "cell_type": "code",
   "execution_count": 32,
   "metadata": {},
   "outputs": [
    {
     "name": "stdout",
     "output_type": "stream",
     "text": [
      "爱咪咪，爱图灵\n"
     ]
    }
   ],
   "source": [
    "# 参看sayHai的定义，说明self的名称可更改\n",
    "fukang.sayHai()"
   ]
  },
  {
   "cell_type": "markdown",
   "metadata": {},
   "source": [
    "# 类的变量作用域的问题\n",
    "- 类变量：属于类自己的变量\n",
    "- 实例变量：属于实例的变量\n",
    "- 范文实例的，属性如果实例没有定义属性，则自动访问类的属性，如果类也没有定义，报错"
   ]
  },
  {
   "cell_type": "code",
   "execution_count": 34,
   "metadata": {},
   "outputs": [
    {
     "name": "stdout",
     "output_type": "stream",
     "text": [
      "My name is 北京图灵学院, i am 19 years old\n"
     ]
    }
   ],
   "source": [
    "# 注意类的定义\n",
    "class Student():\n",
    "    # name，age属于类的变量\n",
    "    # 注意类的变量的定义位置和方法\n",
    "    # 不需要前缀 \n",
    "    name = \"北京图灵学院\"\n",
    "    age = 19\n",
    "    \n",
    "    def sayHi(self):\n",
    "        print(\"My name is {}, i am {} years old\".format(self.name, self.age))\n",
    "        return None\n",
    "    \n",
    "fukang = Student()\n",
    "fukang.sayHi()"
   ]
  },
  {
   "cell_type": "code",
   "execution_count": 40,
   "metadata": {},
   "outputs": [
    {
     "name": "stdout",
     "output_type": "stream",
     "text": [
      "My name is 北京图灵学院, i am 19 years old\n",
      "My name is 北京图灵学院, i am 19 years old\n"
     ]
    }
   ],
   "source": [
    "# 注意类的定义\n",
    "class Student2():\n",
    "    # name，age属于类的变量\n",
    "    # 注意类的变量的定义位置和方法\n",
    "    # 不需要前缀 \n",
    "    name = \"北京图灵学院\"\n",
    "    age = 19\n",
    "    \n",
    "    def sayHi(self, n, a):\n",
    "        self.name = n\n",
    "        self.age = a\n",
    "        \n",
    "        print(\"My name is {}, i am {} years old\".format(self.name, self.age))\n",
    "        return None\n",
    "\n",
    "# 以下案例说明，实例变量可以接用类的变量\n",
    "\n",
    "fukang = Student2()\n",
    "# 注意观察下面语句打开和关闭后的区别\n",
    "# fukang.sayHi(\"fukang\", 17)\n",
    "print(\"My name is {}, i am {} years old\".format(Student2.name, Student2.age))\n",
    "print(\"My name is {}, i am {} years old\".format(fukang.name, fukang.age))\n",
    "\n",
    "# 如果访问实例的属性也没有定义，则自动访问类的属性\n",
    "# 如果类也没有定义，报错\n",
    "# print(fukang.father)"
   ]
  },
  {
   "cell_type": "markdown",
   "metadata": {},
   "source": [
    "# 访问类的属性\n",
    "- 在类里面如果强制访问类的属性，则需要使用__class__，注意前后面两个下划线\n",
    "- 类方法：\n",
    "  - 定义类的方法的时候，没有self参数 \n",
    "  - 类的方法中只允许使用类的内容\n",
    "  - 两种用法\n",
    "    - ClassName\n",
    "    - __class__"
   ]
  },
  {
   "cell_type": "code",
   "execution_count": 50,
   "metadata": {},
   "outputs": [],
   "source": [
    "# 注意类的定义\n",
    "class Student():\n",
    "    # name，age属于类的变量\n",
    "    # 注意类的变量的定义位置和方法\n",
    "    # 不需要前缀 \n",
    "    name = \"北京图灵学院\"\n",
    "    age = 19\n",
    "    \n",
    "    def sayHi(self):\n",
    "        print(\"My name is {}, i am {} years old\".format(self.name, self.age))\n",
    "        return None\n",
    "    # sos是类的方法\n",
    "    # 如何访问类的变量\n",
    "    # 但是调用需要用到特殊的方法\n",
    "    def sos():\n",
    "        # 类方法中不允许访问实例的任何内容\n",
    "        # 如果访问类的内容，注意两种方法\n",
    "        print(\"My name is {}, i am {} years old\".format(Student.name, __class__.age))\n",
    "        return None\n",
    "    "
   ]
  },
  {
   "cell_type": "code",
   "execution_count": 51,
   "metadata": {},
   "outputs": [
    {
     "name": "stdout",
     "output_type": "stream",
     "text": [
      "My name is 北京图灵学院, i am 19 years old\n",
      "My name is 北京图灵学院, i am 19 years old\n"
     ]
    }
   ],
   "source": [
    "# 体验类的方法\n",
    "s = Student()\n",
    "s.sayHi()\n",
    "# 调用类方法的例子\n",
    "Student.sos()"
   ]
  },
  {
   "cell_type": "markdown",
   "metadata": {},
   "source": [
    "# 构造函数\n",
    "- 类在实例化的时候，执行一些基础性的初始化的工作\n",
    "- 使用特殊的名称和写法\n",
    "- 在实例化的时候第一个被执行的函数"
   ]
  },
  {
   "cell_type": "code",
   "execution_count": 54,
   "metadata": {},
   "outputs": [
    {
     "name": "stdout",
     "output_type": "stream",
     "text": [
      "我是构造函数\n",
      "---------\n",
      "NoName\n",
      "0\n"
     ]
    }
   ],
   "source": [
    "class Student(): \n",
    "    name = \"NoName\"\n",
    "    age = 0\n",
    "    \n",
    "    # 构造函数名称固定，写法相对固定\n",
    "    def __init__(self):\n",
    "        print(\"我是构造函数\")\n",
    "    \n",
    "fukang = Student()\n",
    "print(\"---------\")\n",
    "print(fukang.name)\n",
    "print(fukang.age)"
   ]
  },
  {
   "cell_type": "markdown",
   "metadata": {},
   "source": [
    "# 面向对象的三大特征\n",
    "- 继承\n",
    "- 封装\n",
    "- 多态\n",
    "\n",
    "\n",
    "## 继承\n",
    "- 子类可以使用父类定义的内容或者行为等\n",
    "- 继承的实现\n",
    "  - 父类，基类，超类：Bass Class, Super Class\n",
    "  - 子类：有继承行为的类\n",
    "  - 所有子类必须有一个父类\n",
    "    - 如果没有，则默认为师object的子类\n",
    "    - 子类可以有多个父类\n",
    "  \n"
   ]
  },
  {
   "cell_type": "code",
   "execution_count": 1,
   "metadata": {},
   "outputs": [],
   "source": [
    "# 所有的二类必须有父类\n",
    "\n",
    "class Person1():\n",
    "    pass\n",
    "\n",
    "class Person2(object):\n",
    "    pass\n"
   ]
  },
  {
   "cell_type": "code",
   "execution_count": 2,
   "metadata": {},
   "outputs": [
    {
     "name": "stdout",
     "output_type": "stream",
     "text": [
      "NoName\n"
     ]
    }
   ],
   "source": [
    "class Person():\n",
    "    name = \"NoName\"\n",
    "    age = 0\n",
    "    \n",
    "# 父类写在类定义的时候的括号里\n",
    "class Teacher(Person):\n",
    "    pass\n",
    "\n",
    "t = Teacher()\n",
    "print(t.name)"
   ]
  },
  {
   "cell_type": "code",
   "execution_count": 3,
   "metadata": {},
   "outputs": [
    {
     "name": "stdout",
     "output_type": "stream",
     "text": [
      "飞呀飞呀飞\n",
      "NoName\n"
     ]
    }
   ],
   "source": [
    "class Bird():\n",
    "    fly = \"Yes, we can\"\n",
    "    def flying(self):\n",
    "        print(\"飞呀飞呀飞\")\n",
    "        \n",
    "        \n",
    "class BirdMan(Person, Bird):\n",
    "    pass\n",
    "\n",
    "bm = BirdMan()\n",
    "bm.flying()\n",
    "print(bm.name)"
   ]
  },
  {
   "cell_type": "markdown",
   "metadata": {},
   "source": [
    "### issubclass检测是否是子类\n",
    "- 可以用来检测两个类的父子关系\n",
    "- "
   ]
  },
  {
   "cell_type": "code",
   "execution_count": 5,
   "metadata": {},
   "outputs": [
    {
     "name": "stdout",
     "output_type": "stream",
     "text": [
      "True\n",
      "True\n",
      "False\n"
     ]
    }
   ],
   "source": [
    "# 利用刚才定义的Bird, BirdMan, Person, Teacher, 检测父子关系\n",
    "\n",
    "print(issubclass(BirdMan, Bird))\n",
    "print(issubclass(BirdMan, Person))\n",
    "print(issubclass(BirdMan, Teacher))"
   ]
  },
  {
   "cell_type": "code",
   "execution_count": 12,
   "metadata": {},
   "outputs": [
    {
     "name": "stdout",
     "output_type": "stream",
     "text": [
      "Help on built-in function issubclass in module builtins:\n",
      "\n",
      "issubclass(cls, class_or_tuple, /)\n",
      "    Return whether 'cls' is a derived from another class or is the same class.\n",
      "    \n",
      "    A tuple, as in ``issubclass(x, (A, B, ...))``, may be given as the target to\n",
      "    check against. This is equivalent to ``issubclass(x, A) or issubclass(x, B)\n",
      "    or ...`` etc.\n",
      "\n"
     ]
    }
   ],
   "source": [
    "help(issubclass)\n",
    "\n"
   ]
  },
  {
   "cell_type": "markdown",
   "metadata": {},
   "source": [
    "# 构造函数\n",
    "- 在函数实例化的时候调用的一个函数\n",
    "- 自动调用\n",
    "- 要求，第一个参数必须有，一般推荐self\n",
    "- 构造函数的调用时间：一般认为在实例化的时候第一个被调用\n",
    "- 一般不手动调用，实例化的时候自动调用，参数需写入类名称后面的括号中"
   ]
  },
  {
   "cell_type": "code",
   "execution_count": 1,
   "metadata": {},
   "outputs": [
    {
     "name": "stdout",
     "output_type": "stream",
     "text": [
      "我被调用了\n"
     ]
    }
   ],
   "source": [
    "class Bird():\n",
    "    def __init__(self):\n",
    "        print(\"我被调用了\")\n",
    "        return None\n",
    "# 此时被调用构造函数\n",
    "b = Bird()"
   ]
  },
  {
   "cell_type": "code",
   "execution_count": 3,
   "metadata": {},
   "outputs": [
    {
     "name": "stdout",
     "output_type": "stream",
     "text": [
      "福康 19\n"
     ]
    }
   ],
   "source": [
    "# 构造函数2\n",
    "\n",
    "class Person():\n",
    "    def __init__(self, name, age):\n",
    "        print(name, age)\n",
    "        \n",
    "p = Person(\"福康\", 19)"
   ]
  },
  {
   "cell_type": "markdown",
   "metadata": {},
   "source": [
    "### 构造函数的继承\n",
    "- 构造函数默认继承，子类如果没有构造函数，则自动调用父类的构造函数\n",
    "- 一旦子类定义了构造函数则不能再自动用父类构造函数\n"
   ]
  },
  {
   "cell_type": "code",
   "execution_count": null,
   "metadata": {},
   "outputs": [],
   "source": []
  },
  {
   "cell_type": "code",
   "execution_count": 4,
   "metadata": {},
   "outputs": [
    {
     "name": "stdout",
     "output_type": "stream",
     "text": [
      "Person=(福康, 19)\n"
     ]
    },
    {
     "ename": "TypeError",
     "evalue": "__init__() missing 2 required positional arguments: 'name' and 'age'",
     "output_type": "error",
     "traceback": [
      "\u001b[1;31m---------------------------------------------------------------------------\u001b[0m",
      "\u001b[1;31mTypeError\u001b[0m                                 Traceback (most recent call last)",
      "\u001b[1;32m<ipython-input-4-e81d2b52a99f>\u001b[0m in \u001b[0;36m<module>\u001b[1;34m\u001b[0m\n\u001b[0;32m      9\u001b[0m \u001b[1;33m\u001b[0m\u001b[0m\n\u001b[0;32m     10\u001b[0m \u001b[0mt\u001b[0m \u001b[1;33m=\u001b[0m \u001b[0mTeacher\u001b[0m\u001b[1;33m(\u001b[0m\u001b[1;34m\"福康\"\u001b[0m\u001b[1;33m,\u001b[0m \u001b[1;36m19\u001b[0m\u001b[1;33m)\u001b[0m\u001b[1;33m\u001b[0m\u001b[1;33m\u001b[0m\u001b[0m\n\u001b[1;32m---> 11\u001b[1;33m \u001b[0mt\u001b[0m \u001b[1;33m=\u001b[0m \u001b[0mTeacher\u001b[0m\u001b[1;33m(\u001b[0m\u001b[1;33m)\u001b[0m\u001b[1;33m\u001b[0m\u001b[1;33m\u001b[0m\u001b[0m\n\u001b[0m",
      "\u001b[1;31mTypeError\u001b[0m: __init__() missing 2 required positional arguments: 'name' and 'age'"
     ]
    }
   ],
   "source": [
    "# 构造函数默认继承\n",
    "\n",
    "class Person():\n",
    "    def __init__(self, name, age):\n",
    "        print(\"Person=({}, {})\".format(name, age))\n",
    "        \n",
    "class Teacher(Person):\n",
    "    pass\n",
    "\n",
    "t = Teacher(\"福康\", 19)\n",
    "t = Teacher()"
   ]
  },
  {
   "cell_type": "code",
   "execution_count": null,
   "metadata": {},
   "outputs": [],
   "source": []
  }
 ],
 "metadata": {
  "kernelspec": {
   "display_name": "Python 3",
   "language": "python",
   "name": "python3"
  },
  "language_info": {
   "codemirror_mode": {
    "name": "ipython",
    "version": 3
   },
   "file_extension": ".py",
   "mimetype": "text/x-python",
   "name": "python",
   "nbconvert_exporter": "python",
   "pygments_lexer": "ipython3",
   "version": "3.7.4"
  }
 },
 "nbformat": 4,
 "nbformat_minor": 2
}
