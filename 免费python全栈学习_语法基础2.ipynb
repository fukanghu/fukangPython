{
 "cells": [
  {
   "cell_type": "markdown",
   "metadata": {},
   "source": [
    "# 四类参数\n",
    "- 普通参数\n",
    "- 默认参数\n",
    "- 关键字参数\n",
    "- 收集参数\n",
    "\n",
    "## 关键字参数\n",
    "- 语法\n",
    "\n",
    "      def func(p1=v1, p2=v2.....):\n",
    "         func_body\n",
    "         \n",
    "      调用函数：\n",
    "      func(p1=value1, p2=value2.....)\n",
    "- 比较麻烦，但也有好处：\n",
    "  - 不容易混淆，一般实参和形参只是按照位置意义对应即可，容易出错\n",
    "  - 使用关键字参数，可以不考虑参数位置"
   ]
  },
  {
   "cell_type": "code",
   "execution_count": 3,
   "metadata": {},
   "outputs": [
    {
     "name": "stdout",
     "output_type": "stream",
     "text": [
      "i am a student\n",
      "我叫jingjing，我今年18岁了，我住我家\n",
      "i am a student\n",
      "我叫jingjing，我今年18岁了，我住我家\n"
     ]
    }
   ],
   "source": [
    "# 关键字参数案例\n",
    "def stu(name, age, addr):\n",
    "    print(\"i am a student\")\n",
    "    print(\"我叫{0}，我今年{1}岁了，我住{2}\".format(name, age, addr))\n",
    "    \n",
    "n = \"jingjing\"\n",
    "a = \"18\"\n",
    "addr = \"我家\"\n",
    "\n",
    "# 普通参数，只是按照位置传递，容易出错\n",
    "stu(n, a, addr)\n",
    "\n",
    "def stu_key(name=\"No Name\", age=0, addr=\"No addr\"):\n",
    "    print(\"i am a student\")\n",
    "    print(\"我叫{0}，我今年{1}岁了，我住{2}\".format(name, age, addr))\n",
    "n = \"jingjing\"\n",
    "a = \"18\"\n",
    "addr = \"我家\"\n",
    "\n",
    "stu_key(age=a, name=n, addr=addr)"
   ]
  },
  {
   "cell_type": "markdown",
   "metadata": {},
   "source": [
    "## 收集参数\n",
    "- 把没有位置，不能和定义时的参数位置相对应的参数，放入一个特定的数据结构中\n",
    "- 语法\n",
    "\n",
    "      def func(*args):\n",
    "         func_body\n",
    "         \n",
    "      调用：\n",
    "      func(p1, p2, p3.......)\n",
    "      \n",
    "- 参数名args不是必须这么写，但是，我们推荐直接使用args，约定俗称\n",
    "- 参数名ages前需要有星号\n",
    "- 收集参数可以和其他参数共存"
   ]
  },
  {
   "cell_type": "code",
   "execution_count": 2,
   "metadata": {},
   "outputs": [
    {
     "name": "stdout",
     "output_type": "stream",
     "text": [
      "hello 大家好，我自我介绍以下，简单说两句：\n",
      "<class 'tuple'>\n",
      "fukang\n",
      "18\n",
      "北京大通州区\n",
      "wangxiaojing\n",
      "single\n",
      "hello 大家好，我自我介绍以下，简单说两句：\n",
      "<class 'tuple'>\n",
      "周大神\n"
     ]
    }
   ],
   "source": [
    "# 参数名代码\n",
    "# 函数模拟一个学生进行自我介绍，但具体内容不清楚\n",
    "def stu(*args):\n",
    "    print(\"hello 大家好，我自我介绍以下，简单说两句：\")\n",
    "    # type函数作用式检测变量的类型\n",
    "    print(type(args))\n",
    "    for item in args:\n",
    "        print(item)\n",
    "\n",
    "\n",
    "stu(\"fukang\", 18, \"北京大通州区\", \"wangxiaojing\", \"single\")\n",
    "stu(\"周大神\")"
   ]
  },
  {
   "cell_type": "code",
   "execution_count": 3,
   "metadata": {},
   "outputs": [
    {
     "name": "stdout",
     "output_type": "stream",
     "text": [
      "hello 大家好，我自我介绍以下，简单说两句：\n",
      "<class 'tuple'>\n"
     ]
    }
   ],
   "source": [
    "# 收集参数案例\n",
    "# 说明收集参数可以不带任何实参调用，此时收集参数为空\n",
    "stu()"
   ]
  },
  {
   "cell_type": "code",
   "execution_count": 13,
   "metadata": {},
   "outputs": [],
   "source": [
    "# 如果使用关键子参数格式调用，会出现问题\n",
    "# stu(name=\"fukang\")"
   ]
  },
  {
   "cell_type": "markdown",
   "metadata": {},
   "source": [
    "### 收集参数之关键字收集参数\n",
    "- 把关键字参数按字典格式存入收集参数\n",
    "- 语法\n",
    "\n",
    "      def func(**kwargs):\n",
    "        func_body\n",
    "  \n",
    "      # 调用：\n",
    "        func(p1=v1, p2=v2, p3=v3.....)\n",
    "\n",
    "- kwargs一般约定俗成\n",
    "- 调用的时候，把多余的关键字参数放入kwargs\n",
    "- 访问kwargs需要按字典格式访问"
   ]
  },
  {
   "cell_type": "code",
   "execution_count": 12,
   "metadata": {},
   "outputs": [
    {
     "name": "stdout",
     "output_type": "stream",
     "text": [
      "hello 大家好，我先自我介绍以下：\n",
      "<class 'dict'>\n",
      "name --- fukang\n",
      "age --- 19\n",
      "addr --- tianchang\n",
      "lver --- allan\n",
      "work --- designer\n",
      "********************\n",
      "hello 大家好，我先自我介绍以下：\n",
      "<class 'dict'>\n",
      "name --- 胡福康\n"
     ]
    }
   ],
   "source": [
    "# 收集参数案例\n",
    "# 自我介绍\n",
    "# 调用的时候需要用关键字参数调用\n",
    "def stu(**kwargs):\n",
    "    print(\"hello 大家好，我先自我介绍以下：\")\n",
    "    print(type(kwargs))\n",
    "    for p,v in kwargs.items():\n",
    "        print(p, \"---\", v)\n",
    "\n",
    "stu(name=\"fukang\", age=19, addr=\"tianchang\", lver=\"allan\", work=\"designer\")\n",
    "print(\"*\" * 20)\n",
    "stu(name=\"胡福康\")\n"
   ]
  },
  {
   "cell_type": "code",
   "execution_count": 13,
   "metadata": {},
   "outputs": [
    {
     "name": "stdout",
     "output_type": "stream",
     "text": [
      "hello 大家好，我先自我介绍以下：\n",
      "<class 'dict'>\n"
     ]
    }
   ],
   "source": [
    "# 收集参数可以为空案例\n",
    "stu()"
   ]
  },
  {
   "cell_type": "markdown",
   "metadata": {},
   "source": [
    "### 收集参数混合调用的顺序问题\n",
    "- 收集参数，关键字参数，普通参数可以混合使用\n",
    "- 收集规则就是，普通参数和关键字参数优先\n",
    "- 定义的时候一般找普通参数，关键字参数，收集参数tuple，收集参数dict"
   ]
  },
  {
   "cell_type": "code",
   "execution_count": 22,
   "metadata": {},
   "outputs": [
    {
     "name": "stdout",
     "output_type": "stream",
     "text": [
      "hello 大家好\n",
      "我叫fukang，我今年19了。\n",
      "我没有爱好\n",
      "********************\n",
      "##############################\n",
      "hello 大家好\n",
      "我叫fukang，我今年19了。\n",
      "我的爱好是游泳\n",
      "********************\n",
      "##############################\n",
      "hello 大家好\n",
      "我叫fukang，我今年19了。\n",
      "我的爱好是游泳\n",
      "********************\n",
      "王晓静\n",
      "六石头\n",
      "##############################\n",
      "hobby2 --- 烹饪\n",
      "hobby3 --- 编程\n"
     ]
    }
   ],
   "source": [
    "# 收集参数和混合调用案例\n",
    "# stu模拟一个学生d的自我介绍\n",
    "def stu(name, age, *args, hobby=\"没有\", **kwargs):\n",
    "    print(\"hello 大家好\")\n",
    "    print(\"我叫{0}，我今年{1}了。\".format(name, age))\n",
    "    if hobby == \"没有\":\n",
    "        print(\"我没有爱好\")\n",
    "    else:\n",
    "        print(\"我的爱好是{0}\".format(hobby))\n",
    "        \n",
    "    print(\"*\" * 20)\n",
    "    \n",
    "    for i in args:\n",
    "        print(i)\n",
    "        \n",
    "    print(\"#\" * 30)\n",
    "    \n",
    "    for k,v in kwargs.items():\n",
    "        print(k, \"---\", v)\n",
    "        \n",
    "# 开始调用函数\n",
    "name = \"fukang\"\n",
    "age = 19\n",
    "\n",
    "# 调用的不同格式\n",
    "stu(name, age)\n",
    "stu(name, age, hobby=\"游泳\")\n",
    "\n",
    "stu(name, age, \"王晓静\", \"六石头\", hobby=\"游泳\", hobby2=\"烹饪\", hobby3=\"编程\")"
   ]
  },
  {
   "cell_type": "markdown",
   "metadata": {},
   "source": [
    "## 关键字的参数\n",
    "- 语法\n",
    "\n",
    "      def func(p1=v1, p2=v2....)\n",
    "         func_body\n",
    "         \n",
    "      调用函数：\n",
    "      func(p1=value1, p2=value2....)\n",
    "      \n",
    "- 比较麻烦，但有好处\n",
    "  - 不容易混淆，一般实参和形参只是按照位置一一对应即可，容易出错\n",
    "  - 使用关键子参数，可以不可以考虑参数位置\n",
    "  "
   ]
  },
  {
   "cell_type": "code",
   "execution_count": 12,
   "metadata": {},
   "outputs": [
    {
     "name": "stdout",
     "output_type": "stream",
     "text": [
      "i am a student\n",
      "我叫jingjing，我今年18，我住我家\n",
      "********************\n",
      "i am a student\n",
      "我叫jingjing，我今年18，我住我家\n"
     ]
    }
   ],
   "source": [
    "# 关键字参数案例\n",
    "def stu(name, age, addr):\n",
    "    print(\"i am a student\")\n",
    "    print(\"我叫{0}，我今年{1}，我住{2}\".format(name, age, addr))\n",
    "    \n",
    "n = \"jingjing\"\n",
    "a = 18\n",
    "addr = \"我家\"\n",
    "# 普通参数，只按照位置传递，容易出错\n",
    "stu(n, a, addr)\n",
    "\n",
    "print(\"*\"*20)\n",
    "\n",
    "def stu_key(name=\"no name\", age=0, addr=\"no addr\"):\n",
    "    print(\"i am a student\")\n",
    "    print(\"我叫{0}，我今年{1}，我住{2}\".format(name, age, addr))\n",
    "    \n",
    "n = \"jingjing\"\n",
    "a = 18\n",
    "addr = \"我家\"\n",
    "# 普通参数，只按照位置传递，容易出错\n",
    "stu_key(age=a, name=n, addr=addr)"
   ]
  },
  {
   "cell_type": "markdown",
   "metadata": {},
   "source": [
    "## 收集参数\n",
    "- 把没有位置，不能和定义时的参数位置相对应的参数，加入一个特定的数据结构中\n",
    "- 语法\n",
    "    \n",
    "      def func(*args):\n",
    "         func_body\n",
    "         # 可以按照list使用方式访问args得到传入的参数\n",
    "      调用：\n",
    "      func(p1, p2, p3....)\n",
    "      \n",
    "- 参数名args不是必须这样写，但是推荐用args，约定俗成\n",
    "- 参数名args前需要有星号\n",
    "- 收集参数可以和其他参数共存"
   ]
  },
  {
   "cell_type": "code",
   "execution_count": 15,
   "metadata": {},
   "outputs": [
    {
     "name": "stdout",
     "output_type": "stream",
     "text": [
      "hello 大家好，我自我介绍一下，简单说两句：\n",
      "<class 'tuple'>\n",
      "liuyang\n",
      "18\n",
      "北京大通州区\n",
      "wangxiaojing\n",
      "single\n",
      "hello 大家好，我自我介绍一下，简单说两句：\n",
      "<class 'tuple'>\n",
      "周大神\n"
     ]
    }
   ],
   "source": [
    "# 收集参数代码\n",
    "# 韩式模拟一个学僧进行自我介绍，但是具体内容不清楚\n",
    "# args把他看做一个list\n",
    "def stu(*args):\n",
    "    print(\"hello 大家好，我自我介绍一下，简单说两句：\")\n",
    "    # type函数作用是检测变量的类型\n",
    "    print(type(args))\n",
    "    for item in args:\n",
    "        print(item)\n",
    "\n",
    "stu(\"liuyang\", 18, \"北京大通州区\", \"wangxiaojing\", \"single\")\n",
    "stu(\"周大神\")"
   ]
  },
  {
   "cell_type": "code",
   "execution_count": 16,
   "metadata": {},
   "outputs": [
    {
     "name": "stdout",
     "output_type": "stream",
     "text": [
      "hello 大家好，我自我介绍一下，简单说两句：\n",
      "<class 'tuple'>\n"
     ]
    }
   ],
   "source": [
    "# 收集参数案例 \n",
    "# 说明收集参数额可以不带任何实参调用，此时收集参数为空tuple\n",
    "stu()"
   ]
  },
  {
   "cell_type": "code",
   "execution_count": 18,
   "metadata": {},
   "outputs": [],
   "source": [
    "# 如果使用关键字参数格式调用，会出现问\n",
    "# stu(name=\"liuliang\")"
   ]
  },
  {
   "cell_type": "markdown",
   "metadata": {},
   "source": [
    "### 收集参数之关键字收集参数\n",
    "- 把关键字按照字典格式存入收集参数\n",
    "- 语法：\n",
    "\n",
    "      def func(**kwargs):\n",
    "         func_body\n",
    "         \n",
    "      # 调用：\n",
    "      func(p1=v1, p2=v2...)\n",
    "      \n",
    "- kwargs一般约定俗成\n",
    "- 调用的时候，把多余的关键字参数放入kwargs\n",
    "- 访问kwargs需要按字典格式访问"
   ]
  },
  {
   "cell_type": "markdown",
   "metadata": {},
   "source": [
    "### 收集参数的解包问题\n",
    "- 把参数放入list或者字典中，直接把list/dict中的值放入收集参数中\n",
    "- 语法：参见案例"
   ]
  },
  {
   "cell_type": "code",
   "execution_count": 24,
   "metadata": {},
   "outputs": [
    {
     "name": "stdout",
     "output_type": "stream",
     "text": [
      "hahahaha\n",
      "<class 'list'>\n",
      "0\n",
      "['liuyang', 19, 23, 'wangxiaojing']\n",
      "hahahaha\n",
      "<class 'str'>\n",
      "0\n",
      "liuyang\n",
      "<class 'int'>\n",
      "1\n",
      "19\n",
      "<class 'int'>\n",
      "2\n",
      "23\n",
      "<class 'str'>\n",
      "3\n",
      "wangxiaojing\n"
     ]
    }
   ],
   "source": [
    "# 收集参数的解包问题\n",
    "\n",
    "def stu(*args):\n",
    "    print(\"hahahaha\")\n",
    "    # n用来表示循环次数\n",
    "    # 主要用来测试\n",
    "    n = 0\n",
    "    for i in args:\n",
    "        print(type(i))\n",
    "        print(n)\n",
    "        n += 1\n",
    "        print(i)\n",
    "\n",
    "# stu(\"liuling\", \"liuxiaojing\", 19, 200)\n",
    "l = [\"liuyang\", 19, 23, \"wangxiaojing\"]\n",
    "stu(l)\n",
    "\n",
    "# 此时，args的表示形式是字典内一个list类型的元素，即arg = ([\"liuyang\", 19, 23, \"wangxiaojing\"])\n",
    "# 很显然违背最初想法\n",
    "\n",
    "# 此时的调用，就需要解包符号，即调用的时候前面加一个星号\n",
    "\n",
    "stu(*l)"
   ]
  },
  {
   "cell_type": "markdown",
   "metadata": {},
   "source": [
    "### 同理，dict类型收集参数一样可以解包，但是\n",
    "- 对dict类型进行解包\n",
    "- 需要用两个星号进行解包"
   ]
  },
  {
   "cell_type": "markdown",
   "metadata": {},
   "source": [
    "# 返回值\n",
    "- 函数和过程的区别\n",
    "  - 有无返回值\n",
    "- 需要用return显示返回内容\n",
    "- 如果没有返回，则默认返回None\n",
    "- 推荐写法，无论有无返回值，最后都要以return结束"
   ]
  },
  {
   "cell_type": "code",
   "execution_count": 27,
   "metadata": {},
   "outputs": [
    {
     "name": "stdout",
     "output_type": "stream",
     "text": [
      "有返回值啊\n",
      "1\n",
      "没有返回值啊\n",
      "None\n"
     ]
    }
   ],
   "source": [
    "# 返回值示例\n",
    "\n",
    "def func_1():\n",
    "    print(\"有返回值啊\")\n",
    "    return 1\n",
    "def func_2():\n",
    "    print(\"没有返回值啊\")\n",
    "\n",
    "f1 = func_1()\n",
    "print(f1) \n",
    "\n",
    "f2 = func_2()\n",
    "print(f2)"
   ]
  },
  {
   "cell_type": "markdown",
   "metadata": {},
   "source": [
    "# 函数文档\n",
    "- 函数的文档作用是对当前函数提供函数提供使用相关的参考信息\n",
    "- 文档的写法：\n",
    "  - 在函数内部开始的第一行使用三字符串定义符\n",
    "  - 一般具有特定格式\n",
    "  - 参看案例\n",
    "- 文档查看\n",
    "  - 使用help函数，形如help(func)\n",
    "  - 使用__doc__，查看案例\n",
    "  "
   ]
  },
  {
   "cell_type": "code",
   "execution_count": 32,
   "metadata": {},
   "outputs": [],
   "source": [
    "# 文档案例\n",
    "# 函数stu是模拟一个学生的自我介绍内容\n",
    "def stu(name, age, *args):\n",
    "    '''\n",
    "    这是第一行\n",
    "    这是第二行\n",
    "    这是第三行\n",
    "    '''\n",
    "    print(\"this is hanshu stu\")\n"
   ]
  },
  {
   "cell_type": "code",
   "execution_count": 33,
   "metadata": {},
   "outputs": [
    {
     "name": "stdout",
     "output_type": "stream",
     "text": [
      "Help on function stu in module __main__:\n",
      "\n",
      "stu(name, age, *args)\n",
      "    这是第一行\n",
      "    这是第二行\n",
      "    这是第三行\n",
      "\n"
     ]
    }
   ],
   "source": [
    "# 查看函数文档\n",
    "help(stu)"
   ]
  },
  {
   "cell_type": "code",
   "execution_count": 34,
   "metadata": {},
   "outputs": [
    {
     "data": {
      "text/plain": [
       "'\\n    这是第一行\\n    这是第二行\\n    这是第三行\\n    '"
      ]
     },
     "execution_count": 34,
     "metadata": {},
     "output_type": "execute_result"
    }
   ],
   "source": [
    "# 查看函数文档\n",
    "stu.__doc__"
   ]
  },
  {
   "cell_type": "code",
   "execution_count": 35,
   "metadata": {},
   "outputs": [
    {
     "name": "stdout",
     "output_type": "stream",
     "text": [
      "Help on function stu in module __main__:\n",
      "\n",
      "stu(name, age)\n",
      "    这是文档的文字内容\n",
      "    :param name:表示学生的姓名\n",
      "    :param age:比表示学生的内容\n",
      "    :return:此函数没有函数值\n",
      "\n",
      "None\n",
      "********************\n",
      "\n",
      "    这是文档的文字内容\n",
      "    :param name:表示学生的姓名\n",
      "    :param age:比表示学生的内容\n",
      "    :return:此函数没有函数值\n",
      "    \n"
     ]
    }
   ],
   "source": [
    "def stu(name, age):\n",
    "    '''\n",
    "    这是文档的文字内容\n",
    "    :param name:表示学生的姓名\n",
    "    :param age:比表示学生的内容\n",
    "    :return:此函数没有函数值\n",
    "    ''' \n",
    "    pass\n",
    "print(help(stu))\n",
    "print(\"*\" * 20)\n",
    "print(stu.__doc__)\n"
   ]
  },
  {
   "cell_type": "markdown",
   "metadata": {},
   "source": [
    "# 变量作用域\n",
    "- 变量由作用范围限制\n",
    "- 分类：按作用域分类\n",
    "  - 全局（global）：在函数外部定义\n",
    "  - 局部（local）：在函数内部定义\n",
    "- 变量作用范围：\n",
    "  - 全局变量：在整个全局范围都有效\n",
    "  - 全局变量在局部可以使用（即函数内部可以方位函数外部定义的变量）\n",
    "  - 局部变量在局部范围可以使用\n",
    "  - 局部变量在全局范围无法使用\n",
    "- LEGB原则\n",
    "  - L（local）局部作用域\n",
    "  - E（enclosing function locale）外部嵌套函数作用域\n",
    "  - G（global moodule）函数定义所在的模块作用域\n",
    "  - B（buildin）：python内置模块的作用域\n"
   ]
  },
  {
   "cell_type": "code",
   "execution_count": 5,
   "metadata": {},
   "outputs": [
    {
     "name": "stdout",
     "output_type": "stream",
     "text": [
      "100\n",
      "100\n",
      "i am a fun\n",
      "99\n"
     ]
    },
    {
     "ename": "NameError",
     "evalue": "name 'a2' is not defined",
     "output_type": "error",
     "traceback": [
      "\u001b[1;31m---------------------------------------------------------------------------\u001b[0m",
      "\u001b[1;31mNameError\u001b[0m                                 Traceback (most recent call last)",
      "\u001b[1;32m<ipython-input-5-676da2d2d252>\u001b[0m in \u001b[0;36m<module>\u001b[1;34m\u001b[0m\n\u001b[0;32m     10\u001b[0m \u001b[0mprint\u001b[0m\u001b[1;33m(\u001b[0m\u001b[0ma1\u001b[0m\u001b[1;33m)\u001b[0m\u001b[1;33m\u001b[0m\u001b[1;33m\u001b[0m\u001b[0m\n\u001b[0;32m     11\u001b[0m \u001b[0mfun\u001b[0m\u001b[1;33m(\u001b[0m\u001b[1;33m)\u001b[0m\u001b[1;33m\u001b[0m\u001b[1;33m\u001b[0m\u001b[0m\n\u001b[1;32m---> 12\u001b[1;33m \u001b[0mprint\u001b[0m\u001b[1;33m(\u001b[0m\u001b[0ma2\u001b[0m\u001b[1;33m)\u001b[0m\u001b[1;33m\u001b[0m\u001b[1;33m\u001b[0m\u001b[0m\n\u001b[0m",
      "\u001b[1;31mNameError\u001b[0m: name 'a2' is not defined"
     ]
    }
   ],
   "source": [
    "# 认为a1是全局的\n",
    "a1 = 100\n",
    "def fun():\n",
    "    print(a1)\n",
    "    print(\"i am a fun\")\n",
    "    # a2的作用范围是fun\n",
    "    a2 = 99\n",
    "    print(a2)\n",
    "    \n",
    "print(a1)\n",
    "fun() \n",
    "print(a2) "
   ]
  },
  {
   "cell_type": "markdown",
   "metadata": {},
   "source": [
    "## 提升局部变量为全局变量\n",
    "- 使用globa"
   ]
  },
  {
   "cell_type": "code",
   "execution_count": 20,
   "metadata": {},
   "outputs": [
    {
     "name": "stdout",
     "output_type": "stream",
     "text": [
      "100\n",
      "i am a fun\n",
      "99\n",
      "100\n"
     ]
    }
   ],
   "source": [
    "def fun():\n",
    "    global b1\n",
    "    b1 = 100\n",
    "    print(b1)\n",
    "    print(\"i am a fun\")\n",
    "    \n",
    "    b2 = 99\n",
    "    print(b2)\n",
    "    \n",
    "\n",
    "# print(b2)\n",
    "fun() \n",
    "# print(b1)如果在函数调用上面则不好使，报错\n",
    "print(b1)"
   ]
  },
  {
   "cell_type": "markdown",
   "metadata": {},
   "source": [
    "# globa, locals函数\n",
    "- 可以通过global和locals显示局部变量和局部变量\n",
    "- 参看以下案例"
   ]
  },
  {
   "cell_type": "code",
   "execution_count": 21,
   "metadata": {},
   "outputs": [],
   "source": [
    "# global 和 locals\n",
    "# global 和 locals叫做内建函数\n",
    "\n",
    "# a = 1\n",
    "# b = 2\n",
    "\n",
    "# def fun(c, d):\n",
    "  #   e = 111\n",
    "    # print(\"Locals={0}\".format(locals()))\n",
    "    # print(\"Globals={0}\".format(globals()))\n",
    "    \n",
    "# fun(100, 200)"
   ]
  },
  {
   "cell_type": "markdown",
   "metadata": {},
   "source": [
    "# eval()函数\n",
    "- 摆一个自负床当成一个表达式来执行，返回表达式执行后的结果\n",
    "- 语法：\n",
    "   \n",
    "          eval(string_code, globals=None, locals=None)\n",
    "          \n",
    "# exec函数\n",
    "- 跟eval功能类似，但是，不返回结果\n",
    "- 语法：\n",
    "        exec(string_code, globals_None, locals=None)"
   ]
  },
  {
   "cell_type": "code",
   "execution_count": 13,
   "metadata": {},
   "outputs": [
    {
     "name": "stdout",
     "output_type": "stream",
     "text": [
      "300\n",
      "300\n"
     ]
    }
   ],
   "source": [
    "x = 100\n",
    "y = 200\n",
    "# 执行x+y\n",
    "# z = x + y\n",
    "z1 = x + y \n",
    "\n",
    "z2 = eval(\"x+y\")\n",
    "print(z1)\n",
    "print(z2)"
   ]
  },
  {
   "cell_type": "code",
   "execution_count": 16,
   "metadata": {},
   "outputs": [
    {
     "name": "stdout",
     "output_type": "stream",
     "text": [
      "x+y: 300\n",
      "300\n",
      "None\n"
     ]
    }
   ],
   "source": [
    "# exec实例\n",
    "x = 100\n",
    "y = 200\n",
    "# 执行x+y\n",
    "# z = x + y\n",
    "z1 = x + y \n",
    "# 1 注意字符串中引号的写法\n",
    "# 2 比对exec执行结果和代码执行结果\n",
    "z2 = exec(\"print('x+y:',x+y)\")\n",
    "print(z1)\n",
    "print(z2)"
   ]
  },
  {
   "cell_type": "markdown",
   "metadata": {},
   "source": [
    "# 递归函数\n",
    "- 函数直接调用或者间接调用自身\n",
    "- 优点：简介，理解容易\n",
    "- 缺点：对递归深度有限制，消耗资源大\n",
    "- python对递归深度有限制，超过限制报错\n",
    "- 在写递归程序的时候，一定要注意结束条件"
   ]
  },
  {
   "cell_type": "code",
   "execution_count": 18,
   "metadata": {},
   "outputs": [],
   "source": [
    "# 递归调用升读限制代码\n",
    "# x = 0\n",
    "# def fun():\n",
    "  #  global x\n",
    "   # x += 1\n",
    "    # print(x)\n",
    "    # fun()\n",
    "# 调用函数\n",
    "# fun()"
   ]
  },
  {
   "cell_type": "markdown",
   "metadata": {},
   "source": [
    " # 斐波那契额数列\n",
    "- 一列数字，第一个值是1，第二个值也是，从第三个开始，每一个数字的值等于前两个数字出现值的和\n",
    "- 数字公式为：f(1) = 1, f(2) = 1, f(n) = f(n-1) + f(n-2)\n",
    "- 例如：1，1，2，3，5，8，13......\n",
    "- "
   ]
  },
  {
   "cell_type": "code",
   "execution_count": 24,
   "metadata": {},
   "outputs": [
    {
     "name": "stdout",
     "output_type": "stream",
     "text": [
      "2\n",
      "5\n"
     ]
    }
   ],
   "source": [
    "# 下面求斐波那契数列函数有一定问题，比如一开始就是辅助，如何修正\n",
    "# n表示求第n个数字的斐波那契数列的值\n",
    "def fib(n):\n",
    "    if n == 1:\n",
    "        return 1\n",
    "    if n == 2:\n",
    "        return 1\n",
    "    # 后面不用else\n",
    "    return fib(n-1) + fib(n-2)\n",
    "print(fib(3))\n",
    "print(fib(5))"
   ]
  },
  {
   "cell_type": "markdown",
   "metadata": {},
   "source": [
    "# 内置数据结构（变量类型）\n",
    "- list\n",
    "- set\n",
    "- dict\n",
    "- tuple\n",
    "\n",
    "## list（列表）\n",
    "- 一组有顺序的数据的组合\n",
    "- 创建列表\n",
    "  - 空列表\n",
    "  "
   ]
  },
  {
   "cell_type": "code",
   "execution_count": 31,
   "metadata": {
    "scrolled": true
   },
   "outputs": [
    {
     "name": "stdout",
     "output_type": "stream",
     "text": [
      "<class 'list'>\n",
      "[]\n",
      "<class 'list'>\n",
      "[100]\n",
      "<class 'list'>\n",
      "[2, 3, 4, 5, 6, 2, 4]\n",
      "<class 'list'>\n",
      "[]\n"
     ]
    }
   ],
   "source": [
    "# 1 创建空列表\n",
    "l1 = []\n",
    "# type是内置函数，负责打印出变量的类型\n",
    "print(type(l1))\n",
    "print(l1)\n",
    "# 2 创建带值得列表\n",
    "l2 = [100]\n",
    "print(type(l2))\n",
    "print(l2)\n",
    "# 3 创建列表带多个值\n",
    "l3 = [2,3,4,5,6,2,4]\n",
    "print(type(l3))\n",
    "print(l3)\n",
    "\n",
    "# 4 使用list()\n",
    "l4 = list()\n",
    "print(type(l4))\n",
    "print(l4)"
   ]
  },
  {
   "cell_type": "markdown",
   "metadata": {},
   "source": [
    "## 列表常用操作\n",
    "- 访问\n",
    "  - 使用下标操作（索引）\n",
    "  - 列表得位置是从0开始的\n",
    "- 分片操作\n",
    "  - 对列表进行任意一端得截取\n",
    "  - l[:]"
   ]
  },
  {
   "cell_type": "code",
   "execution_count": 33,
   "metadata": {},
   "outputs": [
    {
     "name": "stdout",
     "output_type": "stream",
     "text": [
      "2\n",
      "3\n"
     ]
    }
   ],
   "source": [
    "# 下标访问列表\n",
    "l = [3,3,5,2,5,8,4,2,5,5]\n",
    "\n",
    "print(l[3])\n",
    "print(l[0])"
   ]
  },
  {
   "cell_type": "code",
   "execution_count": 47,
   "metadata": {},
   "outputs": [
    {
     "name": "stdout",
     "output_type": "stream",
     "text": [
      "[3, 5, 2]\n",
      "[3, 3, 5, 2, 5, 8, 4, 2, 5, 5]\n",
      "[3, 3, 5, 2, 5, 8, 4, 2, 5, 5]\n",
      "[3, 3, 5, 2]\n",
      "[5, 2, 5, 8, 4, 2, 5, 5]\n",
      "[3, 5, 2, 5, 8]\n",
      "[3, 2, 8]\n",
      "[5, 2, 5, 8, 4, 2, 5, 5]\n",
      "********************\n",
      "[4, 2]\n",
      "[5]\n",
      "[5, 5, 2, 4, 8, 5, 2, 5, 3, 3]\n"
     ]
    }
   ],
   "source": [
    "# 分片操作\n",
    "# 注意截取的范围，左包括右不包括\n",
    "print(l[1:4])\n",
    "\n",
    "# 下标值可以为空，如果不写，左边下标值默认为零，右边下标值为最大数加一，即表示截取到最后一个数据\n",
    "print(l[:])\n",
    "print(l)\n",
    "print(l[:4])\n",
    "print(l[2:])\n",
    "\n",
    "# 分片可以控制增长幅度，默认增长幅度为1\n",
    "print(l[1:6:1])\n",
    "print(l[1:6:2])\n",
    "\n",
    "# 下标可以超出范围，超出后不在考虑多余下表内容\n",
    "print(l[2:10])\n",
    "\n",
    "# 下标值，增长幅度可以为负数\n",
    "# 为负数，表明顺序是从右向左\n",
    "# 规定：数组最后一个数字的下标是-1\n",
    "l = [3,3,5,2,5,8,4,2,5,5]\n",
    "print(\"*\" * 20)\n",
    "# 下面显示得为空，因为默认分片总是从左到右截取\n",
    "# 及正常情况下，分片左边的之一定小于右边的值\n",
    "print(l[-4:-2])\n",
    "# 如果分片一定左边值比右边大，则步长参数需要使用负数\n",
    "# 此案例为一个list直接正反颠倒提供了一种思路\n",
    "print(l[-2:-4:-2])\n",
    "print(l[::-1])\n"
   ]
  },
  {
   "cell_type": "markdown",
   "metadata": {},
   "source": [
    "## 分片操作是生成一个新的list\n",
    "- 内置函数id，负责显示一个变量或者数据得唯一确定编号\n"
   ]
  },
  {
   "cell_type": "code",
   "execution_count": 52,
   "metadata": {},
   "outputs": [
    {
     "name": "stdout",
     "output_type": "stream",
     "text": [
      "140733210537456\n",
      "140733210540656\n",
      "140733210537456\n",
      "140733210537456\n",
      "140733210537456\n",
      "140733210537488\n"
     ]
    }
   ],
   "source": [
    "# id函数举例\n",
    "a = 100\n",
    "b = 200\n",
    "print(id(a))\n",
    "print(id(b))\n",
    "c = 100\n",
    "print(id(c))\n",
    "d = a\n",
    "print(id(d))\n",
    "# 如果a跟c只是一份数据，则更改为a得值同样也会更改c的值\n",
    "a = 101\n",
    "print(id(d))\n",
    "print(id(a))"
   ]
  },
  {
   "cell_type": "code",
   "execution_count": 55,
   "metadata": {},
   "outputs": [
    {
     "name": "stdout",
     "output_type": "stream",
     "text": [
      "2742096669640\n",
      "2742094402120\n",
      "2742094402120\n",
      "[2, 100, 4, 5, 62, 4, 5, 4]\n",
      "[2, 3, 4, 5, 62, 4, 5, 4]\n",
      "[2, 100, 4, 5, 62, 4, 5, 4]\n",
      "[2, 100, 4, 5, 62, 4, 5, 4]\n"
     ]
    }
   ],
   "source": [
    "# 通过id可以直接判断出分区shi重新生成了一份数据还是使用得同一份数据\n",
    "l = [2,3,4,5,62,4,5,4]\n",
    "ll = l[:]\n",
    "lll = ll\n",
    "# 如果两个id纸一样，则表明分片产生的列表实施哦那个得同一地址数据\n",
    "# 否则表示分片区是重新生成了一份数据，即一个新的列表，然后把数据拷贝到新的列表中\n",
    "print(id(l))\n",
    "print(id(ll))\n",
    "print(id(lll))\n",
    "\n",
    "# 统一id，ll和lll是同一份数据，验证代码如下\n",
    "l[1] = 100\n",
    "print(l)\n",
    "print(ll)\n",
    "\n",
    "ll[1] = 100\n",
    "print(ll)\n",
    "print(lll)"
   ]
  },
  {
   "cell_type": "code",
   "execution_count": 1,
   "metadata": {},
   "outputs": [
    {
     "name": "stdout",
     "output_type": "stream",
     "text": [
      "hello word\n"
     ]
    }
   ],
   "source": [
    "print(\"hello word\")"
   ]
  },
  {
   "cell_type": "markdown",
   "metadata": {},
   "source": [
    "# 汉诺塔问题\n",
    "- 规则：\n",
    "  1. 每次移动一个盘子\n",
    "  2. 任何时候大盘子在下面，小盘子在上面\n",
    "- 方法：\n",
    "  1. n=1：直接把A上面得一个盘子移动到c上，a -> c\n",
    "  2. n=2：\n",
    "     1. 把小盘子，a -> b\n",
    "     2. 把大盘子，a -> c\n",
    "     3. 把小盘子，b -> c\n",
    "  3. n=3：\n",
    "    1. 把a上的两个盘子，通过c移动到b上去，调用递归实现\n",
    "    2. 把a上剩下得一个最大得盘子移动到c上，a -> c\n",
    "    3. 把b上两个盘子，借助a，挪到c上去，调用递归\n",
    "  4. n=n\n",
    "    1. 把a上n-1个盘子，借助c，移动到b上去，调用递归\n",
    "    2. 把a上的最大盘子，也是唯一一个，移动到c上去，a -> c\n",
    "    3. 把b上n-1个盘子，借助于a，移动到c上，调用递归"
   ]
  },
  {
   "cell_type": "code",
   "execution_count": 2,
   "metadata": {},
   "outputs": [
    {
     "name": "stdout",
     "output_type": "stream",
     "text": [
      "A --> C\n"
     ]
    }
   ],
   "source": [
    "def hano(n, a, b, c):\n",
    "    '''\n",
    "    汉诺塔得递归实现\n",
    "    n：代表几个盘子\n",
    "    a：代表第一个塔\n",
    "    b：代表第二个塔，中间过渡得塔\n",
    "    c：代表第三个塔，目标塔\n",
    "    '''\n",
    "    if n == 1:\n",
    "        print(a, \"-->\", c)\n",
    "        return None\n",
    "    if n == 2:\n",
    "        print(a, \"-->\", b)\n",
    "        print(a, \"-->\", c)\n",
    "        print(b, \"-->\", c)\n",
    "        return None\n",
    "    # 把n-1个盘子，从a塔借助于c塔，挪到b塔上\n",
    "    hano(n-1, a, c, b)\n",
    "    print(a, \"-->\", c)\n",
    "    # 把n-1个盘子，从b塔，挪到c塔上去\n",
    "    hano(n-1, b, a, c)\n",
    "\n",
    "a = \"A\"\n",
    "b = \"B\"\n",
    "c = \"C\"\n",
    "\n",
    "n = 1\n",
    "hano(n, a, b, c)\n",
    "    "
   ]
  },
  {
   "cell_type": "code",
   "execution_count": 3,
   "metadata": {},
   "outputs": [
    {
     "name": "stdout",
     "output_type": "stream",
     "text": [
      "A --> B\n",
      "A --> C\n",
      "B --> C\n"
     ]
    }
   ],
   "source": [
    "n = 2\n",
    "hano(n, a, b, c)"
   ]
  },
  {
   "cell_type": "code",
   "execution_count": 5,
   "metadata": {},
   "outputs": [
    {
     "name": "stdout",
     "output_type": "stream",
     "text": [
      "A --> C\n",
      "A --> B\n",
      "C --> B\n",
      "A --> C\n",
      "B --> A\n",
      "B --> C\n",
      "A --> C\n"
     ]
    }
   ],
   "source": [
    "n = 3\n",
    "hano(n, a, b, c)"
   ]
  },
  {
   "cell_type": "markdown",
   "metadata": {},
   "source": [
    "# list（列表）\n",
    "- del：删除命令\n"
   ]
  },
  {
   "cell_type": "code",
   "execution_count": 6,
   "metadata": {},
   "outputs": [
    {
     "name": "stdout",
     "output_type": "stream",
     "text": [
      "[1, 2, 4, 5, 6]\n"
     ]
    }
   ],
   "source": [
    "# del删除\n",
    "a = [1,2,3,4,5,6]\n",
    "del a[2]\n",
    "print(a)"
   ]
  },
  {
   "cell_type": "code",
   "execution_count": 7,
   "metadata": {},
   "outputs": [
    {
     "name": "stdout",
     "output_type": "stream",
     "text": [
      "1799230726792\n",
      "1799230726792\n",
      "[1, 2, 4, 5, 6]\n"
     ]
    }
   ],
   "source": [
    "# del删除\n",
    "# 如果使用del之后，id的值和删除得值前后不一样，则说面馆生成了一个新的list\n",
    "a = [1,2,3,4,5,6]\n",
    "print(id(a))\n",
    "del a[2]\n",
    "print(id(a))\n",
    "print(a)"
   ]
  },
  {
   "cell_type": "code",
   "execution_count": 9,
   "metadata": {},
   "outputs": [],
   "source": [
    "# del一个变量后不能再继续用此变量\n",
    "# del a\n",
    "# print(a)"
   ]
  },
  {
   "cell_type": "markdown",
   "metadata": {},
   "source": [
    "### 列表相加\n",
    "- 使用加号连接两个列表\n"
   ]
  },
  {
   "cell_type": "code",
   "execution_count": 13,
   "metadata": {},
   "outputs": [
    {
     "name": "stdout",
     "output_type": "stream",
     "text": [
      "[1, 2, 3, 4, 5, 5, 6, 7, 8, 9, 'a', 'b', 'c']\n"
     ]
    }
   ],
   "source": [
    "# 使用加号连接两个列表\n",
    "a = [1,2,3,4,5]\n",
    "b = [5,6,7,8,9]\n",
    "d = ['a', 'b', 'c']\n",
    "c = a + b + d\n",
    "print(c)"
   ]
  },
  {
   "cell_type": "code",
   "execution_count": 15,
   "metadata": {},
   "outputs": [
    {
     "name": "stdout",
     "output_type": "stream",
     "text": [
      "[1, 2, 3, 4, 5, 1, 2, 3, 4, 5, 1, 2, 3, 4, 5]\n"
     ]
    }
   ],
   "source": [
    "# 使用乘号操作列表\n",
    "# 列表直接跟一个整数相乘\n",
    "# 相当于把n个列表连接在一起\n",
    "a = [1,2,3,4,5]\n",
    "b = a * 3\n",
    "print(b)"
   ]
  },
  {
   "cell_type": "code",
   "execution_count": 18,
   "metadata": {},
   "outputs": [
    {
     "name": "stdout",
     "output_type": "stream",
     "text": [
      "False\n",
      "True\n"
     ]
    }
   ],
   "source": [
    "# 成员资格运算\n",
    "# 就是判断一个元素是否在list里面\n",
    "a = [1,2,3,4,5,6]\n",
    "b = 8\n",
    "# c的值是一个布尔值\n",
    "c = b in a\n",
    "print(c)\n",
    "b = 4\n",
    "print(b in a)"
   ]
  },
  {
   "cell_type": "code",
   "execution_count": 19,
   "metadata": {},
   "outputs": [
    {
     "name": "stdout",
     "output_type": "stream",
     "text": [
      "True\n"
     ]
    }
   ],
   "source": [
    "# not in\n",
    "a = [1,2,3,4,5]\n",
    "b = 9\n",
    "print(b not in a)"
   ]
  },
  {
   "cell_type": "markdown",
   "metadata": {},
   "source": [
    "# 链表的遍历\n",
    "- for\n",
    "- while\n",
    "- "
   ]
  },
  {
   "cell_type": "code",
   "execution_count": 20,
   "metadata": {},
   "outputs": [
    {
     "name": "stdout",
     "output_type": "stream",
     "text": [
      "1\n",
      "2\n",
      "3\n",
      "4\n",
      "5\n"
     ]
    }
   ],
   "source": [
    "# for in list\n",
    "a = [1,2,3,4,5]\n",
    "# 挨个打印a里面的元素\n",
    "for i in a:\n",
    "    print(i)\n"
   ]
  },
  {
   "cell_type": "code",
   "execution_count": null,
   "metadata": {},
   "outputs": [],
   "source": []
  },
  {
   "cell_type": "code",
   "execution_count": 30,
   "metadata": {},
   "outputs": [
    {
     "name": "stdout",
     "output_type": "stream",
     "text": [
      "i love wangxiaojing\n"
     ]
    }
   ],
   "source": [
    "b = [\"i love wangxiaojing\"]\n",
    "for i in b:\n",
    "    print(i)"
   ]
  },
  {
   "cell_type": "code",
   "execution_count": 26,
   "metadata": {},
   "outputs": [
    {
     "name": "stdout",
     "output_type": "stream",
     "text": [
      "1\n",
      "2\n",
      "3\n",
      "4\n",
      "5\n",
      "6\n",
      "7\n",
      "8\n",
      "9\n",
      "<class 'range'>\n"
     ]
    }
   ],
   "source": [
    "# range\n",
    "# in后面的变量要求是可以可迭代的内容\n",
    "for i in range(1,10):\n",
    "    print(i)\n",
    "print(type(range(1,10)))"
   ]
  },
  {
   "cell_type": "code",
   "execution_count": 27,
   "metadata": {},
   "outputs": [
    {
     "name": "stdout",
     "output_type": "stream",
     "text": [
      "1\n",
      "2\n",
      "3\n",
      "4\n",
      "5\n",
      "6\n"
     ]
    }
   ],
   "source": [
    "# while循环访问list\n",
    "# 一般不用while遍历list\n",
    "a = [1,2,3,4,5,6]\n",
    "length = len(a)\n",
    "# indx表示list下标\n",
    "indx = 0\n",
    "while indx < length:\n",
    "    print(a[indx])\n",
    "    indx += 1"
   ]
  },
  {
   "cell_type": "code",
   "execution_count": 29,
   "metadata": {},
   "outputs": [
    {
     "name": "stdout",
     "output_type": "stream",
     "text": [
      "one --> 1\n",
      "two --> 2\n",
      "three --> 3\n"
     ]
    }
   ],
   "source": [
    "# 双层列表循环\n",
    "# a为嵌套列表，或者叫双层列表\n",
    "a = [[\"one\", 1], [\"two\", 2], [\"three\", 3]]\n",
    "\n",
    "for k,v in a:\n",
    "    print(k, \"-->\", v)"
   ]
  },
  {
   "cell_type": "code",
   "execution_count": 33,
   "metadata": {},
   "outputs": [
    {
     "name": "stdout",
     "output_type": "stream",
     "text": [
      "one --> 1 --> eins\n",
      "two --> 2 --> zwei\n",
      "three --> 3 --> drei\n"
     ]
    }
   ],
   "source": [
    "# 双层列表循环变异\n",
    "# a为嵌套列表，或者叫双层列表\n",
    "a = [[\"one\",1,\"eins\"], [\"two\",2,\"zwei\"], [\"three\",3,\"drei\"]]\n",
    "# 这个例子说明k，v，w，的个数应该跟解包出来的变量个数一致\n",
    "for k,v,w in a:\n",
    "    print(k, \"-->\", v, \"-->\", w)"
   ]
  },
  {
   "cell_type": "markdown",
   "metadata": {},
   "source": [
    "# 列表内涵：list content\n",
    "- 通过简单方法创建列表"
   ]
  },
  {
   "cell_type": "code",
   "execution_count": 34,
   "metadata": {},
   "outputs": [
    {
     "name": "stdout",
     "output_type": "stream",
     "text": [
      "['a', 'b', 'c']\n"
     ]
    }
   ],
   "source": [
    "# for 创建\n",
    "a = ['a','b','c']\n",
    "# 用list a创建一个list b\n",
    "# 下面代码的含义是，对于所有a中的元素，逐个放入新列表b中\n",
    "b = [i for i in a]\n",
    "print(b)"
   ]
  },
  {
   "cell_type": "code",
   "execution_count": 37,
   "metadata": {},
   "outputs": [
    {
     "name": "stdout",
     "output_type": "stream",
     "text": [
      "[10, 20, 30, 40, 50]\n"
     ]
    }
   ],
   "source": [
    "# 对于a中所有元素乘以10，生成一个新list\n",
    "a = [1,2,3,4,5]\n",
    "# 用list a创建一个list b\n",
    "# 下面代码的含义是，对于所有a中的元素，逐个放入新列表b中\n",
    "b = [i*10 for i in a]\n",
    "print(b)"
   ]
  },
  {
   "cell_type": "code",
   "execution_count": 39,
   "metadata": {},
   "outputs": [
    {
     "name": "stdout",
     "output_type": "stream",
     "text": [
      "[2, 4, 6, 8, 10, 12, 14, 16, 18, 20, 22, 24, 26, 28, 30, 32, 34]\n"
     ]
    }
   ],
   "source": [
    "# 还可以过滤原来list中的内容放入新列表\n",
    "# 比如原有列表a，需要把所有a中的偶数生成新的列表b\n",
    "\n",
    "a = [x for x in range(1,35)] # 生成从1到34得一个列表\n",
    "# 把a中所有偶数生成一个新的列表b\n",
    "b = [m for m in a if m % 2 == 0]\n",
    "print(b)"
   ]
  },
  {
   "cell_type": "code",
   "execution_count": 48,
   "metadata": {},
   "outputs": [
    {
     "name": "stdout",
     "output_type": "stream",
     "text": [
      "[1, 2, 3]\n",
      "[100, 200, 300, 400, 500, 600, 700, 800, 900]\n",
      "[101, 201, 301, 401, 501, 601, 701, 801, 901, 102, 202, 302, 402, 502, 602, 702, 802, 902, 103, 203, 303, 403, 503, 603, 703, 803, 903]\n",
      "101 201 301 401 501 601 701 801 901 102 202 302 402 502 602 702 802 902 103 203 303 403 503 603 703 803 903 \n",
      "---------\n",
      "[101, 201, 102, 202, 103, 203]\n"
     ]
    }
   ],
   "source": [
    "# 列表生成式可以嵌套\n",
    "# 有两个列表a，b\n",
    "a = [i for i in range(1,4)] # 生成list a\n",
    "print(a)\n",
    "b = [i for i in range(100,1000) if i % 100 == 0]\n",
    "print(b)\n",
    "\n",
    "# 列表生成可以嵌套，此时等于两个for循环嵌套\n",
    "c = [m+n for m in a for n in b]\n",
    "print(c)\n",
    "# 上面代码跟下面代码等价\n",
    "for m in a:\n",
    "    for n in b:\n",
    "        print(m+n, end=\" \")\n",
    "print()\n",
    "\n",
    "print(\"---------\")\n",
    "# 嵌套得列表生成也可以是用条件表达式\n",
    "c = [m+n for m in a for n in b if m+n < 250]\n",
    "print(c)"
   ]
  },
  {
   "cell_type": "markdown",
   "metadata": {},
   "source": [
    "# 关于列表的常用函数"
   ]
  },
  {
   "cell_type": "code",
   "execution_count": 52,
   "metadata": {},
   "outputs": [
    {
     "name": "stdout",
     "output_type": "stream",
     "text": [
      "99\n",
      "99\n",
      "python\n"
     ]
    }
   ],
   "source": [
    "# len：求列表长度\n",
    "a = [x for x in range(1,100)]\n",
    "print(len(a))\n",
    "\n",
    "# max：求列表中的最大值\n",
    "# min：同理\n",
    "print(max(a))\n",
    "\n",
    "b = [\"man\", \"film\", \"python\"]\n",
    "print(max(b))"
   ]
  },
  {
   "cell_type": "code",
   "execution_count": 54,
   "metadata": {},
   "outputs": [
    {
     "name": "stdout",
     "output_type": "stream",
     "text": [
      "[1, 2, 3]\n",
      "[1, 2, 3]\n"
     ]
    }
   ],
   "source": [
    "# list函数\n",
    "# list：将其他格式得数据转换成list\n",
    "a = [1,2,3]\n",
    "print(list(a))\n",
    "print(a)"
   ]
  },
  {
   "cell_type": "code",
   "execution_count": 56,
   "metadata": {},
   "outputs": [
    {
     "name": "stdout",
     "output_type": "stream",
     "text": [
      "['i', ' ', 'l', 'o', 'v', 'e', ' ', 'w', 'a', 'n', 'g', 'x', 'i', 'a', 'o', 'j', 'i', 'n', 'g']\n",
      "i love wangxiaojing\n"
     ]
    }
   ],
   "source": [
    "s = \"i love wangxiaojing\"\n",
    "print(list(s))\n",
    "print(s)"
   ]
  },
  {
   "cell_type": "code",
   "execution_count": 57,
   "metadata": {},
   "outputs": [
    {
     "name": "stdout",
     "output_type": "stream",
     "text": [
      "[12, 13, 14, 15, 16, 17, 18]\n"
     ]
    }
   ],
   "source": [
    "# 把range产生得内容转换成list\n",
    "print(list(range(12,19)))"
   ]
  },
  {
   "cell_type": "code",
   "execution_count": 58,
   "metadata": {},
   "outputs": [
    {
     "name": "stdout",
     "output_type": "stream",
     "text": [
      "[1, 2, 3, 4, 5, 6]\n",
      "[1, 2, 300, 4, 5, 6]\n",
      "[1, 2, 300, 4, 5, 6]\n",
      "9\n",
      "109\n",
      "9\n"
     ]
    }
   ],
   "source": [
    "# 传值和传地址的区别\n",
    "# 对于简单得数值，采用传值操作，即在函数内对参数得操作不影响外面的变量\n",
    "# 对于复杂变量，采用传地址操作，此时函数内得参数和外部变量是同一份内容，任何地方对此内容得更改都影响另外的变量或参数的使用\n",
    "\n",
    "\n",
    "def a(n):\n",
    "    n[2] = 300\n",
    "    print(n)\n",
    "    return None\n",
    "def b(n):\n",
    "    n += 100\n",
    "    print(n)\n",
    "    return None\n",
    "an = [1,2,3,4,5,6]\n",
    "bn = 9\n",
    "print(an)\n",
    "a(an)\n",
    "print(an)\n",
    "\n",
    "print(bn)\n",
    "b(bn)\n",
    "print(bn)"
   ]
  },
  {
   "cell_type": "markdown",
   "metadata": {},
   "source": [
    "# 关于列表得函数"
   ]
  },
  {
   "cell_type": "code",
   "execution_count": 60,
   "metadata": {},
   "outputs": [
    {
     "data": {
      "text/plain": [
       "['a', 'i love wangxiaojing', 45, 766, (5+4j)]"
      ]
     },
     "execution_count": 60,
     "metadata": {},
     "output_type": "execute_result"
    }
   ],
   "source": [
    "l = [\"a\",\"i love wangxiaojing\",45,766,5+4j]\n",
    "l"
   ]
  },
  {
   "cell_type": "code",
   "execution_count": 61,
   "metadata": {},
   "outputs": [
    {
     "name": "stdout",
     "output_type": "stream",
     "text": [
      "[1, 2, 3, 4]\n",
      "[1, 2, 3, 4, 100]\n"
     ]
    }
   ],
   "source": [
    "# append插入一个内容，在末尾追加\n",
    "a = [i for i in range(1,5)]\n",
    "print(a)\n",
    "a.append(100)\n",
    "print(a)"
   ]
  },
  {
   "cell_type": "code",
   "execution_count": 65,
   "metadata": {},
   "outputs": [
    {
     "name": "stdout",
     "output_type": "stream",
     "text": [
      "[1, 100, 100, 2, 3, 4, 100]\n",
      "[1, 200, 100, 100, 2, 3, 4, 100]\n"
     ]
    }
   ],
   "source": [
    "# insert：指定位置插入\n",
    "# inser(index, data)，插入位置是index前面\n",
    "print(a)\n",
    "a.insert(1, 200)\n",
    "print(a)"
   ]
  },
  {
   "cell_type": "code",
   "execution_count": 66,
   "metadata": {},
   "outputs": [
    {
     "name": "stdout",
     "output_type": "stream",
     "text": [
      "[1, 200, 100, 100, 2, 3, 4, 100]\n",
      "100\n",
      "[1, 200, 100, 100, 2, 3, 4]\n"
     ]
    }
   ],
   "source": [
    "# 删除\n",
    "# del删除\n",
    "# pop，从对位拿出一个元素，即把最后一个元素取出来\n",
    "print(a)\n",
    "last_ele = a.pop()\n",
    "print(last_ele)\n",
    "print(a)"
   ]
  },
  {
   "cell_type": "code",
   "execution_count": 76,
   "metadata": {},
   "outputs": [
    {
     "name": "stdout",
     "output_type": "stream",
     "text": [
      "[1, 3, 4, 5, 3, 3, 3, 3, 6]\n",
      "1799272424904\n",
      "[1, 4, 5, 3, 3, 3, 3, 6]\n",
      "1799272424904\n"
     ]
    }
   ],
   "source": [
    "# remove：在列表中删除指定得值的元素\n",
    "# 如果被删除的值没在list中，则报错\n",
    "# 即，删除list指定值得操作应该使用try...excepty语句，或者先行进行判断\n",
    "# if x in list:\n",
    "#   list.remove(x)\n",
    "a = [1,3,4,5,3,3,3,3,6]\n",
    "print(a)\n",
    "print(id(a))\n",
    "a.remove(3)\n",
    "print(a)\n",
    "print(id(a))\n",
    "\n",
    "# 输出两个id值一样，说明remove操作是在原list直接操作"
   ]
  },
  {
   "cell_type": "code",
   "execution_count": 79,
   "metadata": {},
   "outputs": [
    {
     "name": "stdout",
     "output_type": "stream",
     "text": [
      "[]\n",
      "1799272424904\n",
      "[]\n",
      "1799272424904\n"
     ]
    }
   ],
   "source": [
    "# clear：清空\n",
    "print(a)\n",
    "print(id(a))\n",
    "a.clear()\n",
    "print(a)\n",
    "print(id(a))\n",
    "\n",
    "# 如果不需要列表地址保持不变，则清空列表可以使用以下方式\n",
    "# a = list()\n",
    "# a = []"
   ]
  },
  {
   "cell_type": "code",
   "execution_count": 81,
   "metadata": {},
   "outputs": [
    {
     "name": "stdout",
     "output_type": "stream",
     "text": [
      "[1, 2, 3, 4, 5]\n",
      "1799272335496\n",
      "[5, 4, 3, 2, 1]\n",
      "1799272335496\n"
     ]
    }
   ],
   "source": [
    "# reverse：翻转列表内容，原地翻转\n",
    "a = [1,2,3,4,5]\n",
    "print(a)\n",
    "print(id(a))\n",
    "\n",
    "a.reverse()\n",
    "print(a)\n",
    "print(id(a))"
   ]
  },
  {
   "cell_type": "code",
   "execution_count": 83,
   "metadata": {},
   "outputs": [
    {
     "name": "stdout",
     "output_type": "stream",
     "text": [
      "[1, 2, 3, 4, 5, 6]\n",
      "1799264371080\n",
      "[1, 2, 3, 4, 5, 6, 6, 7, 8, 9, 10]\n",
      "1799264371080\n"
     ]
    }
   ],
   "source": [
    "# extend：扩展列表，两个列表，把一个直接拼接到后一个上\n",
    "a = [1,2,3,4,5,6]\n",
    "b = [6,7,8,9,10]\n",
    "print(a)\n",
    "print(id(a))\n",
    "\n",
    "a.extend(b)\n",
    "print(a)\n",
    "print(id(a))"
   ]
  },
  {
   "cell_type": "code",
   "execution_count": 87,
   "metadata": {},
   "outputs": [
    {
     "name": "stdout",
     "output_type": "stream",
     "text": [
      "[1, 2, 3, 4, 8, 5, 6, 6, 7, 8, 9, 10, 8, 8]\n",
      "[1, 2, 3, 4, 8, 8, 5, 6, 6, 7, 8, 9, 10, 8, 8, 8]\n",
      "6\n"
     ]
    }
   ],
   "source": [
    "# count：查找列表中指定值或元素的个数\n",
    "print(a)\n",
    "a.append(8)\n",
    "a.insert(4, 8)\n",
    "print(a)\n",
    "a_len = a.count(8)\n",
    "print(a_len)"
   ]
  },
  {
   "cell_type": "code",
   "execution_count": 89,
   "metadata": {},
   "outputs": [
    {
     "name": "stdout",
     "output_type": "stream",
     "text": [
      "[1, 2, 3, 4, 5, 666]\n",
      "[1, 2, 3, 777, 5, 666]\n",
      "[1, 2, 3, 777, 5, 666]\n",
      "********************\n",
      "[1, 2, 3, 777, 5, 666]\n",
      "1799272304392\n",
      "[1, 2, 3, 777, 5, 666]\n",
      "1799272304200\n",
      "******************************\n",
      "[1, 2, 3, 777, 5, 666]\n",
      "[1, 2, 3, 888, 5, 666]\n"
     ]
    }
   ],
   "source": [
    "# copy：拷贝，浅拷贝\n",
    "\n",
    "# 列表类型变量赋值示例\n",
    "a = [1,2,3,4,5,666]\n",
    "print(a)\n",
    "# list类型，简单赋值操作，是传地址 \n",
    "b = a\n",
    "b[3] = 777\n",
    "print(a)\n",
    "print(b)\n",
    "print(\"*\" * 20)\n",
    "# 为了解决以上问题，list赋值需要采用copy函数\n",
    "b = a.copy()\n",
    "print(a)\n",
    "print(id(a))\n",
    "print(b)\n",
    "print(id(b))\n",
    "print(\"*\" * 30)\n",
    "b[3] = 888\n",
    "print(a)\n",
    "print(b)"
   ]
  },
  {
   "cell_type": "code",
   "execution_count": 92,
   "metadata": {},
   "outputs": [
    {
     "name": "stdout",
     "output_type": "stream",
     "text": [
      "1799265025416\n",
      "1799264862472\n",
      "1799264864648\n",
      "1799264864648\n",
      "[1, 2, 3, [10, 20, 666]]\n",
      "[1, 2, 3, [10, 20, 666]]\n"
     ]
    }
   ],
   "source": [
    "# 深拷贝跟浅拷贝的区别\n",
    "# 出现下列问题的原因是，copy函数是浅拷贝函数，即只拷贝一层内容\n",
    "# 深拷贝需要使用特定工具\n",
    "a = [1,2,3,[10,20,30]]\n",
    "b = a.copy()\n",
    "print(id(a))\n",
    "print(id(b))\n",
    "print(id(a[3]))\n",
    "print(id(b[3]))\n",
    "a[3][2] = 666\n",
    "print(a)\n",
    "print(b)"
   ]
  },
  {
   "cell_type": "code",
   "execution_count": null,
   "metadata": {},
   "outputs": [],
   "source": []
  }
 ],
 "metadata": {
  "kernelspec": {
   "display_name": "Python 3",
   "language": "python",
   "name": "python3"
  },
  "language_info": {
   "codemirror_mode": {
    "name": "ipython",
    "version": 3
   },
   "file_extension": ".py",
   "mimetype": "text/x-python",
   "name": "python",
   "nbconvert_exporter": "python",
   "pygments_lexer": "ipython3",
   "version": "3.7.4"
  }
 },
 "nbformat": 4,
 "nbformat_minor": 2
}
