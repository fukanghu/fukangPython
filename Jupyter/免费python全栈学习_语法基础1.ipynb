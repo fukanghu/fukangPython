{
 "cells": [
  {
   "cell_type": "markdown",
   "metadata": {},
   "source": [
    "# 字符串\n",
    "- 转义字符\n",
    "- 格式化\n",
    "- 内建函数（后延）\n",
    "\n",
    "## 转义字符\n",
    "- 用一个特殊的方法表示出一系列不方便写出的内容，比如回车键，换行键，退格键\n",
    "- 借助反斜杠字符，一旦字符串中出现反斜杠，反斜杠后面一个或几个字符已经表示不是原来的意思了，进行了转义\n",
    "- 在字符串中一旦出现反斜杠要加倍小心，可能有转义字符出现\n",
    "- 不同系统对换行操作有不同的理解与表示\n",
    "  - windows：\\n\n",
    "  - linux：\\r\\n"
   ]
  },
  {
   "cell_type": "code",
   "execution_count": 1,
   "metadata": {},
   "outputs": [
    {
     "name": "stdout",
     "output_type": "stream",
     "text": [
      "i love u\n"
     ]
    }
   ],
   "source": [
    "s = \"i love u\"\n",
    "print(s)"
   ]
  },
  {
   "cell_type": "code",
   "execution_count": 9,
   "metadata": {},
   "outputs": [
    {
     "name": "stdout",
     "output_type": "stream",
     "text": [
      "let's go\n",
      "let's go\n",
      "c:\\user\n",
      "i love \r\n",
      " u\n"
     ]
    }
   ],
   "source": [
    "# 如果想表示出let's go来\n",
    "# 1. 可以使用嵌套引号，即外层使用双引号\n",
    "# 2. 转义字符\n",
    "s1 = \"let's go\"\n",
    "# \\' == '\n",
    "s2 = 'let\\'s go'\n",
    "# \\\\ = \\\n",
    "s3 = \"c:\\\\user\"\n",
    "print(s1)\n",
    "print(s2)\n",
    "print(s3)\n",
    "\n",
    "# 回车换行符 \\r\\n\n",
    "s4 = \"i love \\r\\n u\"\n",
    "print(s4)\n"
   ]
  },
  {
   "cell_type": "markdown",
   "metadata": {},
   "source": [
    "## 字符串的格式化\n",
    "- 把字符串按照一定格式打印或者填充\n",
    "- 格式化有两种方法\n",
    "  - 利用百分号%\n",
    "  - 利用format函数\n",
    "  "
   ]
  },
  {
   "cell_type": "code",
   "execution_count": 15,
   "metadata": {},
   "outputs": [],
   "source": [
    "s = \"xxx 您好，我们是图灵学院开课了，免费的python，不学白不学，学了也白学。\""
   ]
  },
  {
   "cell_type": "markdown",
   "metadata": {},
   "source": [
    "### 利用百分号格式化\n",
    "- 在字符串中，利用%表示一个特殊含义，表示对字符进行格式化\n",
    "- %d：此处应该放入一个整数\n",
    "- %s：表示此处应该放入一个字符串\n"
   ]
  },
  {
   "cell_type": "code",
   "execution_count": 18,
   "metadata": {},
   "outputs": [
    {
     "name": "stdout",
     "output_type": "stream",
     "text": [
      "i love %s\n"
     ]
    }
   ],
   "source": [
    "s = \"i love %s\"\n",
    "# 下面打印，直接把%s作为字符串的一个内容打印出来\n",
    "print(s)"
   ]
  },
  {
   "cell_type": "code",
   "execution_count": 20,
   "metadata": {},
   "outputs": [
    {
     "name": "stdout",
     "output_type": "stream",
     "text": [
      "i love u\n"
     ]
    }
   ],
   "source": [
    "print(\"i love %s\"%\"u\")"
   ]
  },
  {
   "cell_type": "code",
   "execution_count": 21,
   "metadata": {},
   "outputs": [
    {
     "name": "stdout",
     "output_type": "stream",
     "text": [
      "i love u\n"
     ]
    }
   ],
   "source": [
    "print(s%\"u\")"
   ]
  },
  {
   "cell_type": "code",
   "execution_count": 2,
   "metadata": {},
   "outputs": [
    {
     "name": "stdout",
     "output_type": "stream",
     "text": [
      "i am %d years old\n",
      "i am 18 years old\n"
     ]
    }
   ],
   "source": [
    "s = \"i am %d years old\"\n",
    "# 留意下面两句话的区别和结果\n",
    "print(s)\n",
    "print(s%18)"
   ]
  },
  {
   "cell_type": "code",
   "execution_count": 9,
   "metadata": {},
   "outputs": [
    {
     "name": "stdout",
     "output_type": "stream",
     "text": [
      "i am %s, i am %d years old\n",
      "i am fukang, i am 18 years old\n"
     ]
    }
   ],
   "source": [
    "s = \"i am %s, i am %d years old\"\n",
    "print(s)\n",
    "# 关于以下表达出现的原因\n",
    "# 如果字符串中有占位符，则有几个占位符必须用几个实际内容代替，或者一个也不要 \n",
    "# print(s%\"fukang\")\n",
    "\n",
    "# 如果出现多个占位符，则相应内容需要用括号括起来\n",
    "print(s%(\"fukang\", 18))"
   ]
  },
  {
   "cell_type": "markdown",
   "metadata": {},
   "source": [
    "### format函数格式化字符串\n",
    "- 直接用format函数进行格式化\n",
    "- 推荐使用这种方法\n",
    "- 在使用上，以{}和:代替%号，后面用format带参数完成"
   ]
  },
  {
   "cell_type": "code",
   "execution_count": 12,
   "metadata": {},
   "outputs": [
    {
     "name": "stdout",
     "output_type": "stream",
     "text": [
      "i love fukang\n",
      "yes, i am 18 years old, i love fukang and i am 18 years old\n"
     ]
    }
   ],
   "source": [
    "s = \"i love {}\".format(\"fukang\")\n",
    "print(s)\n",
    "\n",
    "s = \"yes, i am {1} years old, i love {0} and i am {1} years old\".format(\"fukang\", 18)\n",
    "print(s)\n"
   ]
  },
  {
   "cell_type": "code",
   "execution_count": 13,
   "metadata": {},
   "outputs": [
    {
     "name": "stdout",
     "output_type": "stream",
     "text": [
      "hello world\n"
     ]
    }
   ],
   "source": [
    "s = \"hello world\"\n",
    "print(s)"
   ]
  },
  {
   "cell_type": "markdown",
   "metadata": {},
   "source": [
    "### None\n",
    "- 表示什么都没有\n",
    "- 如果函数没有返回值，可以返回None\n",
    "- 用来占位置\n",
    "- 用来解除标量绑定\n"
   ]
  },
  {
   "cell_type": "markdown",
   "metadata": {},
   "source": [
    "# 表达式\n",
    "- 有一个或者几个数字或者变量和运算符组成的一行代码\n",
    "- 通常会返回一个结果\n",
    "# 运算符\n",
    "- 由一个以上的值经过变化得到新值的过程就叫运算\n",
    "- 用于运算的符号叫运算符\n",
    "- 运算符分类：\n",
    "  - 算数运算符\n",
    "  - 比较或者关系运算符\n",
    "  - 赋值运算符\n",
    "  - 逻辑运算符\n",
    "  - 位运算\n",
    "  - 成员运算符\n",
    "  - 身份运算符\n",
    "  "
   ]
  },
  {
   "cell_type": "markdown",
   "metadata": {},
   "source": [
    "## 算数运算符\n",
    "- 进行算数运算的符号\n",
    "- python没有自增自减运算符"
   ]
  },
  {
   "cell_type": "code",
   "execution_count": 21,
   "metadata": {},
   "outputs": [
    {
     "name": "stdout",
     "output_type": "stream",
     "text": [
      "10\n",
      "63\n",
      "2.25\n",
      "1\n",
      "2\n",
      "16\n"
     ]
    }
   ],
   "source": [
    "# +，-跟正常算术运算一样\n",
    "a = 9 + 3 - 2\n",
    "print(a)\n",
    "# 乘号用(*)代替\n",
    "b = 7 * 9\n",
    "print(b)\n",
    "# 出号用(/)代替\n",
    "# 在python2.x和pathon3.x中，除号(/)结果可能不一致，此处以3系列为准\n",
    "c = 9 / 4\n",
    "print(c)\n",
    "\n",
    "# % 取余运算\n",
    "# 两个数字相除应该有商数有余数\n",
    "# % 只会得到玉树\n",
    "a = 9 % 4\n",
    "print(a)\n",
    "\n",
    "# // 表示取商运算，也叫地板除\n",
    "a = 9 // 4\n",
    "print(a)\n",
    "# ** 表示幂运算\n",
    "a = 2 ** 4\n",
    "print(a)"
   ]
  },
  {
   "cell_type": "markdown",
   "metadata": {},
   "source": [
    "## 比较运算符\n",
    "- 对两个变量或者值进行比较的运算符\n",
    "- 比较的结果是布尔值，即Ture/False"
   ]
  },
  {
   "cell_type": "code",
   "execution_count": 23,
   "metadata": {},
   "outputs": [
    {
     "name": "stdout",
     "output_type": "stream",
     "text": [
      "False\n",
      "True\n"
     ]
    }
   ],
   "source": [
    "# ==，等于号\n",
    "# 下面语句执行顺序是\n",
    "# 1，计算 a == 80\n",
    "# 2，把结果放入b中\n",
    "a = 3 ** 4\n",
    "b = a == 80\n",
    "print(b)\n",
    "\n",
    "# ！=，不等于\n",
    "print(9!=8)\n",
    "\n",
    "# >，大于\n",
    "# <，小于\n",
    "# >=，大于等于\n",
    "# <=，小于等于"
   ]
  },
  {
   "cell_type": "markdown",
   "metadata": {},
   "source": [
    "## 赋值运算符\n"
   ]
  },
  {
   "cell_type": "code",
   "execution_count": 25,
   "metadata": {},
   "outputs": [
    {
     "name": "stdout",
     "output_type": "stream",
     "text": [
      "7\n"
     ]
    }
   ],
   "source": [
    "# =，赋值\n",
    "a = 0\n",
    "c = a = 4\n",
    "\n",
    "# +=，是缩写\n",
    "a = 0\n",
    "a += 7 # a = a + 7的缩写\n",
    "print(a)\n",
    "\n",
    "# 所有数学运算符都有缩写缩写形式\n",
    "# -=，*=，/=，%=，//=，**=，都是缩写形式\n"
   ]
  },
  {
   "cell_type": "markdown",
   "metadata": {},
   "source": [
    "# 逻辑运算符\n",
    "- 对布尔值进行计算的符号\n",
    "- and 逻辑与\n",
    "- or 逻辑或\n",
    "- not 逻辑非\n",
    "- python中逻辑运算没有异或运算\n",
    "- 运算规则：\n",
    "  - and看作乘法，or看作加法\n",
    "  - True看作1，False看作0\n",
    "  - 则逻辑运算就能转换成整数数学运算\n",
    "  - 最后结果如果是0则为false，否则为True \n",
    " - 逻辑运算的短路问题\n",
    "   - 逻辑运算式，按照运算顺序计算，一旦能够确定整个式子未来的值，则不再进行计算，直接返回"
   ]
  },
  {
   "cell_type": "code",
   "execution_count": 27,
   "metadata": {},
   "outputs": [
    {
     "name": "stdout",
     "output_type": "stream",
     "text": [
      "True\n",
      "True\n"
     ]
    }
   ],
   "source": [
    "# 逻辑运算符案例\n",
    "a = True\n",
    "b = False\n",
    "c = True\n",
    "\n",
    "# 以下式子等价于 d = 1 * 0 + 1\n",
    "d = a and b or c\n",
    "print(d)\n",
    "\n",
    "d = a or b and a\n",
    "print(d)"
   ]
  },
  {
   "cell_type": "code",
   "execution_count": 28,
   "metadata": {},
   "outputs": [
    {
     "ename": "SyntaxError",
     "evalue": "invalid syntax (<ipython-input-28-a5bb1ffb3945>, line 11)",
     "output_type": "error",
     "traceback": [
      "\u001b[1;36m  File \u001b[1;32m\"<ipython-input-28-a5bb1ffb3945>\"\u001b[1;36m, line \u001b[1;32m11\u001b[0m\n\u001b[1;33m    a = a or (b = 9) and 6\u001b[0m\n\u001b[1;37m                ^\u001b[0m\n\u001b[1;31mSyntaxError\u001b[0m\u001b[1;31m:\u001b[0m invalid syntax\n"
     ]
    }
   ],
   "source": [
    "# 逻辑运算的短路实例\n",
    "# 下面的逻辑表达式，a的值一定是True，则运行到or的时候，整个表达式不再向下计算\n",
    "\n",
    "a = True or xxxxxxx\n",
    "\n",
    "# 下面表达式，如果xxx中包含赋值表达式，则结果很难预期\n",
    "# 代码示例(伪代码)\n",
    "\n",
    "# 下面表达式，如果xxx中包含赋值表达式，则结果很难预期\n",
    "b = 0\n",
    "a = a or (b = 9) and 6 \n",
    "# 假定上面表达式没有语法错误\n",
    "# 则b最终的值应该是0而不是9\n",
    "print(b)\n",
    "print(a)"
   ]
  },
  {
   "cell_type": "markdown",
   "metadata": {},
   "source": [
    "# 成员运算符号\n",
    "- 用来检测某一个变量是否是另一个变量的成员\n",
    "- in\n",
    "- not in\n"
   ]
  },
  {
   "cell_type": "code",
   "execution_count": 31,
   "metadata": {},
   "outputs": [
    {
     "name": "stdout",
     "output_type": "stream",
     "text": [
      "False\n",
      "True\n",
      "False\n"
     ]
    }
   ],
   "source": [
    "# 案例\n",
    "l = {1,2,3,4,5}\n",
    "a = 7\n",
    "\n",
    "b = a in l\n",
    "print(b)\n",
    "\n",
    "a = 4 \n",
    "print(a in l)\n",
    "\n",
    "print(a not in l)"
   ]
  },
  {
   "cell_type": "markdown",
   "metadata": {},
   "source": [
    "## 身份运算\n",
    "- is：用来检测两个变量是否是同一个变量\n",
    "  - 语法就是 var1 is var2\n",
    "- is not：两个变量不是同一个变量 "
   ]
  },
  {
   "cell_type": "code",
   "execution_count": 34,
   "metadata": {},
   "outputs": [
    {
     "name": "stdout",
     "output_type": "stream",
     "text": [
      "True\n",
      "False\n"
     ]
    }
   ],
   "source": [
    "a = 9\n",
    "b = 9\n",
    "print(a is b)\n",
    "\n",
    "a = \"i love allan\"\n",
    "b = \"i love allan\"\n",
    "print(a is b)"
   ]
  },
  {
   "cell_type": "markdown",
   "metadata": {},
   "source": [
    "## 运算符的优先级问题\n",
    "- 永远记住括号具有最高优先级"
   ]
  },
  {
   "cell_type": "markdown",
   "metadata": {},
   "source": [
    "# 程序结构\n",
    "- 顺序\n",
    "- 分支 \n",
    "- 循环\n",
    "- "
   ]
  },
  {
   "cell_type": "markdown",
   "metadata": {},
   "source": [
    "# 分支\n",
    "- 分支基本语法\n",
    "\n",
    "\n",
    "      if 条件表达式\n",
    "       语句1\n",
    "       语句2 \n",
    "       语句3\n",
    "       .......\n",
    "       \n",
    "- 条件表达式就是计算结果必须为布尔值的表达式\n",
    "- 表达式后面的冒号不能少\n",
    "- 注意if后面的出现的语句，如果数以if语句块，则必须同一个缩进等级\n",
    "- 条件表达式结果为True执行if后面的缩进的语句块\n",
    "- "
   ]
  },
  {
   "cell_type": "code",
   "execution_count": 3,
   "metadata": {},
   "outputs": [
    {
     "name": "stdout",
     "output_type": "stream",
     "text": [
      "去叫家长吧\n",
      "我们不带你玩\n",
      "滚球的\n",
      "----------\n",
      "开始上车了，老司机们\n"
     ]
    }
   ],
   "source": [
    "# if语句联系\n",
    "# 如果age小于18，则打印信息“去叫家长”\n",
    "\n",
    "age = 17\n",
    "if age < 18:\n",
    "    print(\"去叫家长吧\")\n",
    "    print(\"我们不带你玩\")\n",
    "    print(\"滚球的\")\n",
    "    \n",
    "print(\"----------\")\n",
    "    \n",
    "age = 19\n",
    "if age < 18:\n",
    "    print(\"去叫家长吧\")\n",
    "    print(\"我们不带你玩\")\n",
    "    print(\"滚球的\")\n",
    "    \n",
    "print(\"开始上车了，老司机们\")"
   ]
  },
  {
   "cell_type": "code",
   "execution_count": 7,
   "metadata": {},
   "outputs": [
    {
     "name": "stdout",
     "output_type": "stream",
     "text": [
      "今天学习for循环\n",
      "开始上课了\n"
     ]
    }
   ],
   "source": [
    "print(\"今天学习for循环\")\n",
    "\n",
    "gender = \"male\"\n",
    "if gender == \"female\":\n",
    "    print(\"来吃糖\")\n",
    "print(\"开始上课了\")"
   ]
  },
  {
   "cell_type": "markdown",
   "metadata": {},
   "source": [
    "### 双向分支\n",
    "- if...else...语句\n",
    "   \n",
    "      if 条件表达式：\n",
    "       语句1 \n",
    "       语句2\n",
    "       ...\n",
    "      else:\n",
    "       语句1\n",
    "       语句2\n",
    "       ...\n",
    "\n",
    "- 双向分支有两个分支，当程序执行到if...else...语句的时候，一定会执行if或else中的一个，也仅执行一个\n",
    "- 缩进问题，if和else一个层级，其余语句一个层级\n"
   ]
  },
  {
   "cell_type": "code",
   "execution_count": 11,
   "metadata": {},
   "outputs": [
    {
     "name": "stdout",
     "output_type": "stream",
     "text": [
      "please input your gender:man\n",
      "your gender is: man\n",
      "do homework\n",
      "start lesson\n"
     ]
    }
   ],
   "source": [
    "# input的作用是\n",
    "# 1，在屏幕上输出括号内的字符串\n",
    "# 2，接受用户输入的内容并返回到程序\n",
    "# 3，input返回的内容一定是字符串类型\n",
    "gender = input(\"please input your gender:\")\n",
    "print (\"your gender is: {}\".format(gender))\n",
    "\n",
    "if gender == \"man\":\n",
    "    print(\"do homework\")\n",
    "else:\n",
    "    print(\"play\")\n",
    "        \n",
    "print(\"start lesson\")"
   ]
  },
  {
   "cell_type": "code",
   "execution_count": 12,
   "metadata": {},
   "outputs": [],
   "source": [
    "# 考试成绩\n",
    "# 90以上：输出优秀\n",
    "# 80-90：良\n",
    "# 70-80：中\n",
    "# 60-70：平\n",
    "# 60以下：没有你这撒学生"
   ]
  },
  {
   "cell_type": "code",
   "execution_count": 19,
   "metadata": {},
   "outputs": [
    {
     "name": "stdout",
     "output_type": "stream",
     "text": [
      "please enter your score：55\n",
      "起开，没你这撒学生\n"
     ]
    }
   ],
   "source": [
    "# score 存入学生成绩\n",
    "\n",
    "score = input(\"please enter your score：\")\n",
    "# 需要把str转化程int\n",
    "score = int(score)\n",
    "if score >= 90:\n",
    "    print(\"A\")\n",
    "if score >= 80 and score < 90:\n",
    "    print(\"B\")\n",
    "if score >= 70 and score < 80:\n",
    "    print(\"C\")\n",
    "if score >= 60 and score < 70:\n",
    "    print(\"D\")\n",
    "if score < 60:\n",
    "    print(\"起开，没你这撒学生\")\n",
    "    \n"
   ]
  },
  {
   "cell_type": "markdown",
   "metadata": {},
   "source": [
    "## 多路分支\n",
    "## 冷读术\n",
    "\n",
    "- 很多分支的情况下，简称多路分支\n",
    "\n",
    "      if 条件表达式：\n",
    "       语句1\n",
    "       ...\n",
    "      elif 条件表达式：\n",
    "       语句1\n",
    "       ...\n",
    "      elif 条件表达式：\n",
    "       语句1\n",
    "       ...\n",
    "      else：\n",
    "       语句1\n",
    "       ...\n",
    "       \n",
    "- elif可以有很多数\n",
    "- else可选\n",
    "- 多路分支只会选一个执行"
   ]
  },
  {
   "cell_type": "code",
   "execution_count": 1,
   "metadata": {},
   "outputs": [
    {
     "name": "stdout",
     "output_type": "stream",
     "text": [
      "please enter your score：33\n",
      "起开，没你这撒学生\n"
     ]
    }
   ],
   "source": [
    "# score 存入学生成绩\n",
    "\n",
    "score = input(\"please enter your score：\")\n",
    "# 需要把str转化程int\n",
    "score = int(score)\n",
    "if score >= 90:\n",
    "    print(\"A\")\n",
    "elif score >= 80:\n",
    "    print(\"B\")\n",
    "elif score >= 70:\n",
    "    print(\"C\")\n",
    "elif score >= 60:\n",
    "    print(\"D\")\n",
    "else:\n",
    "    print(\"起开，没你这撒学生\")"
   ]
  },
  {
   "cell_type": "markdown",
   "metadata": {},
   "source": [
    "## if语句其他：\n",
    "- if语句可以嵌套使用，但是不推荐\n",
    "- python没有switch-cass语句"
   ]
  },
  {
   "cell_type": "markdown",
   "metadata": {},
   "source": [
    "# 循环语句\n",
    "- 重复执行某些固定动作或者处理基本固定的事物\n",
    "- 分类\n",
    "  - for循环\n",
    "  - while循环\n",
    "## for循环\n",
    "- for循环\n",
    " \n",
    "      for 变量 in 序列：\n",
    "        语句1\n",
    "        语句2\n",
    "        ..."
   ]
  },
  {
   "cell_type": "code",
   "execution_count": 2,
   "metadata": {
    "scrolled": true
   },
   "outputs": [
    {
     "name": "stdout",
     "output_type": "stream",
     "text": [
      "zhangsan\n",
      "jingjing\n",
      "wangwu\n",
      "lisi\n"
     ]
    }
   ],
   "source": [
    "# 例表就是一列数字或者其他值，一般用中括号表示\n",
    "# 例如['zhangsan', 'lisi', 'wangwu', 'jingjing']\n",
    "\n",
    "# 打印学生列表姓名\n",
    "for name in ['zhangsan', 'lisi', 'wangwu', 'jingjing']:\n",
    "    print(name)"
   ]
  },
  {
   "cell_type": "code",
   "execution_count": 3,
   "metadata": {},
   "outputs": [
    {
     "name": "stdout",
     "output_type": "stream",
     "text": [
      "zhangsan\n",
      "同学我们不约，不约，同学请自重\n",
      "jingjing\n",
      "我的最爱jingjing出现了\n",
      "lisi\n",
      "同学我们不约，不约，同学请自重\n",
      "wangwu\n",
      "同学我们不约，不约，同学请自重\n"
     ]
    }
   ],
   "source": [
    "# 打印学生列表姓名\n",
    "# 如果是jingjing，那肯定是我的最爱啊\n",
    "# 如果是别的学生，那要冷酷的拒绝他\n",
    "\n",
    "for name in ['zhangsan', 'lisi', 'wangwu', 'jingjing']:\n",
    "    print(name)\n",
    "    if name == \"jingjing\":\n",
    "        print(\"我的最爱{0}出现了\".format(name))\n",
    "    else:\n",
    "        print(\"同学我们不约，不约，同学请自重\")"
   ]
  },
  {
   "cell_type": "markdown",
   "metadata": {},
   "source": [
    "## range介绍\n",
    "- 生成一个数字序列\n",
    "- 具体范围可以设定"
   ]
  },
  {
   "cell_type": "code",
   "execution_count": 7,
   "metadata": {},
   "outputs": [
    {
     "name": "stdout",
     "output_type": "stream",
     "text": [
      "1\n",
      "2\n",
      "3\n",
      "4\n",
      "5\n",
      "6\n",
      "7\n",
      "8\n",
      "9\n"
     ]
    }
   ],
   "source": [
    "# range练习\n",
    "# 打印从1-10数字\n",
    "# z注意，一般在python中，如果由数字范围的两个数，一般是包括左边数字不包含右边数字\n",
    "# randint是特例，左右都包括\n",
    "# range函数在python2和python3中有严重区别\n",
    "for i in range(1,10):\n",
    "    print(i)"
   ]
  },
  {
   "cell_type": "markdown",
   "metadata": {},
   "source": [
    "## for-else语句\n",
    "- 当for循环结束的时候，会执行else语句\n",
    "- else语句时可选语句"
   ]
  },
  {
   "cell_type": "code",
   "execution_count": 23,
   "metadata": {},
   "outputs": [
    {
     "name": "stdout",
     "output_type": "stream",
     "text": [
      "zhangsan\n",
      "同学我们不约，不约，同学请自重\n",
      "lisi\n",
      "同学我们不约，不约，同学请自重\n",
      "wangwu\n",
      "同学我们不约，不约，同学请自重\n",
      "jingjing\n",
      "我的最爱jingjing出现了\n",
      "别的都不是我的学生，不会再爱了\n"
     ]
    }
   ],
   "source": [
    "# for-else语句\n",
    "# 打印列表中的同学\n",
    "# 如果没有在列表中，或者列表结束了，我们需要打印提示语句，表示不再爱了\n",
    "# 打印学生列表姓名\n",
    "# 如果是jingjing，那肯定是我的最爱啊\n",
    "# 如果是别的学生，那要冷酷的拒绝他\n",
    "\n",
    "for name in ['zhangsan', 'lisi', 'wangwu', 'jingjing']:\n",
    "    print(name)\n",
    "    if name == \"jingjing\":\n",
    "        print(\"我的最爱{0}出现了\".format(name))\n",
    "    else:\n",
    "        print(\"同学我们不约，不约，同学请自重\")\n",
    "else:\n",
    "    print(\"别的都不是我的学生，不会再爱了\")"
   ]
  },
  {
   "cell_type": "markdown",
   "metadata": {},
   "source": [
    "## for循环之break，continue，pass\n",
    "- break：无条件结束整个循环，简称循环猝死\n",
    "- continue：无条件结束本次循环，重新进入下一循环\n",
    "- pass：表示略过，用于占位\n"
   ]
  },
  {
   "cell_type": "code",
   "execution_count": 12,
   "metadata": {},
   "outputs": [
    {
     "name": "stdout",
     "output_type": "stream",
     "text": [
      "1\n",
      "2\n",
      "3\n",
      "4\n",
      "5\n",
      "6\n",
      "7，我找到了\n"
     ]
    }
   ],
   "source": [
    "# 在数字1-10中，寻找数字7，一旦找到，打印出来，其余么都不做\n",
    "# for循环中的变量表示，一般用i，k，m，n，或者indx，idx，item之类\n",
    "# 在python中，如果循环变量名称不重要，可以用下划线（_）代替\n",
    "\n",
    "for i in range(1,11):\n",
    "    if i == 7:\n",
    "        print(\"7，我找到了\")\n",
    "        break\n",
    "    else:\n",
    "        print(i)"
   ]
  },
  {
   "cell_type": "code",
   "execution_count": 15,
   "metadata": {},
   "outputs": [
    {
     "name": "stdout",
     "output_type": "stream",
     "text": [
      "2是偶数\n",
      "4是偶数\n",
      "6是偶数\n",
      "8是偶数\n",
      "10是偶数\n"
     ]
    }
   ],
   "source": [
    "# continue语句练习1\n",
    "# 在数字1-10中，寻找偶数，找到后打印\n",
    "\n",
    "for i in range(1,11):\n",
    "    if i % 2 == 1:\n",
    "        continue\n",
    "    else:\n",
    "        print(\"{0}是偶数\".format(i))"
   ]
  },
  {
   "cell_type": "code",
   "execution_count": 18,
   "metadata": {},
   "outputs": [
    {
     "name": "stdout",
     "output_type": "stream",
     "text": [
      "2是偶数\n",
      "4是偶数\n",
      "6是偶数\n",
      "8是偶数\n",
      "10是偶数\n"
     ]
    }
   ],
   "source": [
    "# continue语句练习2\n",
    "# 在数字1-10中，寻找偶数，找到后打印\n",
    "\n",
    "for i in range(1,11):\n",
    "    if i % 2 == 0:\n",
    "        print(\"{0}是偶数\".format(i))"
   ]
  },
  {
   "cell_type": "code",
   "execution_count": 19,
   "metadata": {},
   "outputs": [
    {
     "name": "stdout",
     "output_type": "stream",
     "text": [
      "2是偶数\n",
      "4是偶数\n",
      "6是偶数\n",
      "8是偶数\n",
      "10是偶数\n"
     ]
    }
   ],
   "source": [
    "# continue语句练习3\n",
    "# 在数字1-10中，寻找偶数，找到后打印\n",
    "# 本案例完整显示continue的用法和作用\n",
    "for i in range(1,11):\n",
    "    if i % 2 == 1:\n",
    "        continue\n",
    "        \n",
    "    print(\"{0}是偶数\".format(i))"
   ]
  },
  {
   "cell_type": "code",
   "execution_count": 22,
   "metadata": {},
   "outputs": [
    {
     "name": "stdout",
     "output_type": "stream",
     "text": [
      "haha\n",
      "haha\n",
      "haha\n",
      "haha\n",
      "haha\n",
      "haha\n",
      "haha\n",
      "haha\n",
      "haha\n",
      "haha\n"
     ]
    }
   ],
   "source": [
    "# pass例子，一般用于占位\n",
    "# pass没有跳过功能\n",
    "for i in range(1,11):\n",
    "    pass\n",
    "    print(\"haha\")"
   ]
  },
  {
   "cell_type": "markdown",
   "metadata": {},
   "source": [
    "# while循环\n",
    "- 一个循环语句\n",
    "- 表示当某条件成立时，就循环\n",
    "- 不知道具体循环次数，但能确定循环色成立条件的时候用while循环\n",
    "- while循环玉语法：\n",
    "     \n",
    "      while 条件表达式\n",
    "        语句块\n",
    "      # 另外一种表示方法\n",
    "      while 条件表达式：\n",
    "        语句块1\n",
    "      else：\n",
    "        语句块2\n"
   ]
  },
  {
   "cell_type": "code",
   "execution_count": 2,
   "metadata": {},
   "outputs": [
    {
     "name": "stdout",
     "output_type": "stream",
     "text": [
      "第1年拿了106700.0块钱\n",
      "第2年拿了113848.9块钱\n",
      "第3年拿了121476.77629999998块钱\n",
      "第4年拿了129615.72031209998块钱\n",
      "第5年拿了138299.97357301068块钱\n",
      "第6年拿了147566.07180240238块钱\n",
      "第7年拿了157452.99861316333块钱\n",
      "第8年拿了168002.34952024528块钱\n",
      "第9年拿了179258.5069381017块钱\n",
      "第10年拿了191268.8269029545块钱\n",
      "第11年拿了204083.83830545243块钱\n"
     ]
    }
   ],
   "source": [
    "# 如果说年利率是6.7%，本利每年翻过，则多少年后本钱会翻倍\n",
    "\n",
    "initial = 100000\n",
    "year = 0\n",
    "while initial < 200000:\n",
    "    initial = initial * (1+0.067)\n",
    "    year += 1 # year = year + 1\n",
    "    print(\"第{0}年拿了{1}块钱\".format(year, initial))"
   ]
  },
  {
   "cell_type": "code",
   "execution_count": 3,
   "metadata": {},
   "outputs": [
    {
     "name": "stdout",
     "output_type": "stream",
     "text": [
      "第1年拿了106700.0块钱\n",
      "第2年拿了113848.9块钱\n",
      "第3年拿了121476.77629999998块钱\n",
      "第4年拿了129615.72031209998块钱\n",
      "第5年拿了138299.97357301068块钱\n",
      "第6年拿了147566.07180240238块钱\n",
      "第7年拿了157452.99861316333块钱\n",
      "第8年拿了168002.34952024528块钱\n",
      "第9年拿了179258.5069381017块钱\n",
      "第10年拿了191268.8269029545块钱\n",
      "第11年拿了204083.83830545243块钱\n",
      "你大爷的，终于翻倍了\n",
      "当年10万可以盖个房子，现在儿子结婚，20万可以盖个厨房了\n"
     ]
    }
   ],
   "source": [
    "# 如果说年利率是6.7%，本利每年翻过，则多少年后本钱会翻倍\n",
    "# 如果拿到的钱翻倍，则用print庆祝一下\n",
    "initial = 100000\n",
    "year = 0\n",
    "while initial < 200000:\n",
    "    initial = initial * (1+0.067)\n",
    "    year += 1 # year = year + 1\n",
    "    print(\"第{0}年拿了{1}块钱\".format(year, initial))\n",
    "else:\n",
    "    print(\"你大爷的，终于翻倍了\")\n",
    "    print(\"当年10万可以盖个房子，现在儿子结婚，20万可以盖个厨房了\")"
   ]
  },
  {
   "cell_type": "markdown",
   "metadata": {},
   "source": [
    "# 函数\n",
    "- 代码的一种组织形式\n",
    "- 一个函数一般完成一项特定的功能\n",
    "- 函数使用\n",
    "  - 函数需要先定义\n",
    "  - 使用函数，俗称调用\n",
    "  "
   ]
  },
  {
   "cell_type": "code",
   "execution_count": 6,
   "metadata": {},
   "outputs": [],
   "source": [
    "# 定义一个函数\n",
    "# 只是定义的时候不会执行\n",
    "# 1，def关键字，后面跟一个空格\n",
    "# 2，函数名，自己定义，起名需要遵循命名规则，约定俗成，大驼峰命名只给类起名\n",
    "# 3，后面括号和冒号不能省，括号内可以有参数\n",
    "# 4，函数内所有代码缩进\n",
    "def func():\n",
    "    print(\"我是一个函数\")\n",
    "    print(\"我要完成一定功能\")\n",
    "    print(\"我结束了\")"
   ]
  },
  {
   "cell_type": "code",
   "execution_count": 8,
   "metadata": {},
   "outputs": [
    {
     "name": "stdout",
     "output_type": "stream",
     "text": [
      "我是一个函数\n",
      "我要完成一定功能\n",
      "我结束了\n"
     ]
    }
   ],
   "source": [
    "# 函数的调用\n",
    "# 直接函数名后面跟括号\n",
    "func()"
   ]
  },
  {
   "cell_type": "markdown",
   "metadata": {},
   "source": [
    "### 函数得参数和返回值\n",
    "- 参数：负责给函数传递一些必要的数据或者信息\n",
    "  - 形参（形式参数）：在函数定义的时候用到的参数没有具体值，只是一个占位符，成为形参\n",
    "  - 实参（实际参数）：在调用函数的时候输入的值\n",
    "- 返回值：函数的执行结果\n",
    "  - 使用return关键字 \n",
    "  - 如果没有return，默认返回一个None\n",
    "  - 函数一旦执行return语句，则无条件返回，即结束函数的执行"
   ]
  },
  {
   "cell_type": "code",
   "execution_count": 9,
   "metadata": {},
   "outputs": [
    {
     "name": "stdout",
     "output_type": "stream",
     "text": [
      "fukang,你肿么了\n",
      "sir，你不理我我就走了\n"
     ]
    }
   ],
   "source": [
    "# 函数的定义和使用\n",
    "# 参数person只是一个符号，代表的是调用的时候的某一个数据\n",
    "# 调用的时候，会用p的值代替函数中所有的person\n",
    "def hello(person):\n",
    "    print(\"{0},你肿么了\".format(person))\n",
    "    print(\"sir，你不理我我就走了\")\n",
    "  \n",
    "p = \"fukang\"\n",
    "hello(p)"
   ]
  },
  {
   "cell_type": "code",
   "execution_count": 10,
   "metadata": {},
   "outputs": [
    {
     "name": "stdout",
     "output_type": "stream",
     "text": [
      "fukang,你肿么了\n",
      "sir，你不理我我就走了\n",
      "我已经跟fukang打过招呼了，fukang不理我\n"
     ]
    }
   ],
   "source": [
    "# return语句的基本应用\n",
    "# 函数打完招呼后返回一句话\n",
    "def hello(person):\n",
    "    print(\"{0},你肿么了\".format(person))\n",
    "    print(\"sir，你不理我我就走了\")\n",
    "    \n",
    "    return \"我已经跟{0}打过招呼了，{1}不理我\".format(person, person)\n",
    "p = \"fukang\"\n",
    "rst = hello(p)\n",
    "\n",
    "print(rst)"
   ]
  },
  {
   "cell_type": "code",
   "execution_count": 11,
   "metadata": {},
   "outputs": [
    {
     "name": "stdout",
     "output_type": "stream",
     "text": [
      "fukang,你肿么了\n",
      "哈哈，我提前结束了\n"
     ]
    }
   ],
   "source": [
    "# return案例2\n",
    "\n",
    "def hello(person):\n",
    "    print(\"{0},你肿么了\".format(person))\n",
    "    return(\"哈哈，我提前结束了\")\n",
    "    print(\"sir，你不理我我就走了\")\n",
    "    \n",
    "    return \"我已经跟{0}打过招呼了，{1}不理我\".format(person, person)\n",
    "p = \"fukang\"\n",
    "rst = hello(p)\n",
    "\n",
    "print(rst)"
   ]
  },
  {
   "cell_type": "code",
   "execution_count": 17,
   "metadata": {},
   "outputs": [
    {
     "name": "stdout",
     "output_type": "stream",
     "text": [
      "Help on built-in function print in module builtins:\n",
      "\n",
      "print(...)\n",
      "    print(value, ..., sep=' ', end='\\n', file=sys.stdout, flush=False)\n",
      "    \n",
      "    Prints the values to a stream, or to sys.stdout by default.\n",
      "    Optional keyword arguments:\n",
      "    file:  a file-like object (stream); defaults to the current sys.stdout.\n",
      "    sep:   string inserted between values, default a space.\n",
      "    end:   string appended after the last value, default a newline.\n",
      "    flush: whether to forcibly flush the stream.\n",
      "\n"
     ]
    }
   ],
   "source": [
    "# 查找函数帮助文档\n",
    "# 1，用help函数\n",
    "help(print)"
   ]
  },
  {
   "cell_type": "code",
   "execution_count": 21,
   "metadata": {},
   "outputs": [
    {
     "name": "stdout",
     "output_type": "stream",
     "text": [
      "1 ----------------\n",
      "2 4 ----------------\n",
      "3 6 9 ----------------\n",
      "4 8 12 16 ----------------\n",
      "5 10 15 20 25 ----------------\n",
      "6 12 18 24 30 36 ----------------\n",
      "7 14 21 28 35 42 49 ----------------\n",
      "8 16 24 32 40 48 56 64 ----------------\n",
      "9 18 27 36 45 54 63 72 81 ----------------\n"
     ]
    }
   ],
   "source": [
    "# 九九乘法表\n",
    "# version 1\n",
    "for row in range(1,10):\n",
    "    # 打印一行\n",
    "    # print(\"{0} -- a line\".format(row))\n",
    "    for col in range(1, row+1):\n",
    "        # print函数默认任务打印完毕后换行\n",
    "        print(row * col, end=\" \")\n",
    "    print(\"----------------\")\n",
    "    "
   ]
  },
  {
   "cell_type": "code",
   "execution_count": 33,
   "metadata": {},
   "outputs": [
    {
     "name": "stdout",
     "output_type": "stream",
     "text": [
      "1 \n",
      "2 4 \n",
      "3 6 9 \n",
      "4 8 12 16 \n",
      "5 10 15 20 25 \n",
      "6 12 18 24 30 36 \n",
      "7 14 21 28 35 42 49 \n",
      "8 16 24 32 40 48 56 64 \n",
      "9 18 27 36 45 54 63 72 81 \n"
     ]
    }
   ],
   "source": [
    "# 定义一个函数，打印一行九九乘法表\n",
    "def printLine(row):\n",
    "    for col in range(1, row+1):\n",
    "    # print函数默认任务打印完毕后换行\n",
    "        print(row * col, end=\" \")\n",
    "    print(\"\")\n",
    "   \n",
    "# 九九乘法表\n",
    "# version 2\n",
    "for row in range(1,10):\n",
    "    printLine(row)\n"
   ]
  },
  {
   "cell_type": "markdown",
   "metadata": {},
   "source": [
    "## 参数详解\n",
    "- [参考资料]（https://www.cnblogs.com/bingabcd/p/667138.html）\n",
    "- python参考资料：headfirst python -> 零基础入门学习python（小甲鱼） -> 习题 -> 后期可以考虑腾讯公开课免费课\n",
    "- 参数分类\n",
    "  - 普通参数\n",
    "  - 默认参数\n",
    "  - 关键字参数\n",
    "  - 收集参数\n",
    "  \n",
    "- 普通参数\n",
    "  - 参见上例\n",
    "  - 定义的时候直接定义变量名\n",
    "  - 调用的时候直接把变量或者值放入指定位置\n",
    "  \n",
    "  \n",
    "        def 函数名（参数1，参数2，...）：\n",
    "        函数体\n",
    "        # 调用\n",
    "        函数名（value1，value2，....）\n",
    "        # 调用的时候，具体值参考的是位置，按位置赋值\n",
    "        \n",
    "- 默认参数\n",
    "  - 形参带有默认值\n",
    "  - 调用的时候，如果没有对相应形参赋值，则使用默认值\n",
    "  \n",
    "        def func_name(p1=v1, p2=v2......):\n",
    "          func_block\n",
    "        # 调用1\n",
    "        func_name()\n",
    "        \n",
    "        # 调用2\n",
    "        value = 100\n",
    "        value = 200\n",
    "        func_name(value1, value2)"
   ]
  },
  {
   "cell_type": "code",
   "execution_count": 38,
   "metadata": {},
   "outputs": [],
   "source": [
    "# 默认参数实例\n",
    "# 报名函数，需要知道学生性别\n",
    "# 学习python的学生基本都是男生，所以报名的时候没有特别指定，认为是男生\n",
    "def reg(name, age, gender = \"male\"):\n",
    "    if gender == \"male\":\n",
    "        print(\"{0} is {1}, and he is a good student\".format(name, age))\n",
    "    else:\n",
    "        print(\"{0} is {1}, and she is a good student\".format(name, age))"
   ]
  },
  {
   "cell_type": "code",
   "execution_count": 39,
   "metadata": {},
   "outputs": [
    {
     "name": "stdout",
     "output_type": "stream",
     "text": [
      "fukang is 22, and he is a good student\n",
      "allan is 23, and she is a good student\n"
     ]
    }
   ],
   "source": [
    "# 调用默认参数函数案例1\n",
    "reg(\"fukang\", 22)\n",
    "reg(\"allan\", 23, \"female\")"
   ]
  },
  {
   "cell_type": "code",
   "execution_count": null,
   "metadata": {},
   "outputs": [],
   "source": []
  }
 ],
 "metadata": {
  "kernelspec": {
   "display_name": "Python 3",
   "language": "python",
   "name": "python3"
  },
  "language_info": {
   "codemirror_mode": {
    "name": "ipython",
    "version": 3
   },
   "file_extension": ".py",
   "mimetype": "text/x-python",
   "name": "python",
   "nbconvert_exporter": "python",
   "pygments_lexer": "ipython3",
   "version": "3.7.4"
  }
 },
 "nbformat": 4,
 "nbformat_minor": 2
}
