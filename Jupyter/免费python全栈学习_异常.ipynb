{
 "cells": [
  {
   "cell_type": "markdown",
   "metadata": {},
   "source": [
    "# 异常\n",
    "- 广义上的错误\n",
    "- 错误指的是可以认为避免\n",
    "- 异常是指在语法逻辑正确的前提下，出现的问题\n",
    "- 在python里，异常是一个类，可以处理和使用\n",
    "- "
   ]
  },
  {
   "cell_type": "code",
   "execution_count": 4,
   "metadata": {},
   "outputs": [
    {
     "name": "stdout",
     "output_type": "stream",
     "text": [
      "hahahaha\n"
     ]
    }
   ],
   "source": [
    "print(\"hahahaha\")"
   ]
  },
  {
   "cell_type": "markdown",
   "metadata": {},
   "source": [
    "# 异常的分类\n",
    "\n",
    "    AssertError 断言语句（assert）失败\n",
    "\n",
    "    AttributeError 尝试访问未知的对象属性\n",
    "\n",
    "    EOFError 用户输入文件末尾标志EOF（Ctrl+d）\n",
    "\n",
    "    FloatingPointError 浮点计算错误\n",
    "\n",
    "    GeneratorExit generator.close()方法被调用的时候\n",
    "\n",
    "    ImportError 导入模块失败的时候\n",
    "\n",
    "    IndexError 索引超出序列的范围\n",
    "\n",
    "    KeyError 字典中查找一个不存在的关键字\n",
    "\n",
    "    KeyboardInterrupt 用户输入中断键（Ctrl+c）\n",
    "\n",
    "    MemoryError 内存溢出（可通过删除对象释放内存）\n",
    "\n",
    "    NameError 尝试访问一个不存在的变量\n",
    "\n",
    "    NotImplementedError 尚未实现的方法\n",
    "\n",
    "    OSError 操作系统产生的异常（例如打开一个不存在的文件）\n",
    "\n",
    "    OverflowError 数值运算超出最大限制\n",
    "\n",
    "    ReferenceError 弱引用（weak reference）试图访问一个已经被垃圾回收机制回收了的对象\n",
    "\n",
    "    RuntimeError 一般的运行时错误\n",
    "\n",
    "    StopIteration 迭代器没有更多的值\n",
    "\n",
    "    SyntaxError Python的语法错误\n",
    "\n",
    "    IndentationError 缩进错误\n",
    "\n",
    "    TabError Tab和空格混合使用\n",
    "\n",
    "    SystemError Python编译器系统错误\n",
    "\n",
    "    SystemExit Python编译器进程被关闭\n",
    "\n",
    "    TypeError 不同类型间的无效操作\n",
    "\n",
    "    UnboundLocalError 访问一个未初始化的本地变量（NameError的子类）\n",
    "\n",
    "    UnicodeError Unicode相关的错误（ValueError的子类）\n",
    "\n",
    "    UnicodeEncodeError Unicode编码时的错误（UnicodeError的子类）\n",
    "\n",
    "    UnicodeDecodeError Unicode解码时的错误（UnicodeError的子类）\n",
    "\n",
    "    UnicodeTranslateError Unicode转换时的错误（UnicodeError的子类）\n",
    "\n",
    "    ValueError 传入无效的参数\n",
    "\n",
    "    ZeroDivisionError 除数为零\n",
    "\n"
   ]
  },
  {
   "cell_type": "code",
   "execution_count": 1,
   "metadata": {},
   "outputs": [
    {
     "name": "stdout",
     "output_type": "stream",
     "text": [
      "plz input your num:2\n",
      "50.0\n"
     ]
    }
   ],
   "source": [
    "l = [1,2,3,4,5]\n",
    "# 常常犯的除零错误\n",
    "num = int(input(\"plz input your num:\"))\n",
    "print(100/num)"
   ]
  },
  {
   "cell_type": "markdown",
   "metadata": {},
   "source": [
    "# 异常处理\n",
    "- 不能保证程序永远正确运行\n",
    "- 但是，必须保证程序在最坏的情况下得到的问题被妥善处理\n",
    "- python的异常处理模块全部语法为：\n",
    "      \n",
    "      try:\n",
    "        尝试实现某个操作，\n",
    "        如果没出现异常，任务就可以完成\n",
    "        如果出现异常，将异常从当前代码块扔出去尝试解决异常\n",
    "\n",
    "      except 异常类型1:\n",
    "        解决方案1：用于尝试在此处处理异常解决问题\n",
    "\n",
    "      except 异常类型2：\n",
    "        解决方案2：用于尝试在此处处理异常解决问题\n",
    "\n",
    "      except (异常类型1,异常类型2...)\n",
    "        解决方案：针对多个异常使用相同的处理方式\n",
    "\n",
    "      excpet:\n",
    "        解决方案：所有异常的解决方案\n",
    "\n",
    "      else:\n",
    "        如果没有出现任何异常，将会执行此处代码\n",
    "\n",
    "      finally:\n",
    "        管你有没有异常都要执行的代码\n",
    "        \n",
    "- 流程\n",
    "  - 1 执行try下面的语句\n",
    "  - 2 如果出现异常，则在except语句中查找对应异常并进行处理\n",
    "  - 3 如果没有出现异常，则执行else语句内容\n",
    "  - 4 最后，不管是否出现异常，都要执行finally语句\n",
    "- 除except（最好一个）此外，else和finally可选\n"
   ]
  },
  {
   "cell_type": "code",
   "execution_count": null,
   "metadata": {},
   "outputs": [],
   "source": [
    "# 简单异常案例\n",
    "try:\n",
    "    num = int(input(\"Plz input your number:\"))\n",
    "    rst = 100/num\n",
    "    print(\"计算结果是： {0}\".format(rst))\n",
    "except:\n",
    "    print(\"你特娘的输入的啥玩意儿\")\n",
    "    # exit是退出程序的意思\n",
    "    exit()"
   ]
  },
  {
   "cell_type": "code",
   "execution_count": 2,
   "metadata": {},
   "outputs": [
    {
     "name": "stdout",
     "output_type": "stream",
     "text": [
      "Plz input your number:4\n",
      "计算结果是： 25.0\n",
      "hahahah\n"
     ]
    }
   ],
   "source": [
    "# 简单异常案例\n",
    "# 给出提示信息\n",
    "try:\n",
    "    num = int(input(\"Plz input your number:\"))\n",
    "    rst = 100/num\n",
    "    print(\"计算结果是： {0}\".format(rst))\n",
    "\n",
    "# 如果是多种error情况\n",
    "# 需要把越具体的错误，越往前放\n",
    "# 在异常类继承关系中，越是子类的异常，越要往前放。\n",
    "# 越是父类的异常，越往后放\n",
    "\n",
    "# 在处理异常的时候，一旦拦截到某一个异常，则不再继续往下查看，直接进行下一个代码\n",
    "# 即有finally则执行finally语句块，否则就执行下一个大的语句\n",
    "except ZeroDivisionError as e:\n",
    "    print(\"你特娘的输入的啥玩意儿\")\n",
    "    print(e)\n",
    "    # exit是退出程序的意思\n",
    "    exit()\n",
    "    \n",
    "except NameError as e:\n",
    "    print(\"名起错了\")\n",
    "    print(e)\n",
    "    exit()\n",
    "    \n",
    "except AttibuteError as e:\n",
    "    print(\"好像属性有问题\")\n",
    "    print(e)\n",
    "    exit()\n",
    "# 所有异常都是继承自exception\n",
    "# 如果写下面这句话，任何一场都会拦截住\n",
    "# 而且，下面这句话一定是最后一个exception\n",
    "except Exception as e:\n",
    "    print(\"我也不知道哪里错了\")\n",
    "    print(e)\n",
    "except ValueError as e:\n",
    "    print(\"No>>>>>>>>>>\")\n",
    "print(\"hahahah\")"
   ]
  },
  {
   "cell_type": "code",
   "execution_count": 4,
   "metadata": {},
   "outputs": [],
   "source": [
    "import matplotlib.pyplot as plt"
   ]
  },
  {
   "cell_type": "code",
   "execution_count": 5,
   "metadata": {},
   "outputs": [
    {
     "name": "stdout",
     "output_type": "stream",
     "text": [
      "[0.   0.05 0.1  0.15 0.2  0.25 0.3  0.35 0.4  0.45 0.5  0.55 0.6  0.65\n",
      " 0.7  0.75 0.8  0.85 0.9  0.95]\n"
     ]
    }
   ],
   "source": [
    "import numpy as np\n",
    "\n",
    "x = np.arange(0, 1, 0.05)\n",
    "\n",
    "print(x)\n"
   ]
  },
  {
   "cell_type": "code",
   "execution_count": 6,
   "metadata": {},
   "outputs": [
    {
     "name": "stdout",
     "output_type": "stream",
     "text": [
      "[ 0.00000000e+00  3.09016994e-01  5.87785252e-01  8.09016994e-01\n",
      "  9.51056516e-01  1.00000000e+00  9.51056516e-01  8.09016994e-01\n",
      "  5.87785252e-01  3.09016994e-01  1.22464680e-16 -3.09016994e-01\n",
      " -5.87785252e-01 -8.09016994e-01 -9.51056516e-01 -1.00000000e+00\n",
      " -9.51056516e-01 -8.09016994e-01 -5.87785252e-01 -3.09016994e-01]\n"
     ]
    }
   ],
   "source": [
    "# y = sin(2 * pi * x)\n",
    "y = np.sin(2 * np.pi * x)\n",
    "print(y)"
   ]
  },
  {
   "cell_type": "code",
   "execution_count": 13,
   "metadata": {},
   "outputs": [
    {
     "data": {
      "image/png": "[encoded data removed]",
      "text/plain": [
       "<Figure size 432x288 with 1 Axes>"
      ]
     },
     "metadata": {
      "needs_background": "light"
     },
     "output_type": "display_data"
    }
   ],
   "source": [
    "plt.plot(x, y, \"b--*\", label=\"sin\")\n",
    "plt.title(\"my first plot\")\n",
    "plt.xlabel(\"x label\")\n",
    "plt.ylabel(\"y label\")\n",
    "plt.legend(loc=\"best\")\n",
    "plt.show()"
   ]
  },
  {
   "cell_type": "code",
   "execution_count": 8,
   "metadata": {},
   "outputs": [
    {
     "data": {
      "image/png": "[encoded data removed]",
      "text/plain": [
       "<Figure size 432x288 with 4 Axes>"
      ]
     },
     "metadata": {
      "needs_background": "light"
     },
     "output_type": "display_data"
    }
   ],
   "source": [
    "\n",
    "fig, ax = plt.subplots(2,2)\n",
    "ax[0, 1].plot(x, y)\n",
    "plt.show()"
   ]
  },
  {
   "cell_type": "code",
   "execution_count": 10,
   "metadata": {},
   "outputs": [
    {
     "name": "stdout",
     "output_type": "stream",
     "text": [
      "[ 1.00000000e+00  9.51056516e-01  8.09016994e-01  5.87785252e-01\n",
      "  3.09016994e-01  6.12323400e-17 -3.09016994e-01 -5.87785252e-01\n",
      " -8.09016994e-01 -9.51056516e-01 -1.00000000e+00 -9.51056516e-01\n",
      " -8.09016994e-01 -5.87785252e-01 -3.09016994e-01 -1.83697020e-16\n",
      "  3.09016994e-01  5.87785252e-01  8.09016994e-01  9.51056516e-01]\n"
     ]
    }
   ],
   "source": [
    "# y2 = np.cos(2 * pi * x)\n",
    "y2 = np.cos(2 * np.pi * x)\n",
    "print(y2)"
   ]
  },
  {
   "cell_type": "code",
   "execution_count": 22,
   "metadata": {},
   "outputs": [
    {
     "data": {
      "image/png": "[encoded data removed]",
      "text/plain": [
       "<Figure size 432x288 with 1 Axes>"
      ]
     },
     "metadata": {
      "needs_background": "light"
     },
     "output_type": "display_data"
    }
   ],
   "source": [
    "fig, ax = plt.subplots()\n",
    "ax.plot(x, y, \"g--*\", label = \"sin\")\n",
    "ax.plot(x, y2, \"r--o\", label = \"cos\")\n",
    "ax.set(title = \"hahaha\")\n",
    "legend = ax.legend(loc = \"upper center\")\n",
    "plt.show()"
   ]
  },
  {
   "cell_type": "code",
   "execution_count": 23,
   "metadata": {},
   "outputs": [],
   "source": [
    "fig.savefig(\"myfig.png\")"
   ]
  },
  {
   "cell_type": "markdown",
   "metadata": {},
   "source": [
    "# 用户手动引发异常\n",
    "- 当某些情况，用户希望自己引发一个异常的时候，可以使用\n",
    "- raise 关键词来引发异常"
   ]
  },
  {
   "cell_type": "code",
   "execution_count": 3,
   "metadata": {},
   "outputs": [
    {
     "name": "stdout",
     "output_type": "stream",
     "text": [
      "我爱王晓静\n",
      "3.1415926\n",
      "ValueError\n",
      "我肯定会被执行的\n"
     ]
    }
   ],
   "source": [
    "# raise\n",
    "try:\n",
    "    print(\"我爱王晓静\")\n",
    "    print(3.1415926)\n",
    "    # 手动引发一个异常\n",
    "    # 注意语法：raise ErrorClassName\n",
    "    raise ValueError\n",
    "    print(\"还没完啊\")\n",
    "except NameError as e:\n",
    "    print(\"NameError\")\n",
    "except ValueError as e:\n",
    "    print(\"ValueError\")\n",
    "except Exception as e:\n",
    "    print(\"有异常\")\n",
    "finally:\n",
    "    print(\"我肯定会被执行的\")"
   ]
  },
  {
   "cell_type": "code",
   "execution_count": 5,
   "metadata": {},
   "outputs": [
    {
     "name": "stdout",
     "output_type": "stream",
     "text": [
      "我爱王晓静\n",
      "3.1415926\n",
      "ValueError\n",
      "我肯定会被执行的\n"
     ]
    }
   ],
   "source": [
    "# raise 2\n",
    "# 自己定义异常\n",
    "# 需要注意：自定义异常必须是系统异常的子类\n",
    "class DanaError(ValueError):\n",
    "    pass\n",
    "try:\n",
    "    print(\"我爱王晓静\")\n",
    "    print(3.1415926)\n",
    "    # 手动引发一个异常\n",
    "    # 注意语法：raise ErrorClassName\n",
    "    raise DanaError\n",
    "    print(\"还没完啊\")\n",
    "except NameError as e:\n",
    "    print(\"NameError\")\n",
    "# except DanaError as e:\n",
    "    # print(\"DanaError\")\n",
    "except ValueError as e:\n",
    "    print(\"ValueError\")\n",
    "except Exception as e:\n",
    "    print(\"有异常\")\n",
    "finally:\n",
    "    print(\"我肯定会被执行的\")"
   ]
  },
  {
   "cell_type": "code",
   "execution_count": 7,
   "metadata": {},
   "outputs": [
    {
     "name": "stdout",
     "output_type": "stream",
     "text": [
      "Plz input your number:dad\n",
      "Exception\n",
      "反正我会被执行\n"
     ]
    }
   ],
   "source": [
    "# else语句案例\n",
    "try:\n",
    "    num = int(input(\"Plz input your number:\"))\n",
    "    rst = 100/num\n",
    "    print(\"计算结果是： {0}\".format(rst))\n",
    "except Exception as e:\n",
    "    print(\"Exception\")\n",
    "    \n",
    "else:\n",
    "    print(\"No Exception\")\n",
    "finally:\n",
    "    print(\"反正我会被执行\")\n"
   ]
  },
  {
   "cell_type": "markdown",
   "metadata": {},
   "source": [
    "# 关于自定义异常\n",
    "- 只要是raise异常，则推荐自定义异常\n",
    "- 在自定义异常的时候，一般包含以下内容：\n",
    "  - 自定义发生异常的异常代码\n",
    "  - 自定义发生异常后的问题提示\n",
    "  - 自定义发生异常的行数\n",
    "- 最终得目的是，一旦发生异常，方便程序员快速定位错误现场\n"
   ]
  },
  {
   "cell_type": "code",
   "execution_count": null,
   "metadata": {},
   "outputs": [],
   "source": []
  },
  {
   "cell_type": "code",
   "execution_count": null,
   "metadata": {},
   "outputs": [],
   "source": []
  }
 ],
 "metadata": {
  "kernelspec": {
   "display_name": "Python 3",
   "language": "python",
   "name": "python3"
  },
  "language_info": {
   "codemirror_mode": {
    "name": "ipython",
    "version": 3
   },
   "file_extension": ".py",
   "mimetype": "text/x-python",
   "name": "python",
   "nbconvert_exporter": "python",
   "pygments_lexer": "ipython3",
   "version": "3.7.4"
  },
  "toc": {
   "base_numbering": 1,
   "nav_menu": {},
   "number_sections": true,
   "sideBar": true,
   "skip_h1_title": false,
   "title_cell": "Table of Contents",
   "title_sidebar": "Contents",
   "toc_cell": false,
   "toc_position": {},
   "toc_section_display": true,
   "toc_window_display": false
  }
 },
 "nbformat": 4,
 "nbformat_minor": 2
}
