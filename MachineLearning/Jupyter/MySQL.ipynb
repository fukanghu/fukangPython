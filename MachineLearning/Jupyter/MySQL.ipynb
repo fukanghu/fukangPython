{
 "cells": [
  {
   "cell_type": "markdown",
   "metadata": {},
   "source": [
    "# MySQL学习笔记\n",
    "- 关系型数据库\n"
   ]
  },
  {
   "cell_type": "markdown",
   "metadata": {},
   "source": [
    "## 如何使用终端操作数据库\n",
    "- 输入mysql -uroot -phfk7613373\n",
    "- 如何查询数据库服务器中所有的数据库：show databases;\n",
    "- 如何选中某一个数据库进行操作\n",
    "    - use xxx\n",
    "    - show tables;\n",
    "    - select * from xxx;\n",
    "    - select * from xxx where ID=1;\n",
    "    - exit;\n",
    "    "
   ]
  },
  {
   "attachments": {},
   "cell_type": "markdown",
   "metadata": {},
   "source": [
    "## 如何在数据库服务器中创建我们的数据库\n",
    "- 创建\n",
    "    - create database test;\n",
    "    - mysql> CREATE TABLE pet(\n",
    "    -> name VARCHAR(20),\n",
    "    -> owner VARCHAR(20),\n",
    "    -> species VARCHAR(20),\n",
    "    -> sex CHAR(1),\n",
    "    -> birth DATE,\n",
    "    -> death DATE);\n",
    "Query OK, 0 rows affected (0.07 sec)\n",
    "    - 查看数据表是否创建成功\n",
    "mysql> show tables;\n",
    "+----------------+\n",
    "| Tables_in_test |\n",
    "+----------------+\n",
    "| pet            |\n",
    "+----------------+\n",
    "1 row in set (0.01 sec)\n",
    "\n",
    "mysql>\n",
    "\n",
    "\n",
    "- 查看创建好的数据表的结构\n",
    "    - describe pet\n",
    "mysql> describe pet;\n",
    "+---------+-------------+------+-----+---------+-------+\n",
    "| Field   | Type        | Null | Key | Default | Extra |\n",
    "+---------+-------------+------+-----+---------+-------+\n",
    "| name    | varchar(20) | YES  |     | NULL    |       |\n",
    "| owner   | varchar(20) | YES  |     | NULL    |       |\n",
    "| species | varchar(20) | YES  |     | NULL    |       |\n",
    "| sex     | char(1)     | YES  |     | NULL    |       |\n",
    "| birth   | date        | YES  |     | NULL    |       |\n",
    "| death   | date        | YES  |     | NULL    |       |\n",
    "+---------+-------------+------+-----+---------+-------+\n",
    "6 rows in set (0.01 sec)\n",
    "\n",
    "- 往数据表中添加数据记录\n",
    "    - INCERT INTO pet\n",
    "mysql> INSERT INTO pet\n",
    "    -> VALUES('Puffball','Diane','hamster','f','1993-03-30',NULL);\n",
    "Query OK, 1 row affected (0.01 sec)\n",
    "- 再一次查询\n",
    "mysql> select * from pet;\n",
    "+----------+-------+---------+------+------------+-------+\n",
    "| name     | owner | species | sex  | birth      | death |\n",
    "+----------+-------+---------+------+------------+-------+\n",
    "| Puffball | Diane | hamster | f    | 1993-03-30 | NULL  |\n",
    "+----------+-------+---------+------+------------+-------+\n",
    "1 row in set (0.00 sec)\n",
    "- 嵌入\n",
    "mysql> INSERT INTO pet\n",
    "    -> VALUES('旺财','周星驰','狗','公','1990-01-01',NULL);\n",
    "Query OK, 1 row affected (0.02 sec)\n",
    "mysql> select * from pet;\n",
    "+----------+--------+---------+------+------------+-------+\n",
    "| name     | owner  | species | sex  | birth      | death |\n",
    "+----------+--------+---------+------+------------+-------+\n",
    "| Puffball | Diane  | hamster | f    | 1993-03-30 | NULL  |\n",
    "| 旺财     | 周星驰  | 狗      | 公   | 1990-01-01 | NULL  |\n",
    "+----------+--------+---------+------+------------+-------+\n",
    "2 rows in set (0.00 sec)\n",
    "- MySQL常用数据类型\n",
    "    - 数值\n",
    "    - 日期和时间\n",
    "    - 字符串\n",
    "    \n",
    "- 数据来我i行如何选择\n",
    "    - 日期：按照格式\n",
    "    - 数值和字符串：按照大小"
   ]
  },
  {
   "cell_type": "code",
   "execution_count": null,
   "metadata": {},
   "outputs": [],
   "source": []
  }
 ],
 "metadata": {
  "kernelspec": {
   "display_name": "Python 3",
   "language": "python",
   "name": "python3"
  },
  "language_info": {
   "codemirror_mode": {
    "name": "ipython",
    "version": 3
   },
   "file_extension": ".py",
   "mimetype": "text/x-python",
   "name": "python",
   "nbconvert_exporter": "python",
   "pygments_lexer": "ipython3",
   "version": "3.7.6"
  }
 },
 "nbformat": 4,
 "nbformat_minor": 4
}
