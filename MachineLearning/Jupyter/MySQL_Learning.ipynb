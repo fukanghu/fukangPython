{
 "cells": [
  {
   "cell_type": "code",
   "execution_count": 10,
   "metadata": {},
   "outputs": [
    {
     "name": "stdout",
     "output_type": "stream",
     "text": [
      "数据库成功连接\n",
      "表格创建成功\n"
     ]
    }
   ],
   "source": [
    "import pymysql\n",
    "\n",
    "DBHOST = '127.0.0.1'\n",
    "DBUSER = 'root'\n",
    "DBPASS = 'hfk7613373'\n",
    "DBNAME = 'test'\n",
    "\n",
    "try:\n",
    "    db = pymysql.connect(DBHOST, DBUSER, DBPASS, DBNAME)\n",
    "    print(\"数据库成功连接\")\n",
    "    cur = db.cursor()\n",
    "    cur.execute(\"DROP TABLE IF EXISITS Student\")\n",
    "    sql = 'CREATE TABLE Student(name CHAR(20), NOT NULL, Email CHAR(20), Age int))'\n",
    "    print(\"表格创建成功\")\n",
    "except pymysql.Error as e:\n",
    "    print(\"表格创建失败：\"+str(e))\n",
    "    "
   ]
  },
  {
   "cell_type": "code",
   "execution_count": null,
   "metadata": {},
   "outputs": [],
   "source": []
  }
 ],
 "metadata": {
  "kernelspec": {
   "display_name": "Python 3",
   "language": "python",
   "name": "python3"
  },
  "language_info": {
   "codemirror_mode": {
    "name": "ipython",
    "version": 3
   },
   "file_extension": ".py",
   "mimetype": "text/x-python",
   "name": "python",
   "nbconvert_exporter": "python",
   "pygments_lexer": "ipython3",
   "version": "3.7.6"
  }
 },
 "nbformat": 4,
 "nbformat_minor": 4
}
